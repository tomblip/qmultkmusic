{
 "cells": [
  {
   "cell_type": "code",
   "execution_count": 2,
   "metadata": {},
   "outputs": [
    {
     "ename": "ModuleNotFoundError",
     "evalue": "No module named 'pandas'",
     "output_type": "error",
     "traceback": [
      "\u001b[0;31m---------------------------------------------------------------------------\u001b[0m",
      "\u001b[0;31mModuleNotFoundError\u001b[0m                       Traceback (most recent call last)",
      "\u001b[0;32m/var/folders/1h/htvs6nrs77s8lbnbhqw8_lcw0000gn/T/ipykernel_36665/3529047446.py\u001b[0m in \u001b[0;36m<module>\u001b[0;34m\u001b[0m\n\u001b[1;32m      1\u001b[0m \u001b[0;32mfrom\u001b[0m \u001b[0mIPython\u001b[0m\u001b[0;34m.\u001b[0m\u001b[0mdisplay\u001b[0m \u001b[0;32mimport\u001b[0m \u001b[0mdisplay\u001b[0m\u001b[0;34m,\u001b[0m \u001b[0mImage\u001b[0m\u001b[0;34m,\u001b[0m \u001b[0mclear_output\u001b[0m\u001b[0;34m\u001b[0m\u001b[0;34m\u001b[0m\u001b[0m\n\u001b[0;32m----> 2\u001b[0;31m \u001b[0;32mimport\u001b[0m \u001b[0mpandas\u001b[0m \u001b[0;32mas\u001b[0m \u001b[0mpd\u001b[0m\u001b[0;34m\u001b[0m\u001b[0;34m\u001b[0m\u001b[0m\n\u001b[0m\u001b[1;32m      3\u001b[0m \u001b[0;32mimport\u001b[0m \u001b[0mrandom\u001b[0m\u001b[0;34m\u001b[0m\u001b[0;34m\u001b[0m\u001b[0m\n\u001b[1;32m      4\u001b[0m \u001b[0;32mimport\u001b[0m \u001b[0mre\u001b[0m\u001b[0;34m\u001b[0m\u001b[0;34m\u001b[0m\u001b[0m\n\u001b[1;32m      5\u001b[0m \u001b[0;32mimport\u001b[0m \u001b[0mnumpy\u001b[0m \u001b[0;32mas\u001b[0m \u001b[0mnp\u001b[0m\u001b[0;34m\u001b[0m\u001b[0;34m\u001b[0m\u001b[0m\n",
      "\u001b[0;31mModuleNotFoundError\u001b[0m: No module named 'pandas'"
     ]
    }
   ],
   "source": [
    "from IPython.display import display, Image, clear_output\n",
    "import pandas as pd\n",
    "import random \n",
    "import re \n",
    "import numpy as np\n",
    "import music21 as m21\n",
    "import time\n",
    "import datetime\n",
    "import nltk \n",
    "from nltk.stem.wordnet import WordNetLemmatizer\n",
    "from nltk.stem import PorterStemmer"
   ]
  },
  {
   "cell_type": "code",
   "execution_count": 3,
   "metadata": {},
   "outputs": [
    {
     "name": "stdout",
     "output_type": "stream",
     "text": [
      "Collecting pandas\n",
      "  Using cached https://files.pythonhosted.org/packages/56/dd/9676967eac629273b2da40c53845f28d58af1800940d9b4067fc9a735dfb/pandas-1.3.4-cp38-cp38-macosx_10_9_x86_64.whl\n",
      "Collecting pytz>=2017.3 (from pandas)\n",
      "  Using cached https://files.pythonhosted.org/packages/d3/e3/d9f046b5d1c94a3aeab15f1f867aa414f8ee9d196fae6865f1d6a0ee1a0b/pytz-2021.3-py2.py3-none-any.whl\n",
      "Collecting numpy>=1.17.3; platform_machine != \"aarch64\" and platform_machine != \"arm64\" and python_version < \"3.10\" (from pandas)\n",
      "\u001b[?25l  Downloading https://files.pythonhosted.org/packages/62/25/f7caa74a9853b9275ebb58b4a2b82608022cf43c92d540412204732ec39e/numpy-1.21.3-cp38-cp38-macosx_10_9_x86_64.whl (16.9MB)\n",
      "\u001b[K     |████████████████████████████████| 16.9MB 9.2MB/s eta 0:00:01\n",
      "\u001b[?25hRequirement already satisfied: python-dateutil>=2.7.3 in /Users/thomasking/its/lib/python3.8/site-packages (from pandas) (2.8.2)\n",
      "Requirement already satisfied: six>=1.5 in /Users/thomasking/its/lib/python3.8/site-packages (from python-dateutil>=2.7.3->pandas) (1.16.0)\n",
      "Installing collected packages: pytz, numpy, pandas\n",
      "Successfully installed numpy-1.21.3 pandas-1.3.4 pytz-2021.3\n",
      "\u001b[33mWARNING: You are using pip version 19.2.3, however version 21.3.1 is available.\n",
      "You should consider upgrading via the 'pip install --upgrade pip' command.\u001b[0m\n",
      "Note: you may need to restart the kernel to use updated packages.\n"
     ]
    }
   ],
   "source": [
    "pip install pandas"
   ]
  },
  {
   "cell_type": "code",
   "execution_count": 4,
   "metadata": {},
   "outputs": [
    {
     "name": "stdout",
     "output_type": "stream",
     "text": [
      "Collecting music21\n",
      "  Using cached https://files.pythonhosted.org/packages/7d/59/80c5d3c437acbbb587770df10961d603df9b4e619bcd6944ebd0aea55550/music21-7.1.0.tar.gz\n",
      "Collecting chardet (from music21)\n",
      "  Using cached https://files.pythonhosted.org/packages/19/c7/fa589626997dd07bd87d9269342ccb74b1720384a4d739a1872bd84fbe68/chardet-4.0.0-py2.py3-none-any.whl\n",
      "Collecting joblib (from music21)\n",
      "  Using cached https://files.pythonhosted.org/packages/3e/d5/0163eb0cfa0b673aa4fe1cd3ea9d8a81ea0f32e50807b0c295871e4aab2e/joblib-1.1.0-py2.py3-none-any.whl\n",
      "Collecting jsonpickle (from music21)\n",
      "  Using cached https://files.pythonhosted.org/packages/bb/1a/f2db026d4d682303793559f1c2bb425ba3ec0d6fd7ac63397790443f2461/jsonpickle-2.0.0-py2.py3-none-any.whl\n",
      "Collecting matplotlib (from music21)\n",
      "  Using cached https://files.pythonhosted.org/packages/14/fe/30a42edcdaf7cb809782310c90817dbe7121fc32304b80a7776e3ba2dc53/matplotlib-3.4.3-cp38-cp38-macosx_10_9_x86_64.whl\n",
      "Collecting more_itertools (from music21)\n",
      "  Using cached https://files.pythonhosted.org/packages/e0/1f/9cd11889680dc55a3612a277c8310def3f2bfc7159f12fcb647e32350380/more_itertools-8.10.0-py3-none-any.whl\n",
      "Requirement already satisfied: numpy in /Users/thomasking/its/lib/python3.8/site-packages (from music21) (1.21.3)\n",
      "Collecting webcolors>=1.5 (from music21)\n",
      "  Using cached https://files.pythonhosted.org/packages/12/05/3350559de9714b202e443a9e6312937341bd5f79f4e4f625744295e7dd17/webcolors-1.11.1-py3-none-any.whl\n",
      "Collecting pillow>=6.2.0 (from matplotlib->music21)\n",
      "  Using cached https://files.pythonhosted.org/packages/e7/05/6765368c2831c97ca3e07f21856a1332d7edd382876fb5d9248d2cabddf9/Pillow-8.4.0-cp38-cp38-macosx_10_10_x86_64.whl\n",
      "Collecting pyparsing>=2.2.1 (from matplotlib->music21)\n",
      "\u001b[?25l  Downloading https://files.pythonhosted.org/packages/b4/ce/b79d72516a799d1c282f534d49aa5aafaae172da54925e97052bbe22c4d8/pyparsing-3.0.4-py3-none-any.whl (96kB)\n",
      "\u001b[K     |████████████████████████████████| 102kB 7.7MB/s ta 0:00:011\n",
      "\u001b[?25hRequirement already satisfied: python-dateutil>=2.7 in /Users/thomasking/its/lib/python3.8/site-packages (from matplotlib->music21) (2.8.2)\n",
      "Collecting kiwisolver>=1.0.1 (from matplotlib->music21)\n",
      "  Using cached https://files.pythonhosted.org/packages/66/73/fa9d7025654c87d223b8be880975956093baaf55e5935637573283d3abc4/kiwisolver-1.3.2-cp38-cp38-macosx_10_9_x86_64.whl\n",
      "Collecting cycler>=0.10 (from matplotlib->music21)\n",
      "  Downloading https://files.pythonhosted.org/packages/5c/f9/695d6bedebd747e5eb0fe8fad57b72fdf25411273a39791cde838d5a8f51/cycler-0.11.0-py3-none-any.whl\n",
      "Requirement already satisfied: six>=1.5 in /Users/thomasking/its/lib/python3.8/site-packages (from python-dateutil>=2.7->matplotlib->music21) (1.16.0)\n",
      "Installing collected packages: chardet, joblib, jsonpickle, pillow, pyparsing, kiwisolver, cycler, matplotlib, more-itertools, webcolors, music21\n",
      "  Running setup.py install for music21 ... \u001b[?25ldone\n",
      "\u001b[?25hSuccessfully installed chardet-4.0.0 cycler-0.11.0 joblib-1.1.0 jsonpickle-2.0.0 kiwisolver-1.3.2 matplotlib-3.4.3 more-itertools-8.10.0 music21-7.1.0 pillow-8.4.0 pyparsing-3.0.4 webcolors-1.11.1\n",
      "\u001b[33mWARNING: You are using pip version 19.2.3, however version 21.3.1 is available.\n",
      "You should consider upgrading via the 'pip install --upgrade pip' command.\u001b[0m\n",
      "Note: you may need to restart the kernel to use updated packages.\n"
     ]
    }
   ],
   "source": [
    "pip install music21"
   ]
  },
  {
   "cell_type": "code",
   "execution_count": null,
   "metadata": {},
   "outputs": [],
   "source": []
  },
  {
   "cell_type": "markdown",
   "metadata": {},
   "source": [
    "# 200806695 MSC Project\n",
    "\n",
    "## An intelligent tutoring system (ITS) for music theory teaching"
   ]
  },
  {
   "cell_type": "markdown",
   "metadata": {},
   "source": [
    "### Part 1 - a non intelligent tutoring system"
   ]
  },
  {
   "cell_type": "markdown",
   "metadata": {},
   "source": [
    "#### Loading the questions data\n",
    "\n",
    " The questions are png images of notes on a stave that were generated with the music21 library. Below is a table which can be used to access the png image for the questions (or the xml if need be)."
   ]
  },
  {
   "cell_type": "code",
   "execution_count": 2,
   "metadata": {},
   "outputs": [],
   "source": [
    "# data = './q_folders/stave/labels_treble.csv'\n",
    "# data = pd.read_csv(data)\n",
    "# data.head()\n"
   ]
  },
  {
   "cell_type": "markdown",
   "metadata": {},
   "source": [
    "Below is an example of how data from the table can be used to generate a question and answer from the database."
   ]
  },
  {
   "cell_type": "code",
   "execution_count": 3,
   "metadata": {},
   "outputs": [],
   "source": [
    "# data = './q_folders/transpose/bb/labels.csv'\n",
    "# # data = './q_folders/stave/labels_treble.csv'\n",
    "# data = pd.read_csv(data)\n",
    "# data.head()\n"
   ]
  },
  {
   "cell_type": "code",
   "execution_count": 4,
   "metadata": {},
   "outputs": [],
   "source": [
    "# #random number between 0 and the length of the table\n",
    "# rand_ex = random.randint(0,len(data)-1)\n",
    "\n",
    "# file, label = data.iloc[rand_ex, 1], data.iloc[rand_ex, 2]\n",
    "# print (\"The file is called {} and the answer is {}\" .format(file, label))\n",
    "# display(Image(filename='./q_folders/transpose/bb/' + file))"
   ]
  },
  {
   "cell_type": "markdown",
   "metadata": {},
   "source": [
    "Now that we have a database of answers we can ask a user a question at random and see if they get it correct.\n"
   ]
  },
  {
   "cell_type": "code",
   "execution_count": 5,
   "metadata": {},
   "outputs": [],
   "source": [
    "# def identificationOpen(data): \n",
    "#     qs = pd.read_csv(data)\n",
    "    \n",
    "#     score = 0\n",
    "#     total = 0\n",
    "#     combo = 0 \n",
    "    \n",
    "#     while True:\n",
    "        \n",
    "#         clear_output(wait=True)\n",
    "        \n",
    "#         print ('Answer with letters A - G, type stop to end the game')\n",
    "#         print (score, '/', total)\n",
    "#         print ('combo:', combo)\n",
    "                \n",
    "#         #get q at random\n",
    "#         ex = random.randint(0,len(qs)-1)\n",
    "#         file, label = qs['pngfile'][ex], qs['label'][ex]  \n",
    "        \n",
    "#         print ('What note is this? \\n')\n",
    "\n",
    "#         display(Image(filename='./q_folders/stave/' + file))\n",
    "\n",
    "#         answer = input('')\n",
    "    \n",
    "#         #noramlise text\n",
    "#         answer = answer.upper()\n",
    "#         answer = answer.strip()\n",
    "\n",
    "#         if answer == label:\n",
    "#             print (\"Well done!\")\n",
    "#             score += 1\n",
    "#             total += 1\n",
    "#             combo += 1\n",
    "\n",
    "#             continue\n",
    "\n",
    "#         if answer == 'STOP':\n",
    "#             if total == 0:\n",
    "#                 return ('done')\n",
    "#             else:\n",
    "#                 print ('You score', round(((score/total)*100), 2), '%')\n",
    "#                 return score\n",
    "#         else:\n",
    "#             print(\"incorrect, try again\")\n",
    "#             total += 1\n",
    "#             combo = 0"
   ]
  },
  {
   "cell_type": "code",
   "execution_count": 6,
   "metadata": {},
   "outputs": [],
   "source": [
    "#get bank of questions\n",
    "data = './q_folders/stave/labels_treble.csv'\n",
    "\n",
    "#ask q's\n",
    "# identificationOpen(data)"
   ]
  },
  {
   "cell_type": "markdown",
   "metadata": {},
   "source": [
    " There are a few limitations with this simple game which prevent it from being an ITS:\n",
    " \n",
    " 1. It will sometimes pick the same question twice in a row (there is no need to do this if the student answered correctly).\n",
    " 2.  It picks at random and therefore jumps between questions which could be confusing for a beginner.\n",
    " 3. It doesn't know which exercises the student is struggling with in particular and has no strategy for helping them to learn. \n"
   ]
  },
  {
   "cell_type": "markdown",
   "metadata": {},
   "source": [
    "### Part 2: Lower level strategies for an ITS"
   ]
  },
  {
   "cell_type": "markdown",
   "metadata": {},
   "source": [
    "According to John Self, an ITS is\n",
    "\n",
    "*‘… [a] computer-based learning system which has some degree of autonomous decision-making with respect to some aspect of its interaction with its users’* (1995) \n",
    "\n",
    " We will now try to get the system to make *intelligent* and autonomous decisions about which questions to present that aim to overcome the aforementioned limitations that should be more effective for the user. \n",
    " \n",
    "  The system will implement the following lower level strategies:\n",
    "  \n",
    "1. Ask the same question again if the student gives a wrong answer so that the user can learn where they went wrong\n",
    "2. Pick questions based on probabilities: <br>\n",
    "    2.1: If the student has answered a question correctly it is half as likely they will be asked that same exercise again <br>\n",
    "    2.2: Conversely, if they answer a question incorrectly it is twice as likely they will be asked that question again\n",
    "3. If the success rate is below 80% only move one question up/down at a time to prevent large jumps confusing the student (this only works for ordinally ordered exercises\n",
    "\n",
    "These autonomous decisions and the idea of 'low level strategies' have been inspired directly from the paper 'A System for Concerned Teaching of Musical Aural Skills' by Wiggins (2000, p4). \n",
    "\n",
    "_______"
   ]
  },
  {
   "cell_type": "markdown",
   "metadata": {},
   "source": [
    "## scoreCard function\n",
    "\n",
    "Below is a function which will keep a score of the questions answered correctly/incorrectly. It will also give question probabilities for the method to use. It does not actually return anything unless the session has ended in which case it returns the table of answers and probabilities that it has been building up. This data can be saved to help build a profile of the user that can be accessed later if desired."
   ]
  },
  {
   "cell_type": "code",
   "execution_count": 7,
   "metadata": {},
   "outputs": [],
   "source": [
    "def scoreCard(qs, student_no=None, init=False, finished=None, question=None, correct=None, update_probs=True):\n",
    "    \n",
    "    if init == True:\n",
    "\n",
    "        #make new columns, initialise with 1 to avoid division by zero error\n",
    "        qs['#_attempts'] = 1\n",
    "        qs['#_correct'] = 1\n",
    "\n",
    "        #add probabilities to dataframe\n",
    "        qs['probability'] = qs['#_attempts'] / qs['#_correct']\n",
    "        qs['probability'] = qs['probability'] / qs['probability'].sum()\n",
    "        \n",
    "    if correct == True:\n",
    "\n",
    "        #correct\n",
    "        qs.loc[qs.index.values == question, '#_attempts'] += 1\n",
    "        qs.loc[qs.index.values == question, '#_correct'] += 1\n",
    "        \n",
    "    if update_probs and correct == True:\n",
    "\n",
    "        #subtract probability mass from question\n",
    "        qs.loc[qs.index.values == question, 'probability'] = (qs.loc[qs.index.values == question, 'probability'] / 2)\n",
    "        \n",
    "    if correct == False:\n",
    "\n",
    "        #incorrect\n",
    "        qs.loc[qs.index.values == question, '#_attempts'] += 1\n",
    "        \n",
    "    if update_probs and correct == False:\n",
    "\n",
    "        #add probability mass to question  \n",
    "        qs.loc[qs.index.values == question, 'probability'] = (qs.loc[qs.index.values == question, 'probability'] * 2)\n",
    "        \n",
    "    #normalise probabilities\n",
    "    qs['probability'] = qs['probability'] / qs['probability'].sum()\n",
    "    probabilities = qs['probability'].to_numpy() #variable to be accessed by method\n",
    "\n",
    "    if finished == True:\n",
    "        \n",
    "        #minus the 1 that we added earlier to avoid division by zero \n",
    "        qs['#_attempts'] -= 1\n",
    "        qs['#_correct'] -= 1\n",
    "        \n",
    "        time_stamp = datetime.datetime.now().strftime('%c')\n",
    "        time_stamp = str(time_stamp)\n",
    "        time_stamp = time_stamp.replace(':', '-')\n",
    "        \n",
    "        file_name = '{}_{}_.csv'.format(student_no, time_stamp)\n",
    "        qs.to_csv(file_name, index=False)\n",
    "        return "
   ]
  },
  {
   "cell_type": "markdown",
   "metadata": {},
   "source": [
    " With the above function the system has the data to make intelligent decisions based on probabilities. However, we've not yet got a function to select a question based on the probabilities. \n",
    "\n",
    "## generateQ function \n",
    "\n",
    "generateQ can be used to: \n",
    "\n",
    "1. Slice a database of q's (for instance just the treble clef notes as opposed to bass and treble clef) \n",
    "2. Exclude certain questions\n",
    "3. Specify an interval between q's (to avoid jumps that cause difficulty in the case of ordinal questions) \n",
    "4. Generate a q based on a previous q (for example sticking to a certain subset)\n",
    "5. Draw a question based on the probabilities from the score card\n"
   ]
  },
  {
   "cell_type": "code",
   "execution_count": 8,
   "metadata": {},
   "outputs": [],
   "source": [
    "def generateQ(q_index, combo, score, total, probabilities, ex=None, interval=False): \n",
    "\n",
    "    if interval == True:\n",
    "        ex = ex + np.random.choice(np.arange(-1,2), p=[1/2,0,1/2])\n",
    "#         ex = ex + generateQ(q_index, probabilities, init=False, interval=True)\n",
    "        \n",
    "#     #ask again if they got last q wrong\n",
    "        return ex\n",
    "\n",
    "    else: \n",
    "        #draw from probabilities\n",
    "#         ex = generateQ(q_index, probabilities, init=False, interval=False)\n",
    "        ex = np.random.choice(q_index, p=probabilities)\n",
    "\n",
    "    return ex\n"
   ]
  },
  {
   "cell_type": "markdown",
   "metadata": {},
   "source": [
    "## answerCleanup function\n",
    "\n",
    "answerCleanup will remove leading whitespace and convert all letters to capitals to reduce the chance of a user entering an invalid answer. It can also take regex. It will output 'invalid' if the answer is not valid. It can be modified for different exercises/curricula"
   ]
  },
  {
   "cell_type": "code",
   "execution_count": 9,
   "metadata": {},
   "outputs": [],
   "source": [
    "def answerCleanup(answer, regex=None, method=None):\n",
    "            \n",
    "    if method == 'generative_int':\n",
    "        answer = answer.strip()\n",
    "        return answer\n",
    "    \n",
    "    if method == 'generative_note' or method == 'notes_advanced':\n",
    "        answer = answer.replace(' ', '')\n",
    "        answer = answer.upper()\n",
    "        \n",
    "        regex = r\"[a-gA-G 0-9\\#\\b]\"\n",
    "        \n",
    "    if regex: \n",
    "\n",
    "        p = re.compile(regex)\n",
    "        m = p.match(answer)\n",
    "\n",
    "        if m:\n",
    "            return answer\n",
    "        else:\n",
    "            return 'invalid'\n",
    "    \n",
    "    else:\n",
    "        return answer"
   ]
  },
  {
   "cell_type": "code",
   "execution_count": 10,
   "metadata": {},
   "outputs": [
    {
     "data": {
      "text/plain": [
       "'BBF#E#'"
      ]
     },
     "execution_count": 10,
     "metadata": {},
     "output_type": "execute_result"
    }
   ],
   "source": [
    "regex = r\"[a-gA-G 0-9\\#\\b]\"\n",
    "answer = 'bb f# e#'\n",
    "answerCleanup(answer, method='generative_note') #this will return 'invalid' as the letter H is not between A-G\n"
   ]
  },
  {
   "cell_type": "code",
   "execution_count": 11,
   "metadata": {},
   "outputs": [
    {
     "data": {
      "text/plain": [
       "'m2'"
      ]
     },
     "execution_count": 11,
     "metadata": {},
     "output_type": "execute_result"
    }
   ],
   "source": [
    "answerCleanup('m2', method='intervalTraining')"
   ]
  },
  {
   "cell_type": "markdown",
   "metadata": {},
   "source": [
    "## Higher level teaching methods\n",
    "\n",
    " In line with the ideas presented by Wiggins in his 2000 paper, we will now implement a function to teach our first higher level teaching method: identificationOpen. This will be presented via a simple game where the user simply has to identify the correct answer without any prompts. \n"
   ]
  },
  {
   "cell_type": "markdown",
   "metadata": {},
   "source": [
    "## Generative question functions\n",
    "\n",
    " These functions take advantage of the music21 library."
   ]
  },
  {
   "cell_type": "markdown",
   "metadata": {},
   "source": [
    "### Generative interval"
   ]
  },
  {
   "cell_type": "code",
   "execution_count": 12,
   "metadata": {},
   "outputs": [],
   "source": [
    "def generative_int(down=True, qs=None, ex=None):\n",
    "    \n",
    "    interval = qs['label'][ex]\n",
    "    answer = qs['label'][ex]\n",
    "    \n",
    "    pitches = ['F2','G2','A2', 'B2',\n",
    "            'C3', 'D3', 'E3', 'F3', 'G3', 'A3', 'B3',\n",
    "            'C4', 'D4', 'E5', 'F5', 'G5']\n",
    "\n",
    "    p1 = m21.pitch.Pitch(random.choice(pitches)) #pitch1 \n",
    "    n1 = m21.note.Note(p1) #create note1 from pitch1\n",
    "    n1.duration.quarterLength = 2\n",
    "    if down == True:\n",
    "        p2 = random.choice([p1.transpose('-' + interval), p1.transpose(interval)])\n",
    "#         p2 = p1.transpose('-' + q) #transpose down\n",
    "    else:\n",
    "        p2 = p1.transpose(interval) #transpose up\n",
    "\n",
    "    #p2.nameWithOctave #if you want to check\n",
    "    n2 = m21.note.Note(p2) #create note2 from transposed pitch1\n",
    "    n2.duration.quarterLength = 2\n",
    "\n",
    "    s = m21.stream.Stream() #create stream\n",
    "    s.append(n1) #add notes to stream\n",
    "    s.append(n2)\n",
    "\n",
    "    return s, answer"
   ]
  },
  {
   "cell_type": "markdown",
   "metadata": {},
   "source": [
    "## Generative stave notation\n",
    "\n",
    "In order for this function to work it has to be presented with the exact note to display"
   ]
  },
  {
   "cell_type": "code",
   "execution_count": 13,
   "metadata": {},
   "outputs": [],
   "source": [
    "def generative_note(ex=None, qs=None, data=None):\n",
    "    \n",
    "    #note = qs['note'][ex] #needs to be note variable for m21\n",
    "    \n",
    "    note_values = ['whole', 'half', 'quarter', 'eighth']\n",
    "    \n",
    "    clef = qs['clef'][ex]\n",
    "    \n",
    "    if clef == 'TrebleClef':\n",
    "        clef = m21.clef.TrebleClef()\n",
    "    if clef == 'BassClef':\n",
    "        clef = m21.clef.BassClef()\n",
    "        \n",
    "    answer = qs['label'][ex]\n",
    "    \n",
    "#     ks = m21.key.KeySignature(int(qs['ks'][ex]))\n",
    "    \n",
    "#     alteredPitches = [str(p) for p in ks.alteredPitches]    \n",
    "\n",
    "    s = m21.stream.Measure([clef])\n",
    "#     s.insert(0, ks)\n",
    "    ts1 = m21.meter.TimeSignature('4/4')\n",
    "    ts1.symbol = 'None'\n",
    "    s.append(ts1)\n",
    "    \n",
    "    p1 = m21.pitch.Pitch(qs['pitches'][ex]) #pitch1 \n",
    "    \n",
    "#     if p1.accidental:\n",
    "#         p1.accidental = None\n",
    "        \n",
    "#     if note[0:2] in alteredPitches and p1.accidental == True:\n",
    "#          p1.accidental = None\n",
    "#     else:\n",
    "#         pass\n",
    "    \n",
    "    n1 = m21.note.Note(p1, type=random.choice(note_values)) #create note1 from pitch1\n",
    "    s.append(n1) #add notes to stream\n",
    "    \n",
    "#     if transpose:\n",
    "#         s.transpose(transpose)\n",
    "        \n",
    "    return s, answer"
   ]
  },
  {
   "cell_type": "markdown",
   "metadata": {},
   "source": [
    "## Advanced generative stave notation\n",
    "\n",
    "This can be used for harder exercises. Rather than generating an exact note it generates a note (or series of notes) according to certain parameters. It can also transpose. "
   ]
  },
  {
   "cell_type": "code",
   "execution_count": 14,
   "metadata": {},
   "outputs": [],
   "source": [
    "def notes_advanced(qs=None, ex=None, transpose=None):\n",
    "    \n",
    "    tonic = qs['tonic'][ex]\n",
    "    clef = qs['clef'][ex]\n",
    "    start_range = qs['start'][ex]\n",
    "    end_range = qs['end'][ex]\n",
    "    no_notes = qs['no_notes'][ex]\n",
    "    \n",
    "    #clef\n",
    "    if clef == 'TrebleClef':\n",
    "        clef = m21.clef.TrebleClef()\n",
    "    if clef == 'BassClef':\n",
    "        clef = m21.clef.BassClef()\n",
    "        \n",
    "    s = m21.stream.Measure([clef])\n",
    "    #time sig\n",
    "    ts1 = m21.meter.TimeSignature('4/4')\n",
    "    ts1.symbol = 'None'\n",
    "    s.append(ts1)\n",
    "    #key\n",
    "    k = m21.key.Key(tonic)\n",
    "    s.append(k) #add key sig \n",
    "    \n",
    "    #scale\n",
    "    sc1 = m21.scale.MajorScale(tonic)\n",
    "    \n",
    "#     if transpose:\n",
    "#         sc1 = sc1.transpose(transpose) #transpose notes\n",
    "#     else:\n",
    "#         pass\n",
    "        \n",
    "    pitches = [str(p) for p in sc1.getPitches(start_range, end_range)]\n",
    "    notes = random.sample(pitches, no_notes)\n",
    "#     notes = ' '.join([str(note) for note in notes])\n",
    "\n",
    "    if transpose:\n",
    "        k = k.transpose(transpose) #if you want to change the key signature\n",
    "        # k.transpose(transpose) #if you want to change the notes but not the key, could be a param\n",
    "\n",
    "    if transpose:\n",
    "        sc1 = sc1.transpose(transpose) #transpose scale\n",
    "    else:\n",
    "        pass\n",
    "    \n",
    "#     print (notes)\n",
    "    #transpose notes\n",
    "    \n",
    "    notes_list = []\n",
    "    \n",
    "    for note in notes:\n",
    "        p = m21.pitch.Pitch(note)\n",
    "        n = m21.note.Note(p, type='quarter') #create note1 from pitch1\n",
    "        s.append(n)\n",
    "        if transpose:\n",
    "            p = p.transpose(transpose)\n",
    "        else:\n",
    "            pass\n",
    "        notes_list.append(str(p.name).replace('-', 'B'))\n",
    "\n",
    "        \n",
    "    answer = notes_list\n",
    "\n",
    "    return s, answer"
   ]
  },
  {
   "cell_type": "code",
   "execution_count": 16,
   "metadata": {},
   "outputs": [],
   "source": [
    "# its()"
   ]
  },
  {
   "cell_type": "markdown",
   "metadata": {},
   "source": [
    "<font color='red'> getting issues here with it printing an accidental even when its in the key sig!"
   ]
  },
  {
   "cell_type": "markdown",
   "metadata": {},
   "source": [
    "tutorModule()\n",
    "- student tells it what they want to do\n",
    "- student can ask it to stop or move onto a new game or reset the score etc (stop function should not be in the identificationOpen etc)\n",
    "- the module CALLS ON THE METHOD with data (and probabilities, other params etc) to return a question and an answer\n",
    "- if a student gets it correct, it can call on the method again perhaps with harder params. if the answer is wrong, it will not call on the method again... it will just ask again and update the scoreCard etc\n",
    "- so the scoreCard is a variable held by the tutor module. if finished the scoreCard can be called upon to save the CSV\n",
    "- the module can then get the answer from the student and compare if it is correct and update scores accordingly. it can also act on these scores (if they are low it can change method etc)\n",
    "- the general direction of the game and the lower level teaching strategies come from the tutorModule, not the identificationOpen\n"
   ]
  },
  {
   "cell_type": "markdown",
   "metadata": {},
   "source": [
    " \n",
    " ## game function\n",
    " \n",
    " Most teaching will be presented in the format of an interactive game. The game function acts as an empty shell and can take the data (aka the paramteres) and the (generative) method as input. \n",
    " \n",
    " - Instructions: tell the user how to play the game, what to enter etc\n",
    " - Prompt: Essentially the question ('what interval did you hear?'\n",
    " - regex: To ensure that the answer given is less likely to return an error ('a becomes A')\n",
    " - min_q: the interval at which the game will check for progress and give it an opportunity to act\n",
    " - pass threshold: the minimum score needed to progress\n",
    " - difficulty: a way of slicing dataframes for harder q's"
   ]
  },
  {
   "cell_type": "code",
   "execution_count": 17,
   "metadata": {},
   "outputs": [],
   "source": [
    "def game(data, instructions, prompt, method, student_no, min_q=5, pass_threshold=0.9, down=False, \n",
    "         blind=True, difficulty=None, transpose=None):\n",
    "    \n",
    "    times = []\n",
    "    \n",
    "    #convert csv of qs to dataframe\n",
    "    qs = pd.read_csv(data + 'labels.csv')\n",
    "    \n",
    "    #slice data to q's according to difficulty\n",
    "    if difficulty:\n",
    "        qs = qs.loc[qs['difficulty'] == difficulty].reset_index(drop=True)\n",
    "    else:\n",
    "        pass\n",
    "    \n",
    "    #initialise score card based on csv of questions, get init probabilities (random)\n",
    "    scoreCard(qs, init=True)\n",
    "    probabilities = qs['probability']\n",
    "    \n",
    "    #the index will be used by generateQ to choose questions \n",
    "    q_index = qs.index.values\n",
    "    \n",
    "    #initialise local variables to track scores and give instant feedback\n",
    "    score = 0\n",
    "    total = 0\n",
    "    combo = 0 \n",
    "    \n",
    "    #feedback is used to help guide the student\n",
    "    feedback = \"Okay, here we go\"\n",
    "    \n",
    "    finished = False\n",
    "    \n",
    "    previous_correct = True\n",
    "    \n",
    "    #first loop: pick a question using lower level strategies\n",
    "    while True:\n",
    "\n",
    "        #ask again if previous answer incorrect\n",
    "        if total == 0:\n",
    "            ex = generateQ(q_index=q_index, score=score, combo=combo,total=total,\n",
    "                        interval=False, probabilities=probabilities)\n",
    "            \n",
    "        #restrict to interval in case of ordinal q's\n",
    "        elif score/total < 0.8:\n",
    "            ex = generateQ(ex=ex, q_index=q_index, score=score, combo=combo,total=total,\n",
    "                        interval=True, probabilities=probabilities)\n",
    "            \n",
    "        #draw from probabilities\n",
    "        else:\n",
    "            ex = generateQ(q_index=q_index, score=score, combo=combo, total=total,\n",
    "                        interval=False, probabilities=probabilities)\n",
    "#             continue\n",
    "\n",
    "        #second loop: present the question, get answer, update scores and probabilities\n",
    "        while True:\n",
    "\n",
    "            if total > 0 and total % min_q == 0 and score/total > pass_threshold:\n",
    "                answer = input('''You\\'re doing well, do you want to:\n",
    "                1. end the game and try something new or\n",
    "                2. continue playing?\n",
    "                Type 1 or 2 )''')\n",
    "                \n",
    "                while True:\n",
    "\n",
    "                    answer = answer[0]\n",
    "                    answer = answerCleanup(answer, regex=\"[1-2]\")\n",
    "                    \n",
    "                    if answer == 'invalid':\n",
    "                        print ('invalid answer, type 1 or 2')\n",
    "                        continue\n",
    "                        \n",
    "                    else:\n",
    "\n",
    "                        if answer == '1':\n",
    "                            finished = True\n",
    "                            break\n",
    "                        \n",
    "                        if answer == '2':\n",
    "                            break\n",
    "\n",
    "#             print ('ex is {}'.format(ex))\n",
    "#             print  (qs['label'])\n",
    "            \n",
    "#             label = qs['label'][ex] #correct answer \n",
    "            clear_output(wait=True)\n",
    "            \n",
    "            if finished == True: \n",
    "                scoreCard(qs, student_no, finished=True)\n",
    "                return score/total\n",
    "    \n",
    "            print (feedback, '\\n \\n {} \\n'.format(instructions)) #this could be a prompt?\n",
    "            # and the prompt could be different things depending on how the game is going and the curricula\n",
    "\n",
    "            print (score, '/', total)\n",
    "            print ('combo:', combo)\n",
    "                        \n",
    "            #ASK QUESTION\n",
    "            if method == 'generative_note':\n",
    "                s, label = generative_note(qs=qs, ex=ex)\n",
    "                s.show()\n",
    "                \n",
    "            if method == 'notes_advanced':\n",
    "                s, label = notes_advanced(\n",
    "                    ex=ex, qs=qs, transpose=transpose)\n",
    "                s.show()\n",
    "                \n",
    "                label = ''.join(str(note).upper() for note in label)\n",
    "                print (label)\n",
    "                \n",
    "            if method == 'generative_int':\n",
    "                if previous_correct == False:\n",
    "                    pass\n",
    "                else:\n",
    "                    s, label = generative_int(down=True, ex=ex, qs=qs)\n",
    "                if blind == False:\n",
    "                    s.show() #show music\n",
    "                else:\n",
    "                    pass\n",
    "                sp = m21.midi.realtime.StreamPlayer(s) \n",
    "                sp.play()\n",
    "                \n",
    "            print (prompt) \n",
    "            #GET ANSWER\n",
    "            start_time = time.time()\n",
    "            answer = input('') #hash out to compute answer automatically \n",
    "            inputs.append(answer)\n",
    "\n",
    "            if answer == 'stop': \n",
    "                finished = True\n",
    "                continue\n",
    "\n",
    "#                 if total == 0:\n",
    "#                     return ('No questions answered')\n",
    "#                 else:\n",
    "#                     print ('You score', round(((score/total)*100), 2), '%')\n",
    "#     #                 return score\n",
    "#                     return scoreCard(qs, finished=True)\n",
    "            \n",
    "            answer = answerCleanup(answer, method=method) #unhash to test answer\n",
    "        \n",
    "            if answer == label:\n",
    "                end_time = time.time()\n",
    "                time_lapsed = end_time - start_time\n",
    "                times.append(time_lapsed)\n",
    "                \n",
    "                score += 1\n",
    "                total += 1\n",
    "                combo += 1\n",
    "                previous_correct = True\n",
    "\n",
    "                if input('Well done! Press enter to continue.') == '':\n",
    "                    pass\n",
    "                if previous_correct == True:\n",
    "                    scoreCard(qs, question=ex, correct=True, update_probs=True)\n",
    "                    break\n",
    "                \n",
    "                #do not update probabilities if last question was incorrect\n",
    "                if previous_correct == False:\n",
    "                    scoreCard(qs, question=ex, correct=True, update_probs=False)\n",
    "                    break\n",
    "    \n",
    "            if answer == 'invalid':\n",
    "                if input('WARNING: Invalid answer.') == '':\n",
    "                    pass\n",
    "        \n",
    "                continue\n",
    "\n",
    "            else:\n",
    "                total += 1\n",
    "                combo = 0\n",
    "                previous_correct = False\n",
    "                scoreCard(qs, question=ex, correct=False, update_probs=True)\n",
    "                if input('Incorrect - press enter to try again.') == '':\n",
    "                    pass\n",
    "                \n",
    "                continue"
   ]
  },
  {
   "cell_type": "markdown",
   "metadata": {},
   "source": [
    "## its() and subjectSelect() module\n",
    "\n",
    "The tutorModule will guide the user through the different teaching strategies and act as a rules based chatbot. It will implement some standard NLP approaches such as the preprocessing of text and stemming/lemmatization. It mostly works through a 'bag of words' type model to understand the users intentions. "
   ]
  },
  {
   "cell_type": "code",
   "execution_count": 26,
   "metadata": {},
   "outputs": [],
   "source": [
    "#key words for different subjects (bag of words)\n",
    "notation = ['notes', 'clef', 'reading', 'notation']\n",
    "interval = ['interval', 'distance', 'major', 'minor']\n",
    "transposition = ['transpose', 'trumpet', 'instruments', 'transposition']\n",
    "\n",
    "#preProcess lists\n",
    "notation = preProcessList(notation)\n",
    "interval = preProcessList(interval)\n",
    "transposition = preProcessList(transposition)\n"
   ]
  },
  {
   "cell_type": "code",
   "execution_count": 27,
   "metadata": {},
   "outputs": [],
   "source": [
    "def preProcess(word):\n",
    "    porter = PorterStemmer()\n",
    "    Lem = WordNetLemmatizer()\n",
    "\n",
    "    word = Lem.lemmatize(word)\n",
    "    word = porter.stem(word)\n",
    "    return word\n",
    "\n",
    "def preProcessList(lst):\n",
    "    words = []\n",
    "    for word in lst:\n",
    "        word = preProcess(word)\n",
    "        words.append(word)\n",
    "        \n",
    "    return words"
   ]
  },
  {
   "cell_type": "code",
   "execution_count": null,
   "metadata": {},
   "outputs": [],
   "source": []
  },
  {
   "cell_type": "code",
   "execution_count": 28,
   "metadata": {},
   "outputs": [],
   "source": [
    "#identification method\n",
    "\n",
    "method = 'generative_note'\n",
    "instructions = 'Answer with letters A-G. Type stop to end the game'\n",
    "regex = r\"[a-gA-G 0-9\\#\\b]\"\n",
    "prompt = 'What pitch is displayed on the clef?'\n",
    "data = '/q_folders/g1_treble_'\n",
    "\n"
   ]
  },
  {
   "cell_type": "code",
   "execution_count": 29,
   "metadata": {},
   "outputs": [],
   "source": [
    "#interval method\n",
    "method = 'generative_int'\n",
    "instructions = 'Enter your answer with 2 chars only'\n",
    "\n",
    "data = '/q_folders/interval_'\n",
    "prompt = 'Which interval did you hear?'\n"
   ]
  },
  {
   "cell_type": "code",
   "execution_count": 30,
   "metadata": {},
   "outputs": [],
   "source": [
    "def subjectSelect(greeting, student_no):\n",
    "\n",
    "    while True:\n",
    "        \n",
    "        #parse input\n",
    "        tokens = greeting.split()\n",
    "\n",
    "        for token in tokens:\n",
    "            token = preProcess(token)\n",
    "\n",
    "\n",
    "\n",
    "            #subject select\n",
    "            if token in notation:\n",
    "                print ('Okay, would you like to train on the treble or bass clef?')\n",
    "\n",
    "                method = 'generative_note'\n",
    "                instructions = 'Answer with letters A-G. Type stop to end the game'\n",
    "                regex = r\"[a-gA-G 0-9\\#\\b]\"\n",
    "                prompt = 'What pitch is displayed on the clef?'\n",
    "\n",
    "                answer = input()\n",
    "                if answer == 'treble':\n",
    "                    ('Okay, lets do notes on the treble clef')\n",
    "                    data = './q_folders/g1_treble_' #treble\n",
    "                    score = game(data, instructions, prompt, method, student_no,\n",
    "                                min_q=5, pass_threshold=0.9) #start game\n",
    "\n",
    "                if answer == 'bass':\n",
    "                    ('Okay, lets do notes on the bass clef')\n",
    "                    data = './q_folders/g1_bass_' #bass\n",
    "                    score = game(data, instructions, prompt, method, student_no,\n",
    "                                min_q=5, pass_threshold=0.9) #start game\n",
    "\n",
    "                if score < 0.5:\n",
    "                    print ('You should try something easier')\n",
    "                if score > 0.5:\n",
    "                    print ('You should try something harder')\n",
    "\n",
    "\n",
    "    #             if answer == 'alto':\n",
    "    #                 ('Okay, let\\s do notes on the alto clef.')\n",
    "    #                 identificationOpen('./q_folders/altoclef/')\n",
    "\n",
    "            if token in interval:\n",
    "                print ('Okay, let\\s do interval training')\n",
    "\n",
    "                #interval method\n",
    "                method = 'generative_int'\n",
    "                instructions = 'Enter your answer with 2 chars only'\n",
    "                data = './q_folders/interval_'\n",
    "                prompt = 'Which interval did you hear?'\n",
    "\n",
    "                difficulty = 1\n",
    "\n",
    "                while True:\n",
    "\n",
    "                    next_instruction = game(data, instructions, prompt, method, student_no,\n",
    "                                            min_q=5, pass_threshold=0.5, difficulty=difficulty) #start game\n",
    "\n",
    "                    if next_instruction == 'level_up':\n",
    "                        difficulty += 1\n",
    "                        continue\n",
    "                    if next_instruction == 'stop':\n",
    "                        break \n",
    "\n",
    "\n",
    "\n",
    "            if token in transposition:\n",
    "\n",
    "                print ('Okay, let\\s do transposition')\n",
    "                data = './q_folders/transposition_'\n",
    "                prompt = 'What is the sounding pitch of this note for a Bb instrument?'\n",
    "                instructions = 'Answer with letters A-G. Type stop to end the game'\n",
    "                method = 'notes_advanced'\n",
    "                transpose = 'm2'\n",
    "                difficulty = 2\n",
    "                return game(data, instructions, prompt, method, student_no, transpose='-M2',\n",
    "                                             pass_threshold=0.5, difficulty=difficulty)\n",
    "\n",
    "                if next_instruction == 'level_up':\n",
    "                    data = './q_folders/transpose/eb/'\n",
    "                    return game(data, instructions, prompt, 'identificationOpen')\n",
    "\n",
    "        return 'invalid'\n"
   ]
  },
  {
   "cell_type": "code",
   "execution_count": 31,
   "metadata": {},
   "outputs": [],
   "source": [
    "def its():\n",
    "    \n",
    "    global inputs\n",
    "    inputs = []\n",
    "    \n",
    "    student_no = input('Please enter your username')\n",
    "    inputs.append(student_no)\n",
    "    \n",
    "    while True:\n",
    "        print ('Thanks, {}. What do you want to learn today?'.format(student_no))\n",
    "        print ('Type stop to end the session')\n",
    "        answer = input()\n",
    "        inputs.append(answer)\n",
    "        if answer == 'stop':\n",
    "            print (inputs)\n",
    "            break\n",
    "        else:\n",
    "            subjectSelect(answer, student_no=student_no)"
   ]
  },
  {
   "cell_type": "code",
   "execution_count": 33,
   "metadata": {},
   "outputs": [
    {
     "name": "stdout",
     "output_type": "stream",
     "text": [
      "Okay, here we go \n",
      " \n",
      " Answer with letters A-G. Type stop to end the game \n",
      "\n",
      "0 / 0\n",
      "combo: 0\n"
     ]
    },
    {
     "data": {
      "image/png": "[encoded data removed]",
      "text/plain": [
       "<IPython.core.display.Image object>"
      ]
     },
     "metadata": {
      "image/png": {
       "height": 49,
       "width": 143
      }
     },
     "output_type": "display_data"
    },
    {
     "name": "stdout",
     "output_type": "stream",
     "text": [
      "What pitch is displayed on the clef?\n"
     ]
    },
    {
     "ename": "KeyboardInterrupt",
     "evalue": "Interrupted by user",
     "output_type": "error",
     "traceback": [
      "\u001b[0;31m---------------------------------------------------------------------------\u001b[0m",
      "\u001b[0;31mKeyboardInterrupt\u001b[0m                         Traceback (most recent call last)",
      "\u001b[0;32m<ipython-input-33-a3e7a77283c0>\u001b[0m in \u001b[0;36m<module>\u001b[0;34m\u001b[0m\n\u001b[0;32m----> 1\u001b[0;31m \u001b[0mits\u001b[0m\u001b[0;34m(\u001b[0m\u001b[0;34m)\u001b[0m\u001b[0;34m\u001b[0m\u001b[0;34m\u001b[0m\u001b[0m\n\u001b[0m",
      "\u001b[0;32m<ipython-input-31-e19743040966>\u001b[0m in \u001b[0;36mits\u001b[0;34m()\u001b[0m\n\u001b[1;32m     16\u001b[0m             \u001b[0;32mbreak\u001b[0m\u001b[0;34m\u001b[0m\u001b[0;34m\u001b[0m\u001b[0m\n\u001b[1;32m     17\u001b[0m         \u001b[0;32melse\u001b[0m\u001b[0;34m:\u001b[0m\u001b[0;34m\u001b[0m\u001b[0;34m\u001b[0m\u001b[0m\n\u001b[0;32m---> 18\u001b[0;31m             \u001b[0msubjectSelect\u001b[0m\u001b[0;34m(\u001b[0m\u001b[0manswer\u001b[0m\u001b[0;34m,\u001b[0m \u001b[0mstudent_no\u001b[0m\u001b[0;34m=\u001b[0m\u001b[0mstudent_no\u001b[0m\u001b[0;34m)\u001b[0m\u001b[0;34m\u001b[0m\u001b[0;34m\u001b[0m\u001b[0m\n\u001b[0m",
      "\u001b[0;32m<ipython-input-30-7d6728b4e5c1>\u001b[0m in \u001b[0;36msubjectSelect\u001b[0;34m(greeting, student_no)\u001b[0m\n\u001b[1;32m     24\u001b[0m                     \u001b[0;34m(\u001b[0m\u001b[0;34m'Okay, lets do notes on the treble clef'\u001b[0m\u001b[0;34m)\u001b[0m\u001b[0;34m\u001b[0m\u001b[0;34m\u001b[0m\u001b[0m\n\u001b[1;32m     25\u001b[0m                     \u001b[0mdata\u001b[0m \u001b[0;34m=\u001b[0m \u001b[0;34m'./q_folders/g1_treble_'\u001b[0m \u001b[0;31m#treble\u001b[0m\u001b[0;34m\u001b[0m\u001b[0;34m\u001b[0m\u001b[0m\n\u001b[0;32m---> 26\u001b[0;31m                     score = game(data, instructions, prompt, method, student_no,\n\u001b[0m\u001b[1;32m     27\u001b[0m                                 min_q=5, pass_threshold=0.9) #start game\n\u001b[1;32m     28\u001b[0m \u001b[0;34m\u001b[0m\u001b[0m\n",
      "\u001b[0;32m<ipython-input-17-e767a4b0cdc3>\u001b[0m in \u001b[0;36mgame\u001b[0;34m(data, instructions, prompt, method, student_no, min_q, pass_threshold, down, blind, difficulty, transpose)\u001b[0m\n\u001b[1;32m    122\u001b[0m             \u001b[0;31m#GET ANSWER\u001b[0m\u001b[0;34m\u001b[0m\u001b[0;34m\u001b[0m\u001b[0;34m\u001b[0m\u001b[0m\n\u001b[1;32m    123\u001b[0m             \u001b[0mstart_time\u001b[0m \u001b[0;34m=\u001b[0m \u001b[0mtime\u001b[0m\u001b[0;34m.\u001b[0m\u001b[0mtime\u001b[0m\u001b[0;34m(\u001b[0m\u001b[0;34m)\u001b[0m\u001b[0;34m\u001b[0m\u001b[0;34m\u001b[0m\u001b[0m\n\u001b[0;32m--> 124\u001b[0;31m             \u001b[0manswer\u001b[0m \u001b[0;34m=\u001b[0m \u001b[0minput\u001b[0m\u001b[0;34m(\u001b[0m\u001b[0;34m''\u001b[0m\u001b[0;34m)\u001b[0m \u001b[0;31m#hash out to compute answer automatically\u001b[0m\u001b[0;34m\u001b[0m\u001b[0;34m\u001b[0m\u001b[0m\n\u001b[0m\u001b[1;32m    125\u001b[0m             \u001b[0minputs\u001b[0m\u001b[0;34m.\u001b[0m\u001b[0mappend\u001b[0m\u001b[0;34m(\u001b[0m\u001b[0manswer\u001b[0m\u001b[0;34m)\u001b[0m\u001b[0;34m\u001b[0m\u001b[0;34m\u001b[0m\u001b[0m\n\u001b[1;32m    126\u001b[0m \u001b[0;34m\u001b[0m\u001b[0m\n",
      "\u001b[0;32m~/opt/anaconda3/lib/python3.8/site-packages/ipykernel/kernelbase.py\u001b[0m in \u001b[0;36mraw_input\u001b[0;34m(self, prompt)\u001b[0m\n\u001b[1;32m    858\u001b[0m                 \u001b[0;34m\"raw_input was called, but this frontend does not support input requests.\"\u001b[0m\u001b[0;34m\u001b[0m\u001b[0;34m\u001b[0m\u001b[0m\n\u001b[1;32m    859\u001b[0m             )\n\u001b[0;32m--> 860\u001b[0;31m         return self._input_request(str(prompt),\n\u001b[0m\u001b[1;32m    861\u001b[0m             \u001b[0mself\u001b[0m\u001b[0;34m.\u001b[0m\u001b[0m_parent_ident\u001b[0m\u001b[0;34m,\u001b[0m\u001b[0;34m\u001b[0m\u001b[0;34m\u001b[0m\u001b[0m\n\u001b[1;32m    862\u001b[0m             \u001b[0mself\u001b[0m\u001b[0;34m.\u001b[0m\u001b[0m_parent_header\u001b[0m\u001b[0;34m,\u001b[0m\u001b[0;34m\u001b[0m\u001b[0;34m\u001b[0m\u001b[0m\n",
      "\u001b[0;32m~/opt/anaconda3/lib/python3.8/site-packages/ipykernel/kernelbase.py\u001b[0m in \u001b[0;36m_input_request\u001b[0;34m(self, prompt, ident, parent, password)\u001b[0m\n\u001b[1;32m    902\u001b[0m             \u001b[0;32mexcept\u001b[0m \u001b[0mKeyboardInterrupt\u001b[0m\u001b[0;34m:\u001b[0m\u001b[0;34m\u001b[0m\u001b[0;34m\u001b[0m\u001b[0m\n\u001b[1;32m    903\u001b[0m                 \u001b[0;31m# re-raise KeyboardInterrupt, to truncate traceback\u001b[0m\u001b[0;34m\u001b[0m\u001b[0;34m\u001b[0m\u001b[0;34m\u001b[0m\u001b[0m\n\u001b[0;32m--> 904\u001b[0;31m                 \u001b[0;32mraise\u001b[0m \u001b[0mKeyboardInterrupt\u001b[0m\u001b[0;34m(\u001b[0m\u001b[0;34m\"Interrupted by user\"\u001b[0m\u001b[0;34m)\u001b[0m \u001b[0;32mfrom\u001b[0m \u001b[0;32mNone\u001b[0m\u001b[0;34m\u001b[0m\u001b[0;34m\u001b[0m\u001b[0m\n\u001b[0m\u001b[1;32m    905\u001b[0m             \u001b[0;32mexcept\u001b[0m \u001b[0mException\u001b[0m \u001b[0;32mas\u001b[0m \u001b[0me\u001b[0m\u001b[0;34m:\u001b[0m\u001b[0;34m\u001b[0m\u001b[0;34m\u001b[0m\u001b[0m\n\u001b[1;32m    906\u001b[0m                 \u001b[0mself\u001b[0m\u001b[0;34m.\u001b[0m\u001b[0mlog\u001b[0m\u001b[0;34m.\u001b[0m\u001b[0mwarning\u001b[0m\u001b[0;34m(\u001b[0m\u001b[0;34m\"Invalid Message:\"\u001b[0m\u001b[0;34m,\u001b[0m \u001b[0mexc_info\u001b[0m\u001b[0;34m=\u001b[0m\u001b[0;32mTrue\u001b[0m\u001b[0;34m)\u001b[0m\u001b[0;34m\u001b[0m\u001b[0;34m\u001b[0m\u001b[0m\n",
      "\u001b[0;31mKeyboardInterrupt\u001b[0m: Interrupted by user"
     ]
    }
   ],
   "source": [
    "its()"
   ]
  },
  {
   "cell_type": "code",
   "execution_count": null,
   "metadata": {},
   "outputs": [],
   "source": []
  },
  {
   "cell_type": "code",
   "execution_count": 26,
   "metadata": {},
   "outputs": [],
   "source": [
    "# intervalTraining(blind=False, difficulty='easy', down=True)"
   ]
  },
  {
   "cell_type": "markdown",
   "metadata": {},
   "source": [
    "_________"
   ]
  },
  {
   "cell_type": "code",
   "execution_count": 34,
   "metadata": {},
   "outputs": [
    {
     "name": "stdout",
     "output_type": "stream",
     "text": [
      "Note: you may need to restart the kernel to use updated packages.\n"
     ]
    }
   ],
   "source": [
    "pip freeze > requirements.txt"
   ]
  },
  {
   "cell_type": "code",
   "execution_count": 27,
   "metadata": {},
   "outputs": [],
   "source": [
    "def tutorModule(student=None):\n",
    "    \n",
    "    if student == None:\n",
    "        \n",
    "        print ('Hello, you must be new here. What is your name?')\n",
    "        name = input()\n",
    "        print ('Hello {} - what would you like to learn today?'.format(name))\n",
    "        print (modules)\n",
    "        subject = input()\n",
    "        \n",
    "        if subject == 'Notes on treble clef':\n",
    "            data = './q_folders/stave/'\n",
    "        else:\n",
    "            data = './q_folders/altoclef/'\n",
    "            \n",
    "        score = identificationOpen(data)\n",
    "        \n",
    "        if score < 0.5:\n",
    "            \n",
    "            identificationClosed(data)"
   ]
  },
  {
   "cell_type": "code",
   "execution_count": 34,
   "metadata": {},
   "outputs": [
    {
     "name": "stdout",
     "output_type": "stream",
     "text": [
      "Hello, you must be new here. What is your name?\n"
     ]
    },
    {
     "name": "stdin",
     "output_type": "stream",
     "text": [
      " stop\n"
     ]
    },
    {
     "name": "stdout",
     "output_type": "stream",
     "text": [
      "Hello stop - what would you like to learn today?\n"
     ]
    },
    {
     "ename": "NameError",
     "evalue": "name 'modules' is not defined",
     "output_type": "error",
     "traceback": [
      "\u001b[0;31m---------------------------------------------------------------------------\u001b[0m",
      "\u001b[0;31mNameError\u001b[0m                                 Traceback (most recent call last)",
      "\u001b[0;32m<ipython-input-34-e45ba4df695c>\u001b[0m in \u001b[0;36m<module>\u001b[0;34m\u001b[0m\n\u001b[0;32m----> 1\u001b[0;31m \u001b[0mtutorModule\u001b[0m\u001b[0;34m(\u001b[0m\u001b[0;34m)\u001b[0m\u001b[0;34m\u001b[0m\u001b[0;34m\u001b[0m\u001b[0m\n\u001b[0m",
      "\u001b[0;32m<ipython-input-32-65346815946e>\u001b[0m in \u001b[0;36mtutorModule\u001b[0;34m(student)\u001b[0m\n\u001b[1;32m      6\u001b[0m         \u001b[0mname\u001b[0m \u001b[0;34m=\u001b[0m \u001b[0minput\u001b[0m\u001b[0;34m(\u001b[0m\u001b[0;34m)\u001b[0m\u001b[0;34m\u001b[0m\u001b[0;34m\u001b[0m\u001b[0m\n\u001b[1;32m      7\u001b[0m         \u001b[0mprint\u001b[0m \u001b[0;34m(\u001b[0m\u001b[0;34m'Hello {} - what would you like to learn today?'\u001b[0m\u001b[0;34m.\u001b[0m\u001b[0mformat\u001b[0m\u001b[0;34m(\u001b[0m\u001b[0mname\u001b[0m\u001b[0;34m)\u001b[0m\u001b[0;34m)\u001b[0m\u001b[0;34m\u001b[0m\u001b[0;34m\u001b[0m\u001b[0m\n\u001b[0;32m----> 8\u001b[0;31m         \u001b[0mprint\u001b[0m \u001b[0;34m(\u001b[0m\u001b[0mmodules\u001b[0m\u001b[0;34m)\u001b[0m\u001b[0;34m\u001b[0m\u001b[0;34m\u001b[0m\u001b[0m\n\u001b[0m\u001b[1;32m      9\u001b[0m         \u001b[0msubject\u001b[0m \u001b[0;34m=\u001b[0m \u001b[0minput\u001b[0m\u001b[0;34m(\u001b[0m\u001b[0;34m)\u001b[0m\u001b[0;34m\u001b[0m\u001b[0;34m\u001b[0m\u001b[0m\n\u001b[1;32m     10\u001b[0m \u001b[0;34m\u001b[0m\u001b[0m\n",
      "\u001b[0;31mNameError\u001b[0m: name 'modules' is not defined"
     ]
    }
   ],
   "source": [
    "tutorModule()"
   ]
  },
  {
   "cell_type": "markdown",
   "metadata": {},
   "source": [
    "## notes on tutor module\n",
    "\n",
    "- work a stop mechanism into all methods that returns the final score (can even be a paramater, max number of q's to ask? so that it does not go on infinitely?)\n",
    "- get the bot to take the final percentage in (say below 50%) and choose a new method based on that?\n",
    "- could do it via variable 'finish', so if finish == True: return scoreCard and score/total? and that will decide next thing to do.\n",
    "- things such as max no of questions or a score boundary could decide if finished is true or not  "
   ]
  },
  {
   "cell_type": "code",
   "execution_count": 35,
   "metadata": {},
   "outputs": [],
   "source": [
    "# identificationClosed(data)"
   ]
  },
  {
   "cell_type": "code",
   "execution_count": 36,
   "metadata": {},
   "outputs": [],
   "source": [
    "def identificationOpen(data): \n",
    "    \n",
    "    #convert csv to dataframe\n",
    "    qs = pd.read_csv(data)\n",
    "    \n",
    "    #initialise score card \n",
    "    scoreCard(qs, init=True)\n",
    "    \n",
    "    score = 0\n",
    "    total = 0\n",
    "    combo = 0 \n",
    "\n",
    "    while True:\n",
    "        \n",
    "        clear_output(wait=True)\n",
    "\n",
    "        print ('Answer with letters A - G, type stop to end the game')\n",
    "        print (score, '/', total)\n",
    "        print ('combo:', combo)\n",
    "                \n",
    "        #check for init\n",
    "        if total == 0:\n",
    "            ex = random.randint(0,len(qs)-1)\n",
    "        \n",
    "        #ask again if they got last q wrong\n",
    "        elif combo == 0:\n",
    "            ex = ex \n",
    "           \n",
    "            \n",
    "        elif score/total < 0.8:\n",
    "            #interval up/down 1\n",
    "            ex = ex + np.random.choice(np.arange(-1, 2), p=[1/2, 0, 1/2])\n",
    "        else: \n",
    "            #draw from probabilities\n",
    "            ex = np.random.choice(qs.index.to_numpy(), p=qs['probability'])\n",
    "        \n",
    "        try:    \n",
    "            file, label = qs['pngfile'][ex], qs['label'][ex]  \n",
    "        except KeyError:\n",
    "            print ('There was a key error')\n",
    "            continue\n",
    "\n",
    "        print ('What note is this? \\n')\n",
    "\n",
    "        display(Image(filename='./q_folders/stave/' + file))\n",
    "\n",
    "        answer = input('')\n",
    "\n",
    "#         answer = qs['label'][ex]\n",
    "    \n",
    "        #noramlise text\n",
    "        answer = answer.upper()\n",
    "        answer = answer.strip()\n",
    "\n",
    "        if answer == label:\n",
    "            print (\"Well done!\")\n",
    "            score += 1\n",
    "            total += 1\n",
    "            combo += 1\n",
    "\n",
    "            scoreCard(qs, question=file, correct=True)\n",
    "            continue\n",
    "\n",
    "        if answer == 'STOP':\n",
    "            if total == 0:\n",
    "                return ('done')\n",
    "            else:\n",
    "                print ('You score', round(((score/total)*100), 2), '%')\n",
    "#                 return score\n",
    "                return scoreCard(qs, finished=True)\n",
    "\n",
    "        else:\n",
    "            print(\"incorrect, try again\")\n",
    "            total += 1\n",
    "            combo = 0\n",
    "            \n",
    "            scoreCard(qs, question=file, correct=False)\n",
    "\n",
    "#             return qs"
   ]
  },
  {
   "cell_type": "code",
   "execution_count": 38,
   "metadata": {},
   "outputs": [],
   "source": [
    "# intervalTraining(blind=True, difficulty='medium', down=False)"
   ]
  },
  {
   "cell_type": "markdown",
   "metadata": {},
   "source": [
    "<font color = 'red'> IMPORTANT teaching aspect: can it teach them what they are often mistaking some intervals for? This could be applicable to anything and perhaps work via the scoreCard function"
   ]
  },
  {
   "cell_type": "code",
   "execution_count": 39,
   "metadata": {},
   "outputs": [
    {
     "data": {
      "text/html": [
       "<div>\n",
       "<style scoped>\n",
       "    .dataframe tbody tr th:only-of-type {\n",
       "        vertical-align: middle;\n",
       "    }\n",
       "\n",
       "    .dataframe tbody tr th {\n",
       "        vertical-align: top;\n",
       "    }\n",
       "\n",
       "    .dataframe thead th {\n",
       "        text-align: right;\n",
       "    }\n",
       "</style>\n",
       "<table border=\"1\" class=\"dataframe\">\n",
       "  <thead>\n",
       "    <tr style=\"text-align: right;\">\n",
       "      <th></th>\n",
       "      <th>label</th>\n",
       "      <th>difficulty</th>\n",
       "    </tr>\n",
       "  </thead>\n",
       "  <tbody>\n",
       "    <tr>\n",
       "      <th>1</th>\n",
       "      <td>M3</td>\n",
       "      <td>1</td>\n",
       "    </tr>\n",
       "    <tr>\n",
       "      <th>2</th>\n",
       "      <td>P5</td>\n",
       "      <td>1</td>\n",
       "    </tr>\n",
       "    <tr>\n",
       "      <th>3</th>\n",
       "      <td>P8</td>\n",
       "      <td>1</td>\n",
       "    </tr>\n",
       "  </tbody>\n",
       "</table>\n",
       "</div>"
      ],
      "text/plain": [
       "  label  difficulty\n",
       "1    M3           1\n",
       "2    P5           1\n",
       "3    P8           1"
      ]
     },
     "execution_count": 39,
     "metadata": {},
     "output_type": "execute_result"
    }
   ],
   "source": [
    "qs = pd.read_csv('./q_folders/interval/labels.csv')\n",
    "qs#['interval']#.to_list()\n",
    "new = qs.loc[qs['difficulty'] == 1].reset_index(drop=True)\n",
    "new.index += 1\n",
    "new"
   ]
  },
  {
   "cell_type": "code",
   "execution_count": 40,
   "metadata": {},
   "outputs": [
    {
     "ename": "AttributeError",
     "evalue": "'DataFrame' object has no attribute 'interval'",
     "output_type": "error",
     "traceback": [
      "\u001b[0;31m---------------------------------------------------------------------------\u001b[0m",
      "\u001b[0;31mAttributeError\u001b[0m                            Traceback (most recent call last)",
      "\u001b[0;32m<ipython-input-40-bbe44a58b9be>\u001b[0m in \u001b[0;36m<module>\u001b[0;34m\u001b[0m\n\u001b[0;32m----> 1\u001b[0;31m \u001b[0mprint\u001b[0m\u001b[0;34m(\u001b[0m\u001b[0;34m'Which interval did you hear? Type any of the following: \\n'\u001b[0m\u001b[0;34m,\u001b[0m \u001b[0;34m*\u001b[0m\u001b[0mnew\u001b[0m\u001b[0;34m.\u001b[0m\u001b[0minterval\u001b[0m\u001b[0;34m.\u001b[0m\u001b[0mto_list\u001b[0m\u001b[0;34m(\u001b[0m\u001b[0;34m)\u001b[0m\u001b[0;34m)\u001b[0m\u001b[0;34m\u001b[0m\u001b[0;34m\u001b[0m\u001b[0m\n\u001b[0m",
      "\u001b[0;32m~/opt/anaconda3/lib/python3.8/site-packages/pandas/core/generic.py\u001b[0m in \u001b[0;36m__getattr__\u001b[0;34m(self, name)\u001b[0m\n\u001b[1;32m   5272\u001b[0m             \u001b[0;32mif\u001b[0m \u001b[0mself\u001b[0m\u001b[0;34m.\u001b[0m\u001b[0m_info_axis\u001b[0m\u001b[0;34m.\u001b[0m\u001b[0m_can_hold_identifiers_and_holds_name\u001b[0m\u001b[0;34m(\u001b[0m\u001b[0mname\u001b[0m\u001b[0;34m)\u001b[0m\u001b[0;34m:\u001b[0m\u001b[0;34m\u001b[0m\u001b[0;34m\u001b[0m\u001b[0m\n\u001b[1;32m   5273\u001b[0m                 \u001b[0;32mreturn\u001b[0m \u001b[0mself\u001b[0m\u001b[0;34m[\u001b[0m\u001b[0mname\u001b[0m\u001b[0;34m]\u001b[0m\u001b[0;34m\u001b[0m\u001b[0;34m\u001b[0m\u001b[0m\n\u001b[0;32m-> 5274\u001b[0;31m             \u001b[0;32mreturn\u001b[0m \u001b[0mobject\u001b[0m\u001b[0;34m.\u001b[0m\u001b[0m__getattribute__\u001b[0m\u001b[0;34m(\u001b[0m\u001b[0mself\u001b[0m\u001b[0;34m,\u001b[0m \u001b[0mname\u001b[0m\u001b[0;34m)\u001b[0m\u001b[0;34m\u001b[0m\u001b[0;34m\u001b[0m\u001b[0m\n\u001b[0m\u001b[1;32m   5275\u001b[0m \u001b[0;34m\u001b[0m\u001b[0m\n\u001b[1;32m   5276\u001b[0m     \u001b[0;32mdef\u001b[0m \u001b[0m__setattr__\u001b[0m\u001b[0;34m(\u001b[0m\u001b[0mself\u001b[0m\u001b[0;34m,\u001b[0m \u001b[0mname\u001b[0m\u001b[0;34m:\u001b[0m \u001b[0mstr\u001b[0m\u001b[0;34m,\u001b[0m \u001b[0mvalue\u001b[0m\u001b[0;34m)\u001b[0m \u001b[0;34m->\u001b[0m \u001b[0;32mNone\u001b[0m\u001b[0;34m:\u001b[0m\u001b[0;34m\u001b[0m\u001b[0;34m\u001b[0m\u001b[0m\n",
      "\u001b[0;31mAttributeError\u001b[0m: 'DataFrame' object has no attribute 'interval'"
     ]
    }
   ],
   "source": [
    "print('Which interval did you hear? Type any of the following: \\n', *new.interval.to_list())"
   ]
  },
  {
   "cell_type": "code",
   "execution_count": 41,
   "metadata": {},
   "outputs": [
    {
     "ename": "AttributeError",
     "evalue": "'DataFrame' object has no attribute 'interval'",
     "output_type": "error",
     "traceback": [
      "\u001b[0;31m---------------------------------------------------------------------------\u001b[0m",
      "\u001b[0;31mAttributeError\u001b[0m                            Traceback (most recent call last)",
      "\u001b[0;32m<ipython-input-41-f8cad112507e>\u001b[0m in \u001b[0;36m<module>\u001b[0;34m\u001b[0m\n\u001b[1;32m      1\u001b[0m \u001b[0;32mfor\u001b[0m \u001b[0mi\u001b[0m \u001b[0;32min\u001b[0m \u001b[0mrange\u001b[0m\u001b[0;34m(\u001b[0m\u001b[0mlen\u001b[0m\u001b[0;34m(\u001b[0m\u001b[0mnew\u001b[0m\u001b[0;34m)\u001b[0m\u001b[0;34m)\u001b[0m\u001b[0;34m:\u001b[0m\u001b[0;34m\u001b[0m\u001b[0;34m\u001b[0m\u001b[0m\n\u001b[0;32m----> 2\u001b[0;31m     \u001b[0mprint\u001b[0m \u001b[0;34m(\u001b[0m\u001b[0mnew\u001b[0m\u001b[0;34m.\u001b[0m\u001b[0mindex\u001b[0m\u001b[0;34m[\u001b[0m\u001b[0mi\u001b[0m\u001b[0;34m]\u001b[0m\u001b[0;34m,\u001b[0m \u001b[0mnew\u001b[0m\u001b[0;34m.\u001b[0m\u001b[0minterval\u001b[0m\u001b[0;34m[\u001b[0m\u001b[0mi\u001b[0m\u001b[0;34m]\u001b[0m\u001b[0;34m)\u001b[0m\u001b[0;34m\u001b[0m\u001b[0;34m\u001b[0m\u001b[0m\n\u001b[0m",
      "\u001b[0;32m~/opt/anaconda3/lib/python3.8/site-packages/pandas/core/generic.py\u001b[0m in \u001b[0;36m__getattr__\u001b[0;34m(self, name)\u001b[0m\n\u001b[1;32m   5272\u001b[0m             \u001b[0;32mif\u001b[0m \u001b[0mself\u001b[0m\u001b[0;34m.\u001b[0m\u001b[0m_info_axis\u001b[0m\u001b[0;34m.\u001b[0m\u001b[0m_can_hold_identifiers_and_holds_name\u001b[0m\u001b[0;34m(\u001b[0m\u001b[0mname\u001b[0m\u001b[0;34m)\u001b[0m\u001b[0;34m:\u001b[0m\u001b[0;34m\u001b[0m\u001b[0;34m\u001b[0m\u001b[0m\n\u001b[1;32m   5273\u001b[0m                 \u001b[0;32mreturn\u001b[0m \u001b[0mself\u001b[0m\u001b[0;34m[\u001b[0m\u001b[0mname\u001b[0m\u001b[0;34m]\u001b[0m\u001b[0;34m\u001b[0m\u001b[0;34m\u001b[0m\u001b[0m\n\u001b[0;32m-> 5274\u001b[0;31m             \u001b[0;32mreturn\u001b[0m \u001b[0mobject\u001b[0m\u001b[0;34m.\u001b[0m\u001b[0m__getattribute__\u001b[0m\u001b[0;34m(\u001b[0m\u001b[0mself\u001b[0m\u001b[0;34m,\u001b[0m \u001b[0mname\u001b[0m\u001b[0;34m)\u001b[0m\u001b[0;34m\u001b[0m\u001b[0;34m\u001b[0m\u001b[0m\n\u001b[0m\u001b[1;32m   5275\u001b[0m \u001b[0;34m\u001b[0m\u001b[0m\n\u001b[1;32m   5276\u001b[0m     \u001b[0;32mdef\u001b[0m \u001b[0m__setattr__\u001b[0m\u001b[0;34m(\u001b[0m\u001b[0mself\u001b[0m\u001b[0;34m,\u001b[0m \u001b[0mname\u001b[0m\u001b[0;34m:\u001b[0m \u001b[0mstr\u001b[0m\u001b[0;34m,\u001b[0m \u001b[0mvalue\u001b[0m\u001b[0;34m)\u001b[0m \u001b[0;34m->\u001b[0m \u001b[0;32mNone\u001b[0m\u001b[0;34m:\u001b[0m\u001b[0;34m\u001b[0m\u001b[0;34m\u001b[0m\u001b[0m\n",
      "\u001b[0;31mAttributeError\u001b[0m: 'DataFrame' object has no attribute 'interval'"
     ]
    }
   ],
   "source": [
    "for i in range(len(new)):\n",
    "    print (new.index[i], new.interval[i])"
   ]
  },
  {
   "cell_type": "code",
   "execution_count": 42,
   "metadata": {},
   "outputs": [
    {
     "ename": "AttributeError",
     "evalue": "'DataFrame' object has no attribute 'interval'",
     "output_type": "error",
     "traceback": [
      "\u001b[0;31m---------------------------------------------------------------------------\u001b[0m",
      "\u001b[0;31mAttributeError\u001b[0m                            Traceback (most recent call last)",
      "\u001b[0;32m<ipython-input-42-d160775fb2a1>\u001b[0m in \u001b[0;36m<module>\u001b[0;34m\u001b[0m\n\u001b[0;32m----> 1\u001b[0;31m \u001b[0mnew\u001b[0m\u001b[0;34m.\u001b[0m\u001b[0minterval\u001b[0m\u001b[0;34m\u001b[0m\u001b[0;34m\u001b[0m\u001b[0m\n\u001b[0m",
      "\u001b[0;32m~/opt/anaconda3/lib/python3.8/site-packages/pandas/core/generic.py\u001b[0m in \u001b[0;36m__getattr__\u001b[0;34m(self, name)\u001b[0m\n\u001b[1;32m   5272\u001b[0m             \u001b[0;32mif\u001b[0m \u001b[0mself\u001b[0m\u001b[0;34m.\u001b[0m\u001b[0m_info_axis\u001b[0m\u001b[0;34m.\u001b[0m\u001b[0m_can_hold_identifiers_and_holds_name\u001b[0m\u001b[0;34m(\u001b[0m\u001b[0mname\u001b[0m\u001b[0;34m)\u001b[0m\u001b[0;34m:\u001b[0m\u001b[0;34m\u001b[0m\u001b[0;34m\u001b[0m\u001b[0m\n\u001b[1;32m   5273\u001b[0m                 \u001b[0;32mreturn\u001b[0m \u001b[0mself\u001b[0m\u001b[0;34m[\u001b[0m\u001b[0mname\u001b[0m\u001b[0;34m]\u001b[0m\u001b[0;34m\u001b[0m\u001b[0;34m\u001b[0m\u001b[0m\n\u001b[0;32m-> 5274\u001b[0;31m             \u001b[0;32mreturn\u001b[0m \u001b[0mobject\u001b[0m\u001b[0;34m.\u001b[0m\u001b[0m__getattribute__\u001b[0m\u001b[0;34m(\u001b[0m\u001b[0mself\u001b[0m\u001b[0;34m,\u001b[0m \u001b[0mname\u001b[0m\u001b[0;34m)\u001b[0m\u001b[0;34m\u001b[0m\u001b[0;34m\u001b[0m\u001b[0m\n\u001b[0m\u001b[1;32m   5275\u001b[0m \u001b[0;34m\u001b[0m\u001b[0m\n\u001b[1;32m   5276\u001b[0m     \u001b[0;32mdef\u001b[0m \u001b[0m__setattr__\u001b[0m\u001b[0;34m(\u001b[0m\u001b[0mself\u001b[0m\u001b[0;34m,\u001b[0m \u001b[0mname\u001b[0m\u001b[0;34m:\u001b[0m \u001b[0mstr\u001b[0m\u001b[0;34m,\u001b[0m \u001b[0mvalue\u001b[0m\u001b[0;34m)\u001b[0m \u001b[0;34m->\u001b[0m \u001b[0;32mNone\u001b[0m\u001b[0;34m:\u001b[0m\u001b[0;34m\u001b[0m\u001b[0;34m\u001b[0m\u001b[0m\n",
      "\u001b[0;31mAttributeError\u001b[0m: 'DataFrame' object has no attribute 'interval'"
     ]
    }
   ],
   "source": [
    "new.interval"
   ]
  },
  {
   "cell_type": "markdown",
   "metadata": {},
   "source": [
    "## TODO:\n",
    "\n",
    "1. Should 'prompt' or 'feedback' be a constantly chagnging variable dependent on prev answer/the answer to the current q? Maybe they should both be variables. \n",
    "\n",
    "generateQ(data=(index or dataframe), init=None, range=None, probabilities=1d array)\n"
   ]
  },
  {
   "cell_type": "markdown",
   "metadata": {},
   "source": [
    "Interface: Make sure it gives some instant feedback \n",
    "\n",
    "Can it be smart choosing which intervals to go between?\n",
    "\n",
    "If a student is consistently struggling ask questions the system knows they got right to build confidence/change method or strategy. Conversely, if a student is doing really well start to challenge them more. \n",
    "\n",
    "Next step: start **teaching** as opposed to testing. Flash cards, mnemonic, prompts etc. \n",
    "\n"
   ]
  },
  {
   "cell_type": "code",
   "execution_count": 43,
   "metadata": {},
   "outputs": [],
   "source": [
    "def identificationOpen(data): \n",
    "    qs = pd.read_csv(data)\n",
    "    \n",
    "    qs['#_attempts'] = 1\n",
    "    qs['#_correct'] = 1\n",
    "    qs ['probability'] = qs['#_attempts'] / qs['#_correct']\n",
    "    qs['probability'] = qs['probability'] / qs['probability'].sum()\n",
    "    \n",
    "    score = 0\n",
    "    total = 0\n",
    "    combo = 0 \n",
    "\n",
    "    while True:\n",
    "        \n",
    "        clear_output(wait=True)\n",
    "\n",
    "        print ('Answer with letters A - G, type stop to end the game')\n",
    "        print (score, '/', total)\n",
    "        print ('combo:', combo)\n",
    "                \n",
    "        #check for init\n",
    "        if total == 0:\n",
    "            ex = random.randint(0,len(qs)-1)\n",
    "        \n",
    "        #ask again if they got last q wrong\n",
    "        elif combo == 0:\n",
    "            ex = ex \n",
    "            \n",
    "        #interval of no more than 1\n",
    "        elif score/total < 0.8:\n",
    "            ex = ex + np.random.choice(np.arange(-1, 2), p=[1/2, 0, 1/2])\n",
    "        else: \n",
    "            ex = np.random.choice(qs.index.to_numpy(), p=probabilities)\n",
    "        \n",
    "        try:    \n",
    "            file, label = qs['pngfile'][ex], qs['label'][ex]  \n",
    "        except KeyError:\n",
    "            print ('There was a key error')\n",
    "            continue\n",
    "\n",
    "        print ('What note is this? \\n')\n",
    "\n",
    "        display(Image(filename='./q_folders/stave/' + file))\n",
    "\n",
    "        answer = input('')\n",
    "\n",
    "#         answer = qs['label'][ex]\n",
    "    \n",
    "        #noramlise text\n",
    "        answer = answer.upper()\n",
    "        answer = answer.strip()\n",
    "\n",
    "        if answer == label:\n",
    "            print (\"Well done!\")\n",
    "            score += 1\n",
    "            total += 1\n",
    "            combo += 1\n",
    "\n",
    "            #correct\n",
    "            qs.loc[qs['pngfile'] == file, '#_attempts'] += 1\n",
    "            qs.loc[qs['pngfile'] == file, '#_correct'] += 1\n",
    "\n",
    "            #updates probabilities \n",
    "#             qs['probability'] = qs['#_attempts'] / qs['#_correct']\n",
    "            qs.loc[qs['pngfile'] == file, 'probability'] = (qs.loc[qs['pngfile'] == file, 'probability'] / 2)\n",
    "            qs['probability'] = qs['probability'] / qs['probability'].sum()\n",
    "            probabilities = qs['probability'].to_numpy()\n",
    "\n",
    "            continue\n",
    "\n",
    "        if answer == 'STOP':\n",
    "            if total == 0:\n",
    "                return ('done')\n",
    "            else:\n",
    "                print ('You score', round(((score/total)*100), 2), '%')\n",
    "#                 return score\n",
    "                return qs\n",
    "        else:\n",
    "            print(\"incorrect, try again\")\n",
    "            total += 1\n",
    "            combo = 0\n",
    "            \n",
    "            #incorrect\n",
    "            qs.loc[qs['pngfile'] == file, '#_attempts'] += 1\n",
    "            # qs.loc[qs['pngfile'] == file, '#_correct'] += 1\n",
    "\n",
    "            #updates probabilities \n",
    "            # qs ['probability'] = qs['#_attempts'] / qs['#_correct']\n",
    "            qs.loc[qs['pngfile'] == file, 'probability'] = (qs.loc[qs['pngfile'] == file, 'probability'] * 2)\n",
    "            qs['probability'] = qs['probability'] / qs['probability'].sum()\n",
    "            probabilities = qs['probability'].to_numpy()\n",
    "\n",
    "            \n",
    "#             return qs\n"
   ]
  },
  {
   "cell_type": "markdown",
   "metadata": {},
   "source": [
    "Below is also a detailed log of which questions were answered correctly and incorrectly which is constructed from the question table.  This data could be saved and used the next time the method is used for teaching and to contribute to the overall profile of the student. "
   ]
  },
  {
   "cell_type": "markdown",
   "metadata": {},
   "source": [
    "__________"
   ]
  },
  {
   "cell_type": "code",
   "execution_count": null,
   "metadata": {},
   "outputs": [],
   "source": [
    "def identificationClosed(data): \n",
    "    qs = pd.read_csv(data)\n",
    "\n",
    "    score = 0\n",
    "    total = 0\n",
    "    combo = 0 \n",
    "\n",
    "    while True:\n",
    "\n",
    "        clear_output(wait=True)\n",
    "\n",
    "        print (score, '/', total)\n",
    "                \n",
    "        #check for init\n",
    "        if total == 0:\n",
    "            ex = random.randint(0,len(qs)-1)\n",
    "        \n",
    "        #ask again if they got last q wrong\n",
    "        elif combo == 0:\n",
    "            ex = ex \n",
    "            \n",
    "        #interval of no more than 1\n",
    "        elif score/total < 0.8:\n",
    "            ex = ex + np.random.choice(np.arange(-1, 2), p=[1/2, 0, 1/2])\n",
    "        else: \n",
    "            ex = ex + np.random.choice(np.arange(-3, 4), p=[1/4, 1/4, 0, 0, 0, 1/4, 1/4])\n",
    "        \n",
    "        try:    \n",
    "            file, label = qs['pngfile'][ex], qs['label'][ex]  \n",
    "        except KeyError:\n",
    "            print ('There was a key error')\n",
    "            continue\n",
    "        \n",
    "        try:\n",
    "            print ('Is this note ' + label + ' or ' + qs['label'][ex + np.random.choice([1,3,5])])\n",
    "            \n",
    "        except KeyError:\n",
    "            print ('Is this note ' + label + ' or ' + qs['label'][ex - np.random.choice([1,3,5])])\n",
    "\n",
    "        display(Image(filename='./q_folders/stave/' + file))\n",
    "\n",
    "        answer = input('')\n",
    "\n",
    "#         answer = qs['label'][ex]\n",
    "    \n",
    "        #noramlise text\n",
    "        answer = answer.upper()\n",
    "        answer = answer.strip()\n",
    "\n",
    "        if answer == label:\n",
    "            print (\"Well done!\")\n",
    "            score += 1\n",
    "            total += 1\n",
    "            combo += 1\n",
    "            continue\n",
    "\n",
    "        if answer == 'STOP':\n",
    "            if total == 0:\n",
    "                return ('done')\n",
    "            else:\n",
    "                print ('You score', round(((score/total)*100), 2), '%')\n",
    "                return score\n",
    "        else:\n",
    "            print(\"incorrect, try again\")\n",
    "            total += 1\n",
    "            combo = 0\n",
    "            \n"
   ]
  },
  {
   "cell_type": "code",
   "execution_count": null,
   "metadata": {},
   "outputs": [],
   "source": [
    "data = './q_folders/stave/labels.csv'\n",
    "# method = identificationOpen\n",
    "identificationClosed(data)"
   ]
  },
  {
   "cell_type": "code",
   "execution_count": null,
   "metadata": {},
   "outputs": [],
   "source": [
    "qs = pd.read_csv(data)\n",
    "qs\n",
    "# len(qs)"
   ]
  },
  {
   "cell_type": "code",
   "execution_count": null,
   "metadata": {},
   "outputs": [],
   "source": [
    "import re\n",
    " \n",
    "# Function to check if a string\n",
    "# contains only special characters\n",
    "def onlySpecialCharacters(Str):\n",
    " \n",
    "    # Regex to check if a string contains\n",
    "    # only special characters\n",
    "    regex = r\"a-gA-g 0-9\\#\\b\"\n",
    " \n",
    "    # Compile the ReGex\n",
    "    p=re.compile(regex)\n",
    " \n",
    "    # If the string is empty\n",
    "    # then print No\n",
    "    if(len(Str) == 0):\n",
    "        print(\"No\")\n",
    "        return\n",
    " \n",
    "    # Print Yes If the string matches\n",
    "    # with the Regex\n",
    "    if(re.search(p, Str)):\n",
    "        print(\"Yes\")\n",
    "    else:\n",
    "        print(\"No\")\n",
    " \n",
    "\n",
    " \n",
    "# Given string str\n",
    "Str = \n",
    " \n",
    "# Function Call\n",
    "onlySpecialCharacters(Str)\n",
    " "
   ]
  },
  {
   "cell_type": "code",
   "execution_count": null,
   "metadata": {},
   "outputs": [],
   "source": []
  },
  {
   "cell_type": "code",
   "execution_count": null,
   "metadata": {},
   "outputs": [],
   "source": [
    "def answerCleanup(answer, regex, warning):\n",
    "    answer = answer.strip()\n",
    "    answer = answer.upper()\n",
    "\n",
    "    regex = r\"[a-gA-G 0-9\\#\\b]\"\n",
    "    p = re.compile(regex)\n",
    "    m = p.match(answer)\n",
    "    \n",
    "    if m:\n",
    "        return answer\n",
    "    else:\n",
    "        return warning"
   ]
  },
  {
   "cell_type": "code",
   "execution_count": null,
   "metadata": {},
   "outputs": [],
   "source": [
    "warning = 'Invalid character in answer. Only letters A-G allowed. Use # for sharp, lowercase b for flat.'\n",
    "answerCleanup('H', regex=\"[a-gA-G 0-9\\#\\b]\", warning=warning)"
   ]
  },
  {
   "cell_type": "code",
   "execution_count": null,
   "metadata": {},
   "outputs": [],
   "source": [
    "s = 'hello world'\n",
    "s.strip()"
   ]
  },
  {
   "cell_type": "markdown",
   "metadata": {},
   "source": [
    "Can you edit it so that it can keep a detailed track of progress (like a dataframe) and save?"
   ]
  }
 ],
 "metadata": {
  "kernelspec": {
   "display_name": "its",
   "language": "python",
   "name": "its"
  },
  "language_info": {
   "codemirror_mode": {
    "name": "ipython",
    "version": 3
   },
   "file_extension": ".py",
   "mimetype": "text/x-python",
   "name": "python",
   "nbconvert_exporter": "python",
   "pygments_lexer": "ipython3",
   "version": "3.8.3"
  }
 },
 "nbformat": 4,
 "nbformat_minor": 4
}
