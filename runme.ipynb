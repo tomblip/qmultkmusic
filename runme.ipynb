{
 "cells": [
  {
   "cell_type": "markdown",
   "metadata": {},
   "source": [
    "# User Evaluation study of an Intelligent Tutoring System for Music\n",
    "\n",
    " Thankyou for agreeing to take part in this study. Please read the following information carefully before running this notebook.  \n",
    "\n",
    "## Technical notes\n",
    "\n",
    " The best way to run this notebook is by downloading the entire repository from github, installing the requirements and then running in a local install of jupyter notebook/jupyter lab.\n",
    " \n",
    " This notebook needs the following non-standard python dependencies: music21, nltk, pygame and pandas. \n",
    " \n",
    " Please note that you will need to have Musescore installed which can be downloaded for free here: https://musescore.org/en\n",
    " \n",
    " This system has only been tested as working on a mac running macOS Big Sur on an intel processor. \n",
    " \n",
    " ## Evaluation\n",
    "\n",
    " Once you have finished your session with Muzo, you should notice a number of csv files have been saved to the directory containing this notebook. Please zip these as you will need to submit them as part of completing your evaluation of the system. \n",
    "\n",
    "Once you have used the system and are ready to feedback you should complete the evaluation form here: https://forms.gle/WECHz4JWtZKTjNpX7\n",
    "\n",
    "Please briefly read the following questions that you will be asked in the google form befre starting:\n",
    "\n",
    "1. Did you find navigating the system easy? If not, what was difficult about navigating?\n",
    "2. Were there any commands you gave that the system did not understand? \n",
    "3. What subjects did you try? (tick boxes for stave notation, transposition and interval training are shown)\n",
    "4. What exercises did you enjoy the most and why?\n",
    "5. What feedback did the system give you? Did you find the feedback useful?\n",
    "6. Were any of the jumps in difficulty too challenging or not challenging enough?\n",
    "7. Did you have to google anything so that you could answer?\n",
    "8. Do you feel you’ve learnt from the system? If so, what knowledge/skills did you acquire?\n",
    "9. If these exercises were being delivered by a real teacher what would you have liked to ask them?\n",
    "10. Did you run into any errors within the system? If so describe what happened. "
   ]
  },
  {
   "cell_type": "markdown",
   "metadata": {},
   "source": [
    "## Please run the code blocks below to use Muzo. "
   ]
  },
  {
   "cell_type": "code",
   "execution_count": 1,
   "metadata": {},
   "outputs": [],
   "source": [
    "# uncomment the line below if you want to install requirements in the notebook\n",
    "\n",
    "# pip install requirements"
   ]
  },
  {
   "cell_type": "code",
   "execution_count": 10,
   "metadata": {},
   "outputs": [],
   "source": [
    "import funcs as muzo"
   ]
  },
  {
   "cell_type": "code",
   "execution_count": 13,
   "metadata": {},
   "outputs": [],
   "source": [
    "muzo.its()"
   ]
  },
  {
   "cell_type": "code",
   "execution_count": null,
   "metadata": {},
   "outputs": [],
   "source": []
  }
 ],
 "metadata": {
  "kernelspec": {
   "display_name": "its",
   "language": "python",
   "name": "its"
  },
  "language_info": {
   "codemirror_mode": {
    "name": "ipython",
    "version": 3
   },
   "file_extension": ".py",
   "mimetype": "text/x-python",
   "name": "python",
   "nbconvert_exporter": "python",
   "pygments_lexer": "ipython3",
   "version": "3.8.3"
  }
 },
 "nbformat": 4,
 "nbformat_minor": 4
}
