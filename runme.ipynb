{
 "cells": [
  {
   "cell_type": "markdown",
   "metadata": {},
   "source": [
    "## IMPORTANT\n",
    "\n",
    "Ensure you have created your virtual environment and installed the requirements. "
   ]
  },
  {
   "cell_type": "code",
   "execution_count": 1,
   "metadata": {},
   "outputs": [],
   "source": [
    "from IPython.display import display, Image, clear_output\n",
    "import pandas as pd\n",
    "import random \n",
    "import re \n",
    "import numpy as np\n",
    "import music21 as m21\n",
    "import time\n",
    "import datetime\n",
    "import nltk \n",
    "from nltk.stem.wordnet import WordNetLemmatizer\n",
    "from nltk.stem import PorterStemmer"
   ]
  },
  {
   "cell_type": "markdown",
   "metadata": {},
   "source": [
    "# 200806695 MSC Project\n",
    "\n",
    "## An intelligent tutoring system (ITS) for music theory teaching"
   ]
  },
  {
   "cell_type": "code",
   "execution_count": 2,
   "metadata": {
    "jupyter": {
     "source_hidden": true
    }
   },
   "outputs": [],
   "source": [
    "# data = './q_folders/stave/labels_treble.csv'\n",
    "# data = pd.read_csv(data)\n",
    "# data.head()\n"
   ]
  },
  {
   "cell_type": "code",
   "execution_count": 3,
   "metadata": {
    "jupyter": {
     "source_hidden": true
    }
   },
   "outputs": [],
   "source": [
    "# data = './q_folders/transpose/bb/labels.csv'\n",
    "# # data = './q_folders/stave/labels_treble.csv'\n",
    "# data = pd.read_csv(data)\n",
    "# data.head()\n"
   ]
  },
  {
   "cell_type": "code",
   "execution_count": 4,
   "metadata": {
    "jupyter": {
     "source_hidden": true
    }
   },
   "outputs": [],
   "source": [
    "# #random number between 0 and the length of the table\n",
    "# rand_ex = random.randint(0,len(data)-1)\n",
    "\n",
    "# file, label = data.iloc[rand_ex, 1], data.iloc[rand_ex, 2]\n",
    "# print (\"The file is called {} and the answer is {}\" .format(file, label))\n",
    "# display(Image(filename='./q_folders/transpose/bb/' + file))"
   ]
  },
  {
   "cell_type": "code",
   "execution_count": 5,
   "metadata": {
    "jupyter": {
     "source_hidden": true
    }
   },
   "outputs": [],
   "source": [
    "# def identificationOpen(data): \n",
    "#     qs = pd.read_csv(data)\n",
    "    \n",
    "#     score = 0\n",
    "#     total = 0\n",
    "#     combo = 0 \n",
    "    \n",
    "#     while True:\n",
    "        \n",
    "#         clear_output(wait=True)\n",
    "        \n",
    "#         print ('Answer with letters A - G, type stop to end the game')\n",
    "#         print (score, '/', total)\n",
    "#         print ('combo:', combo)\n",
    "                \n",
    "#         #get q at random\n",
    "#         ex = random.randint(0,len(qs)-1)\n",
    "#         file, label = qs['pngfile'][ex], qs['label'][ex]  \n",
    "        \n",
    "#         print ('What note is this? \\n')\n",
    "\n",
    "#         display(Image(filename='./q_folders/stave/' + file))\n",
    "\n",
    "#         answer = input('')\n",
    "    \n",
    "#         #noramlise text\n",
    "#         answer = answer.upper()\n",
    "#         answer = answer.strip()\n",
    "\n",
    "#         if answer == label:\n",
    "#             print (\"Well done!\")\n",
    "#             score += 1\n",
    "#             total += 1\n",
    "#             combo += 1\n",
    "\n",
    "#             continue\n",
    "\n",
    "#         if answer == 'STOP':\n",
    "#             if total == 0:\n",
    "#                 return ('done')\n",
    "#             else:\n",
    "#                 print ('You score', round(((score/total)*100), 2), '%')\n",
    "#                 return score\n",
    "#         else:\n",
    "#             print(\"incorrect, try again\")\n",
    "#             total += 1\n",
    "#             combo = 0"
   ]
  },
  {
   "cell_type": "code",
   "execution_count": 6,
   "metadata": {
    "jupyter": {
     "source_hidden": true
    }
   },
   "outputs": [],
   "source": [
    "#get bank of questions\n",
    "data = './q_folders/stave/labels_treble.csv'\n",
    "\n",
    "#ask q's\n",
    "# identificationOpen(data)"
   ]
  },
  {
   "cell_type": "code",
   "execution_count": 7,
   "metadata": {
    "jupyter": {
     "source_hidden": true
    }
   },
   "outputs": [],
   "source": [
    "def scoreCard(qs, student_no=None, init=False, finished=None, question=None, correct=None, update_probs=True):\n",
    "    \n",
    "    if init == True:\n",
    "\n",
    "        #make new columns, initialise with 1 to avoid division by zero error\n",
    "        qs['#_attempts'] = 1\n",
    "        qs['#_correct'] = 1\n",
    "\n",
    "        #add probabilities to dataframe\n",
    "        qs['probability'] = qs['#_attempts'] / qs['#_correct']\n",
    "        qs['probability'] = qs['probability'] / qs['probability'].sum()\n",
    "        \n",
    "    if correct == True:\n",
    "\n",
    "        #correct\n",
    "        qs.loc[qs.index.values == question, '#_attempts'] += 1\n",
    "        qs.loc[qs.index.values == question, '#_correct'] += 1\n",
    "        \n",
    "    if update_probs and correct == True:\n",
    "\n",
    "        #subtract probability mass from question\n",
    "        qs.loc[qs.index.values == question, 'probability'] = (qs.loc[qs.index.values == question, 'probability'] / 2)\n",
    "        \n",
    "    if correct == False:\n",
    "\n",
    "        #incorrect\n",
    "        qs.loc[qs.index.values == question, '#_attempts'] += 1\n",
    "        \n",
    "    if update_probs and correct == False:\n",
    "\n",
    "        #add probability mass to question  \n",
    "        qs.loc[qs.index.values == question, 'probability'] = (qs.loc[qs.index.values == question, 'probability'] * 2)\n",
    "        \n",
    "    #normalise probabilities\n",
    "    qs['probability'] = qs['probability'] / qs['probability'].sum()\n",
    "    probabilities = qs['probability'].to_numpy() #variable to be accessed by method\n",
    "\n",
    "    if finished == True:\n",
    "        \n",
    "        #minus the 1 that we added earlier to avoid division by zero \n",
    "        qs['#_attempts'] -= 1\n",
    "        qs['#_correct'] -= 1\n",
    "        \n",
    "        time_stamp = datetime.datetime.now().strftime('%c')\n",
    "        time_stamp = str(time_stamp)\n",
    "        time_stamp = time_stamp.replace(':', '-')\n",
    "        \n",
    "        file_name = '{}_{}_.csv'.format(student_no, time_stamp)\n",
    "        qs.to_csv(file_name, index=False)\n",
    "        return "
   ]
  },
  {
   "cell_type": "code",
   "execution_count": 8,
   "metadata": {
    "jupyter": {
     "source_hidden": true
    }
   },
   "outputs": [],
   "source": [
    "def generateQ(q_index, combo, score, total, probabilities, ex=None, interval=False): \n",
    "\n",
    "    if interval == True:\n",
    "        ex = ex + np.random.choice(np.arange(-1,2), p=[1/2,0,1/2])\n",
    "#         ex = ex + generateQ(q_index, probabilities, init=False, interval=True)\n",
    "        \n",
    "#     #ask again if they got last q wrong\n",
    "        return ex\n",
    "\n",
    "    else: \n",
    "        #draw from probabilities\n",
    "#         ex = generateQ(q_index, probabilities, init=False, interval=False)\n",
    "        ex = np.random.choice(q_index, p=probabilities)\n",
    "\n",
    "    return ex\n"
   ]
  },
  {
   "cell_type": "code",
   "execution_count": 9,
   "metadata": {
    "jupyter": {
     "source_hidden": true
    }
   },
   "outputs": [],
   "source": [
    "def answerCleanup(answer, regex=None, method=None):\n",
    "            \n",
    "    if method == 'generative_int':\n",
    "        answer = answer.strip()\n",
    "        return answer\n",
    "    \n",
    "    if method == 'generative_note' or method == 'notes_advanced':\n",
    "        answer = answer.replace(' ', '')\n",
    "        answer = answer.upper()\n",
    "        \n",
    "        regex = r\"[a-gA-G 0-9\\#\\b]\"\n",
    "        \n",
    "    if regex: \n",
    "\n",
    "        p = re.compile(regex)\n",
    "        m = p.match(answer)\n",
    "\n",
    "        if m:\n",
    "            return answer\n",
    "        else:\n",
    "            return 'invalid'\n",
    "    \n",
    "    else:\n",
    "        return answer"
   ]
  },
  {
   "cell_type": "code",
   "execution_count": 12,
   "metadata": {
    "jupyter": {
     "source_hidden": true
    }
   },
   "outputs": [],
   "source": [
    "def generative_int(down=True, qs=None, ex=None):\n",
    "    \n",
    "    interval = qs['label'][ex]\n",
    "    answer = qs['label'][ex]\n",
    "    \n",
    "    pitches = ['F2','G2','A2', 'B2',\n",
    "            'C3', 'D3', 'E3', 'F3', 'G3', 'A3', 'B3',\n",
    "            'C4', 'D4', 'E5', 'F5', 'G5']\n",
    "\n",
    "    p1 = m21.pitch.Pitch(random.choice(pitches)) #pitch1 \n",
    "    n1 = m21.note.Note(p1) #create note1 from pitch1\n",
    "    n1.duration.quarterLength = 2\n",
    "    if down == True:\n",
    "        p2 = random.choice([p1.transpose('-' + interval), p1.transpose(interval)])\n",
    "#         p2 = p1.transpose('-' + q) #transpose down\n",
    "    else:\n",
    "        p2 = p1.transpose(interval) #transpose up\n",
    "\n",
    "    #p2.nameWithOctave #if you want to check\n",
    "    n2 = m21.note.Note(p2) #create note2 from transposed pitch1\n",
    "    n2.duration.quarterLength = 2\n",
    "\n",
    "    s = m21.stream.Stream() #create stream\n",
    "    s.append(n1) #add notes to stream\n",
    "    s.append(n2)\n",
    "\n",
    "    return s, answer"
   ]
  },
  {
   "cell_type": "code",
   "execution_count": 13,
   "metadata": {
    "jupyter": {
     "source_hidden": true
    }
   },
   "outputs": [],
   "source": [
    "def generative_note(ex=None, qs=None, data=None):\n",
    "    \n",
    "    #note = qs['note'][ex] #needs to be note variable for m21\n",
    "    \n",
    "    note_values = ['whole', 'half', 'quarter', 'eighth']\n",
    "    \n",
    "    clef = qs['clef'][ex]\n",
    "    \n",
    "    if clef == 'TrebleClef':\n",
    "        clef = m21.clef.TrebleClef()\n",
    "    if clef == 'BassClef':\n",
    "        clef = m21.clef.BassClef()\n",
    "        \n",
    "    answer = qs['label'][ex]\n",
    "    \n",
    "#     ks = m21.key.KeySignature(int(qs['ks'][ex]))\n",
    "    \n",
    "#     alteredPitches = [str(p) for p in ks.alteredPitches]    \n",
    "\n",
    "    s = m21.stream.Measure([clef])\n",
    "#     s.insert(0, ks)\n",
    "    ts1 = m21.meter.TimeSignature('4/4')\n",
    "    ts1.symbol = 'None'\n",
    "    s.append(ts1)\n",
    "    \n",
    "    p1 = m21.pitch.Pitch(qs['pitches'][ex]) #pitch1 \n",
    "    \n",
    "#     if p1.accidental:\n",
    "#         p1.accidental = None\n",
    "        \n",
    "#     if note[0:2] in alteredPitches and p1.accidental == True:\n",
    "#          p1.accidental = None\n",
    "#     else:\n",
    "#         pass\n",
    "    \n",
    "    n1 = m21.note.Note(p1, type=random.choice(note_values)) #create note1 from pitch1\n",
    "    s.append(n1) #add notes to stream\n",
    "    \n",
    "#     if transpose:\n",
    "#         s.transpose(transpose)\n",
    "        \n",
    "    return s, answer"
   ]
  },
  {
   "cell_type": "code",
   "execution_count": 14,
   "metadata": {
    "jupyter": {
     "source_hidden": true
    }
   },
   "outputs": [],
   "source": [
    "def notes_advanced(qs=None, ex=None, transpose=None):\n",
    "    \n",
    "    tonic = qs['tonic'][ex]\n",
    "    clef = qs['clef'][ex]\n",
    "    start_range = qs['start'][ex]\n",
    "    end_range = qs['end'][ex]\n",
    "    no_notes = qs['no_notes'][ex]\n",
    "    \n",
    "    #clef\n",
    "    if clef == 'TrebleClef':\n",
    "        clef = m21.clef.TrebleClef()\n",
    "    if clef == 'BassClef':\n",
    "        clef = m21.clef.BassClef()\n",
    "        \n",
    "    s = m21.stream.Measure([clef])\n",
    "    #time sig\n",
    "    ts1 = m21.meter.TimeSignature('4/4')\n",
    "    ts1.symbol = 'None'\n",
    "    s.append(ts1)\n",
    "    #key\n",
    "    k = m21.key.Key(tonic)\n",
    "    s.append(k) #add key sig \n",
    "    \n",
    "    #scale\n",
    "    sc1 = m21.scale.MajorScale(tonic)\n",
    "    \n",
    "#     if transpose:\n",
    "#         sc1 = sc1.transpose(transpose) #transpose notes\n",
    "#     else:\n",
    "#         pass\n",
    "        \n",
    "    pitches = [str(p) for p in sc1.getPitches(start_range, end_range)]\n",
    "    notes = random.sample(pitches, no_notes)\n",
    "#     notes = ' '.join([str(note) for note in notes])\n",
    "\n",
    "    if transpose:\n",
    "        k = k.transpose(transpose) #if you want to change the key signature\n",
    "        # k.transpose(transpose) #if you want to change the notes but not the key, could be a param\n",
    "\n",
    "    if transpose:\n",
    "        sc1 = sc1.transpose(transpose) #transpose scale\n",
    "    else:\n",
    "        pass\n",
    "    \n",
    "#     print (notes)\n",
    "    #transpose notes\n",
    "    \n",
    "    notes_list = []\n",
    "    \n",
    "    for note in notes:\n",
    "        p = m21.pitch.Pitch(note)\n",
    "        n = m21.note.Note(p, type='quarter') #create note1 from pitch1\n",
    "        s.append(n)\n",
    "        if transpose:\n",
    "            p = p.transpose(transpose)\n",
    "        else:\n",
    "            pass\n",
    "        notes_list.append(str(p.name).replace('-', 'B'))\n",
    "\n",
    "        \n",
    "    answer = notes_list\n",
    "\n",
    "    return s, answer"
   ]
  },
  {
   "cell_type": "code",
   "execution_count": 15,
   "metadata": {
    "jupyter": {
     "source_hidden": true
    }
   },
   "outputs": [],
   "source": [
    "# its()"
   ]
  },
  {
   "cell_type": "code",
   "execution_count": 16,
   "metadata": {
    "jupyter": {
     "source_hidden": true
    }
   },
   "outputs": [],
   "source": [
    "def game(data, instructions, prompt, method, student_no, min_q=5, pass_threshold=0.9, down=False, \n",
    "         blind=True, difficulty=None, transpose=None):\n",
    "    \n",
    "    times = []\n",
    "    \n",
    "    #convert csv of qs to dataframe\n",
    "    qs = pd.read_csv(data + 'labels.csv')\n",
    "    \n",
    "    #slice data to q's according to difficulty\n",
    "    if difficulty:\n",
    "        qs = qs.loc[qs['difficulty'] == difficulty].reset_index(drop=True)\n",
    "    else:\n",
    "        pass\n",
    "    \n",
    "    #initialise score card based on csv of questions, get init probabilities (random)\n",
    "    scoreCard(qs, init=True)\n",
    "    probabilities = qs['probability']\n",
    "    \n",
    "    #the index will be used by generateQ to choose questions \n",
    "    q_index = qs.index.values\n",
    "    \n",
    "    #initialise local variables to track scores and give instant feedback\n",
    "    score = 0\n",
    "    total = 0\n",
    "    combo = 0 \n",
    "    \n",
    "    #feedback is used to help guide the student\n",
    "    feedback = \"Okay, here we go\"\n",
    "    \n",
    "    finished = False\n",
    "    \n",
    "    previous_correct = True\n",
    "    \n",
    "    #first loop: pick a question using lower level strategies\n",
    "    while True:\n",
    "\n",
    "        #ask again if previous answer incorrect\n",
    "        if total == 0:\n",
    "            ex = generateQ(q_index=q_index, score=score, combo=combo,total=total,\n",
    "                        interval=False, probabilities=probabilities)\n",
    "            \n",
    "        #restrict to interval in case of ordinal q's\n",
    "        elif score/total < 0.8:\n",
    "            ex = generateQ(ex=ex, q_index=q_index, score=score, combo=combo,total=total,\n",
    "                        interval=True, probabilities=probabilities)\n",
    "            \n",
    "        #draw from probabilities\n",
    "        else:\n",
    "            ex = generateQ(q_index=q_index, score=score, combo=combo, total=total,\n",
    "                        interval=False, probabilities=probabilities)\n",
    "#             continue\n",
    "\n",
    "        #second loop: present the question, get answer, update scores and probabilities\n",
    "        while True:\n",
    "\n",
    "            if total > 0 and total % min_q == 0 and score/total > pass_threshold:\n",
    "                answer = input('''You\\'re doing well, do you want to:\n",
    "                1. end the game and try something new or\n",
    "                2. continue playing?\n",
    "                Type 1 or 2 )''')\n",
    "                \n",
    "                while True:\n",
    "\n",
    "                    answer = answer[0]\n",
    "                    answer = answerCleanup(answer, regex=\"[1-2]\")\n",
    "                    \n",
    "                    if answer == 'invalid':\n",
    "                        print ('invalid answer, type 1 or 2')\n",
    "                        continue\n",
    "                        \n",
    "                    else:\n",
    "\n",
    "                        if answer == '1':\n",
    "                            finished = True\n",
    "                            break\n",
    "                        \n",
    "                        if answer == '2':\n",
    "                            break\n",
    "\n",
    "#             print ('ex is {}'.format(ex))\n",
    "#             print  (qs['label'])\n",
    "            \n",
    "#             label = qs['label'][ex] #correct answer \n",
    "            clear_output(wait=True)\n",
    "            \n",
    "            if finished == True: \n",
    "                scoreCard(qs, student_no, finished=True)\n",
    "                return score/total\n",
    "    \n",
    "            print (feedback, '\\n \\n {} \\n'.format(instructions)) #this could be a prompt?\n",
    "            # and the prompt could be different things depending on how the game is going and the curricula\n",
    "\n",
    "            print (score, '/', total)\n",
    "            print ('combo:', combo)\n",
    "                        \n",
    "            #ASK QUESTION\n",
    "            if method == 'generative_note':\n",
    "                s, label = generative_note(qs=qs, ex=ex)\n",
    "                s.show()\n",
    "                \n",
    "            if method == 'notes_advanced':\n",
    "                s, label = notes_advanced(\n",
    "                    ex=ex, qs=qs, transpose=transpose)\n",
    "                s.show()\n",
    "                \n",
    "                label = ''.join(str(note).upper() for note in label)\n",
    "                print (label)\n",
    "                \n",
    "            if method == 'generative_int':\n",
    "                if previous_correct == False:\n",
    "                    pass\n",
    "                else:\n",
    "                    s, label = generative_int(down=True, ex=ex, qs=qs)\n",
    "                if blind == False:\n",
    "                    s.show() #show music\n",
    "                else:\n",
    "                    pass\n",
    "                sp = m21.midi.realtime.StreamPlayer(s) \n",
    "                sp.play()\n",
    "                \n",
    "            print (prompt) \n",
    "            #GET ANSWER\n",
    "            start_time = time.time()\n",
    "            answer = input('') #hash out to compute answer automatically \n",
    "            inputs.append(answer)\n",
    "\n",
    "            if answer == 'stop': \n",
    "                finished = True\n",
    "                continue\n",
    "\n",
    "#                 if total == 0:\n",
    "#                     return ('No questions answered')\n",
    "#                 else:\n",
    "#                     print ('You score', round(((score/total)*100), 2), '%')\n",
    "#     #                 return score\n",
    "#                     return scoreCard(qs, finished=True)\n",
    "            \n",
    "            answer = answerCleanup(answer, method=method) #unhash to test answer\n",
    "        \n",
    "            if answer == label:\n",
    "                end_time = time.time()\n",
    "                time_lapsed = end_time - start_time\n",
    "                times.append(time_lapsed)\n",
    "                \n",
    "                score += 1\n",
    "                total += 1\n",
    "                combo += 1\n",
    "                previous_correct = True\n",
    "\n",
    "                if input('Well done! Press enter to continue.') == '':\n",
    "                    pass\n",
    "                if previous_correct == True:\n",
    "                    scoreCard(qs, question=ex, correct=True, update_probs=True)\n",
    "                    break\n",
    "                \n",
    "                #do not update probabilities if last question was incorrect\n",
    "                if previous_correct == False:\n",
    "                    scoreCard(qs, question=ex, correct=True, update_probs=False)\n",
    "                    break\n",
    "    \n",
    "            if answer == 'invalid':\n",
    "                if input('WARNING: Invalid answer.') == '':\n",
    "                    pass\n",
    "        \n",
    "                continue\n",
    "\n",
    "            else:\n",
    "                total += 1\n",
    "                combo = 0\n",
    "                previous_correct = False\n",
    "                scoreCard(qs, question=ex, correct=False, update_probs=True)\n",
    "                if input('Incorrect - press enter to try again.') == '':\n",
    "                    pass\n",
    "                \n",
    "                continue"
   ]
  },
  {
   "cell_type": "code",
   "execution_count": 17,
   "metadata": {
    "jupyter": {
     "source_hidden": true
    }
   },
   "outputs": [],
   "source": [
    "def preProcess(word):\n",
    "    porter = PorterStemmer()\n",
    "    Lem = WordNetLemmatizer()\n",
    "\n",
    "    word = Lem.lemmatize(word)\n",
    "    word = porter.stem(word)\n",
    "    return word\n",
    "\n",
    "def preProcessList(lst):\n",
    "    words = []\n",
    "    for word in lst:\n",
    "        word = preProcess(word)\n",
    "        words.append(word)\n",
    "        \n",
    "    return words"
   ]
  },
  {
   "cell_type": "code",
   "execution_count": 18,
   "metadata": {
    "jupyter": {
     "source_hidden": true
    }
   },
   "outputs": [],
   "source": [
    "#key words for different subjects (bag of words)\n",
    "notation = ['notes', 'clef', 'reading', 'notation']\n",
    "interval = ['interval', 'distance', 'major', 'minor']\n",
    "transposition = ['transpose', 'trumpet', 'instruments', 'transposition']\n",
    "\n",
    "#preProcess lists\n",
    "notation = preProcessList(notation)\n",
    "interval = preProcessList(interval)\n",
    "transposition = preProcessList(transposition)\n"
   ]
  },
  {
   "cell_type": "code",
   "execution_count": null,
   "metadata": {
    "jupyter": {
     "source_hidden": true
    }
   },
   "outputs": [],
   "source": []
  },
  {
   "cell_type": "code",
   "execution_count": 19,
   "metadata": {
    "jupyter": {
     "source_hidden": true
    }
   },
   "outputs": [],
   "source": [
    "#identification method\n",
    "\n",
    "method = 'generative_note'\n",
    "instructions = 'Answer with letters A-G. Type stop to end the game'\n",
    "regex = r\"[a-gA-G 0-9\\#\\b]\"\n",
    "prompt = 'What pitch is displayed on the clef?'\n",
    "data = '/q_folders/g1_treble_'\n",
    "\n"
   ]
  },
  {
   "cell_type": "code",
   "execution_count": 20,
   "metadata": {
    "jupyter": {
     "source_hidden": true
    }
   },
   "outputs": [],
   "source": [
    "#interval method\n",
    "method = 'generative_int'\n",
    "instructions = 'Enter your answer with 2 chars only'\n",
    "\n",
    "data = '/q_folders/interval_'\n",
    "prompt = 'Which interval did you hear?'\n"
   ]
  },
  {
   "cell_type": "code",
   "execution_count": 21,
   "metadata": {
    "jupyter": {
     "source_hidden": true
    }
   },
   "outputs": [],
   "source": [
    "def subjectSelect(greeting, student_no):\n",
    "\n",
    "    while True:\n",
    "        \n",
    "        #parse input\n",
    "        tokens = greeting.split()\n",
    "\n",
    "        for token in tokens:\n",
    "            token = preProcess(token)\n",
    "\n",
    "\n",
    "\n",
    "            #subject select\n",
    "            if token in notation:\n",
    "                print ('Okay, would you like to train on the treble or bass clef?')\n",
    "\n",
    "                method = 'generative_note'\n",
    "                instructions = 'Answer with letters A-G. Type stop to end the game'\n",
    "                regex = r\"[a-gA-G 0-9\\#\\b]\"\n",
    "                prompt = 'What pitch is displayed on the clef?'\n",
    "\n",
    "                answer = input()\n",
    "                if answer == 'treble':\n",
    "                    ('Okay, lets do notes on the treble clef')\n",
    "                    data = './q_folders/g1_treble_' #treble\n",
    "                    score = game(data, instructions, prompt, method, student_no,\n",
    "                                min_q=5, pass_threshold=0.9) #start game\n",
    "\n",
    "                if answer == 'bass':\n",
    "                    ('Okay, lets do notes on the bass clef')\n",
    "                    data = './q_folders/g1_bass_' #bass\n",
    "                    score = game(data, instructions, prompt, method, student_no,\n",
    "                                min_q=5, pass_threshold=0.9) #start game\n",
    "\n",
    "                if score < 0.5:\n",
    "                    print ('You should try something easier')\n",
    "                if score > 0.5:\n",
    "                    print ('You should try something harder')\n",
    "\n",
    "\n",
    "    #             if answer == 'alto':\n",
    "    #                 ('Okay, let\\s do notes on the alto clef.')\n",
    "    #                 identificationOpen('./q_folders/altoclef/')\n",
    "\n",
    "            if token in interval:\n",
    "                print ('Okay, let\\s do interval training')\n",
    "\n",
    "                #interval method\n",
    "                method = 'generative_int'\n",
    "                instructions = 'Enter your answer with 2 chars only'\n",
    "                data = './q_folders/interval_'\n",
    "                prompt = 'Which interval did you hear?'\n",
    "\n",
    "                difficulty = 1\n",
    "\n",
    "                while True:\n",
    "\n",
    "                    next_instruction = game(data, instructions, prompt, method, student_no,\n",
    "                                            min_q=5, pass_threshold=0.5, difficulty=difficulty) #start game\n",
    "\n",
    "                    if next_instruction == 'level_up':\n",
    "                        difficulty += 1\n",
    "                        continue\n",
    "                    if next_instruction == 'stop':\n",
    "                        break \n",
    "\n",
    "\n",
    "\n",
    "            if token in transposition:\n",
    "\n",
    "                print ('Okay, let\\s do transposition')\n",
    "                data = './q_folders/transposition_'\n",
    "                prompt = 'What is the sounding pitch of this note for a Bb instrument?'\n",
    "                instructions = 'Answer with letters A-G. Type stop to end the game'\n",
    "                method = 'notes_advanced'\n",
    "                transpose = 'm2'\n",
    "                difficulty = 2\n",
    "                return game(data, instructions, prompt, method, student_no, transpose='-M2',\n",
    "                                             pass_threshold=0.5, difficulty=difficulty)\n",
    "\n",
    "                if next_instruction == 'level_up':\n",
    "                    data = './q_folders/transpose/eb/'\n",
    "                    return game(data, instructions, prompt, 'identificationOpen')\n",
    "\n",
    "        return 'invalid'\n"
   ]
  },
  {
   "cell_type": "code",
   "execution_count": 22,
   "metadata": {
    "jupyter": {
     "source_hidden": true
    }
   },
   "outputs": [],
   "source": [
    "def its():\n",
    "    \n",
    "    global inputs\n",
    "    inputs = []\n",
    "    \n",
    "    student_no = input('Please enter your username')\n",
    "    inputs.append(student_no)\n",
    "    \n",
    "    while True:\n",
    "        print ('Thanks, {}. What do you want to learn today?'.format(student_no))\n",
    "        print ('Type stop to end the session')\n",
    "        answer = input()\n",
    "        inputs.append(answer)\n",
    "        if answer == 'stop':\n",
    "            print (inputs)\n",
    "            break\n",
    "        else:\n",
    "            subjectSelect(answer, student_no=student_no)"
   ]
  },
  {
   "cell_type": "code",
   "execution_count": 23,
   "metadata": {},
   "outputs": [
    {
     "ename": "ZeroDivisionError",
     "evalue": "division by zero",
     "output_type": "error",
     "traceback": [
      "\u001b[0;31m---------------------------------------------------------------------------\u001b[0m",
      "\u001b[0;31mZeroDivisionError\u001b[0m                         Traceback (most recent call last)",
      "\u001b[0;32m<ipython-input-23-a3e7a77283c0>\u001b[0m in \u001b[0;36m<module>\u001b[0;34m\u001b[0m\n\u001b[0;32m----> 1\u001b[0;31m \u001b[0mits\u001b[0m\u001b[0;34m(\u001b[0m\u001b[0;34m)\u001b[0m\u001b[0;34m\u001b[0m\u001b[0;34m\u001b[0m\u001b[0m\n\u001b[0m",
      "\u001b[0;32m<ipython-input-22-e19743040966>\u001b[0m in \u001b[0;36mits\u001b[0;34m()\u001b[0m\n\u001b[1;32m     16\u001b[0m             \u001b[0;32mbreak\u001b[0m\u001b[0;34m\u001b[0m\u001b[0;34m\u001b[0m\u001b[0m\n\u001b[1;32m     17\u001b[0m         \u001b[0;32melse\u001b[0m\u001b[0;34m:\u001b[0m\u001b[0;34m\u001b[0m\u001b[0;34m\u001b[0m\u001b[0m\n\u001b[0;32m---> 18\u001b[0;31m             \u001b[0msubjectSelect\u001b[0m\u001b[0;34m(\u001b[0m\u001b[0manswer\u001b[0m\u001b[0;34m,\u001b[0m \u001b[0mstudent_no\u001b[0m\u001b[0;34m=\u001b[0m\u001b[0mstudent_no\u001b[0m\u001b[0;34m)\u001b[0m\u001b[0;34m\u001b[0m\u001b[0;34m\u001b[0m\u001b[0m\n\u001b[0m",
      "\u001b[0;32m<ipython-input-21-7d6728b4e5c1>\u001b[0m in \u001b[0;36msubjectSelect\u001b[0;34m(greeting, student_no)\u001b[0m\n\u001b[1;32m     24\u001b[0m                     \u001b[0;34m(\u001b[0m\u001b[0;34m'Okay, lets do notes on the treble clef'\u001b[0m\u001b[0;34m)\u001b[0m\u001b[0;34m\u001b[0m\u001b[0;34m\u001b[0m\u001b[0m\n\u001b[1;32m     25\u001b[0m                     \u001b[0mdata\u001b[0m \u001b[0;34m=\u001b[0m \u001b[0;34m'./q_folders/g1_treble_'\u001b[0m \u001b[0;31m#treble\u001b[0m\u001b[0;34m\u001b[0m\u001b[0;34m\u001b[0m\u001b[0m\n\u001b[0;32m---> 26\u001b[0;31m                     score = game(data, instructions, prompt, method, student_no,\n\u001b[0m\u001b[1;32m     27\u001b[0m                                 min_q=5, pass_threshold=0.9) #start game\n\u001b[1;32m     28\u001b[0m \u001b[0;34m\u001b[0m\u001b[0m\n",
      "\u001b[0;32m<ipython-input-16-e767a4b0cdc3>\u001b[0m in \u001b[0;36mgame\u001b[0;34m(data, instructions, prompt, method, student_no, min_q, pass_threshold, down, blind, difficulty, transpose)\u001b[0m\n\u001b[1;32m     86\u001b[0m             \u001b[0;32mif\u001b[0m \u001b[0mfinished\u001b[0m \u001b[0;34m==\u001b[0m \u001b[0;32mTrue\u001b[0m\u001b[0;34m:\u001b[0m\u001b[0;34m\u001b[0m\u001b[0;34m\u001b[0m\u001b[0m\n\u001b[1;32m     87\u001b[0m                 \u001b[0mscoreCard\u001b[0m\u001b[0;34m(\u001b[0m\u001b[0mqs\u001b[0m\u001b[0;34m,\u001b[0m \u001b[0mstudent_no\u001b[0m\u001b[0;34m,\u001b[0m \u001b[0mfinished\u001b[0m\u001b[0;34m=\u001b[0m\u001b[0;32mTrue\u001b[0m\u001b[0;34m)\u001b[0m\u001b[0;34m\u001b[0m\u001b[0;34m\u001b[0m\u001b[0m\n\u001b[0;32m---> 88\u001b[0;31m                 \u001b[0;32mreturn\u001b[0m \u001b[0mscore\u001b[0m\u001b[0;34m/\u001b[0m\u001b[0mtotal\u001b[0m\u001b[0;34m\u001b[0m\u001b[0;34m\u001b[0m\u001b[0m\n\u001b[0m\u001b[1;32m     89\u001b[0m \u001b[0;34m\u001b[0m\u001b[0m\n\u001b[1;32m     90\u001b[0m             \u001b[0mprint\u001b[0m \u001b[0;34m(\u001b[0m\u001b[0mfeedback\u001b[0m\u001b[0;34m,\u001b[0m \u001b[0;34m'\\n \\n {} \\n'\u001b[0m\u001b[0;34m.\u001b[0m\u001b[0mformat\u001b[0m\u001b[0;34m(\u001b[0m\u001b[0minstructions\u001b[0m\u001b[0;34m)\u001b[0m\u001b[0;34m)\u001b[0m \u001b[0;31m#this could be a prompt?\u001b[0m\u001b[0;34m\u001b[0m\u001b[0;34m\u001b[0m\u001b[0m\n",
      "\u001b[0;31mZeroDivisionError\u001b[0m: division by zero"
     ]
    }
   ],
   "source": [
    "its()"
   ]
  },
  {
   "cell_type": "code",
   "execution_count": null,
   "metadata": {
    "jupyter": {
     "source_hidden": true
    }
   },
   "outputs": [],
   "source": []
  },
  {
   "cell_type": "markdown",
   "metadata": {},
   "source": [
    "_________"
   ]
  }
 ],
 "metadata": {
  "kernelspec": {
   "display_name": "Python 3",
   "language": "python",
   "name": "python3"
  },
  "language_info": {
   "codemirror_mode": {
    "name": "ipython",
    "version": 3
   },
   "file_extension": ".py",
   "mimetype": "text/x-python",
   "name": "python",
   "nbconvert_exporter": "python",
   "pygments_lexer": "ipython3",
   "version": "3.8.3"
  }
 },
 "nbformat": 4,
 "nbformat_minor": 4
}
