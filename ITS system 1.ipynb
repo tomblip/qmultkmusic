{
 "cells": [
  {
   "cell_type": "code",
   "execution_count": 3,
   "metadata": {},
   "outputs": [],
   "source": [
    "from IPython.display import display, Image, clear_output\n",
    "import pandas as pd\n",
    "import random \n",
    "import re \n",
    "import numpy as np\n",
    "import music21 as m21\n",
    "import time\n",
    "import nltk \n",
    "from nltk.stem.wordnet import WordNetLemmatizer\n",
    "from nltk.stem import PorterStemmer"
   ]
  },
  {
   "cell_type": "markdown",
   "metadata": {},
   "source": [
    "# 200806695 MSC Project\n",
    "\n",
    "## An intelligent tutoring system (ITS) for music theory teaching"
   ]
  },
  {
   "cell_type": "markdown",
   "metadata": {},
   "source": [
    "### Part 1 - a non intelligent tutoring system"
   ]
  },
  {
   "cell_type": "markdown",
   "metadata": {},
   "source": [
    "#### Loading the questions data\n",
    "\n",
    " The questions are png images of notes on a stave that were generated with the music21 library. Below is a (lookup table?) which can be used to access the png image for the questions (or the xml if need be)."
   ]
  },
  {
   "cell_type": "code",
   "execution_count": 4,
   "metadata": {},
   "outputs": [
    {
     "data": {
      "text/html": [
       "<div>\n",
       "<style scoped>\n",
       "    .dataframe tbody tr th:only-of-type {\n",
       "        vertical-align: middle;\n",
       "    }\n",
       "\n",
       "    .dataframe tbody tr th {\n",
       "        vertical-align: top;\n",
       "    }\n",
       "\n",
       "    .dataframe thead th {\n",
       "        text-align: right;\n",
       "    }\n",
       "</style>\n",
       "<table border=\"1\" class=\"dataframe\">\n",
       "  <thead>\n",
       "    <tr style=\"text-align: right;\">\n",
       "      <th></th>\n",
       "      <th>xmlfile</th>\n",
       "      <th>pngfile</th>\n",
       "      <th>label</th>\n",
       "    </tr>\n",
       "  </thead>\n",
       "  <tbody>\n",
       "    <tr>\n",
       "      <th>0</th>\n",
       "      <td>treble_C4.xml</td>\n",
       "      <td>treble_C4-1.png</td>\n",
       "      <td>C</td>\n",
       "    </tr>\n",
       "    <tr>\n",
       "      <th>1</th>\n",
       "      <td>treble_D4.xml</td>\n",
       "      <td>treble_D4-1.png</td>\n",
       "      <td>D</td>\n",
       "    </tr>\n",
       "    <tr>\n",
       "      <th>2</th>\n",
       "      <td>treble_E4.xml</td>\n",
       "      <td>treble_E4-1.png</td>\n",
       "      <td>E</td>\n",
       "    </tr>\n",
       "    <tr>\n",
       "      <th>3</th>\n",
       "      <td>treble_F4.xml</td>\n",
       "      <td>treble_F4-1.png</td>\n",
       "      <td>F</td>\n",
       "    </tr>\n",
       "    <tr>\n",
       "      <th>4</th>\n",
       "      <td>treble_G4.xml</td>\n",
       "      <td>treble_G4-1.png</td>\n",
       "      <td>G</td>\n",
       "    </tr>\n",
       "  </tbody>\n",
       "</table>\n",
       "</div>"
      ],
      "text/plain": [
       "         xmlfile          pngfile label\n",
       "0  treble_C4.xml  treble_C4-1.png     C\n",
       "1  treble_D4.xml  treble_D4-1.png     D\n",
       "2  treble_E4.xml  treble_E4-1.png     E\n",
       "3  treble_F4.xml  treble_F4-1.png     F\n",
       "4  treble_G4.xml  treble_G4-1.png     G"
      ]
     },
     "execution_count": 4,
     "metadata": {},
     "output_type": "execute_result"
    }
   ],
   "source": [
    "data = './q_folders/stave/labels_treble.csv'\n",
    "data = pd.read_csv(data)\n",
    "data.head()\n"
   ]
  },
  {
   "cell_type": "markdown",
   "metadata": {},
   "source": [
    "Below is an example of how data from the table can be used to generate a question and answer from the database."
   ]
  },
  {
   "cell_type": "code",
   "execution_count": 5,
   "metadata": {},
   "outputs": [
    {
     "data": {
      "text/html": [
       "<div>\n",
       "<style scoped>\n",
       "    .dataframe tbody tr th:only-of-type {\n",
       "        vertical-align: middle;\n",
       "    }\n",
       "\n",
       "    .dataframe tbody tr th {\n",
       "        vertical-align: top;\n",
       "    }\n",
       "\n",
       "    .dataframe thead th {\n",
       "        text-align: right;\n",
       "    }\n",
       "</style>\n",
       "<table border=\"1\" class=\"dataframe\">\n",
       "  <thead>\n",
       "    <tr style=\"text-align: right;\">\n",
       "      <th></th>\n",
       "      <th>xmlfile</th>\n",
       "      <th>pngfile</th>\n",
       "      <th>label</th>\n",
       "    </tr>\n",
       "  </thead>\n",
       "  <tbody>\n",
       "    <tr>\n",
       "      <th>0</th>\n",
       "      <td>bb_C4.xml</td>\n",
       "      <td>bb_C4-1.png</td>\n",
       "      <td>D</td>\n",
       "    </tr>\n",
       "    <tr>\n",
       "      <th>1</th>\n",
       "      <td>bb_C#4.xml</td>\n",
       "      <td>bb_C#4-1.png</td>\n",
       "      <td>E-</td>\n",
       "    </tr>\n",
       "    <tr>\n",
       "      <th>2</th>\n",
       "      <td>bb_D4.xml</td>\n",
       "      <td>bb_D4-1.png</td>\n",
       "      <td>E</td>\n",
       "    </tr>\n",
       "    <tr>\n",
       "      <th>3</th>\n",
       "      <td>bb_E-4.xml</td>\n",
       "      <td>bb_E-4-1.png</td>\n",
       "      <td>F</td>\n",
       "    </tr>\n",
       "    <tr>\n",
       "      <th>4</th>\n",
       "      <td>bb_E4.xml</td>\n",
       "      <td>bb_E4-1.png</td>\n",
       "      <td>F#</td>\n",
       "    </tr>\n",
       "  </tbody>\n",
       "</table>\n",
       "</div>"
      ],
      "text/plain": [
       "      xmlfile       pngfile label\n",
       "0   bb_C4.xml   bb_C4-1.png     D\n",
       "1  bb_C#4.xml  bb_C#4-1.png    E-\n",
       "2   bb_D4.xml   bb_D4-1.png     E\n",
       "3  bb_E-4.xml  bb_E-4-1.png     F\n",
       "4   bb_E4.xml   bb_E4-1.png    F#"
      ]
     },
     "execution_count": 5,
     "metadata": {},
     "output_type": "execute_result"
    }
   ],
   "source": [
    "data = './q_folders/transpose/bb/labels.csv'\n",
    "# data = './q_folders/stave/labels_treble.csv'\n",
    "data = pd.read_csv(data)\n",
    "data.head()\n"
   ]
  },
  {
   "cell_type": "code",
   "execution_count": 6,
   "metadata": {},
   "outputs": [
    {
     "name": "stdout",
     "output_type": "stream",
     "text": [
      "The file is called bb_G4-1.png and the answer is A\n"
     ]
    },
    {
     "data": {
      "image/png": "[encoded data removed]",
      "text/plain": [
       "<IPython.core.display.Image object>"
      ]
     },
     "metadata": {},
     "output_type": "display_data"
    }
   ],
   "source": [
    "#random number between 0 and the length of the table\n",
    "rand_ex = random.randint(0,len(data)-1)\n",
    "\n",
    "file, label = data.iloc[rand_ex, 1], data.iloc[rand_ex, 2]\n",
    "print (\"The file is called {} and the answer is {}\" .format(file, label))\n",
    "display(Image(filename='./q_folders/transpose/bb/' + file))"
   ]
  },
  {
   "cell_type": "markdown",
   "metadata": {},
   "source": [
    "Now that we have a database of answers we can ask a user a question at random and see if they get it correct.\n"
   ]
  },
  {
   "cell_type": "code",
   "execution_count": 7,
   "metadata": {
    "jupyter": {
     "source_hidden": true
    }
   },
   "outputs": [],
   "source": [
    "# def identificationOpen(data): \n",
    "#     qs = pd.read_csv(data)\n",
    "    \n",
    "#     score = 0\n",
    "#     total = 0\n",
    "#     combo = 0 \n",
    "    \n",
    "#     while True:\n",
    "        \n",
    "#         clear_output(wait=True)\n",
    "        \n",
    "#         print ('Answer with letters A - G, type stop to end the game')\n",
    "#         print (score, '/', total)\n",
    "#         print ('combo:', combo)\n",
    "                \n",
    "#         #get q at random\n",
    "#         ex = random.randint(0,len(qs)-1)\n",
    "#         file, label = qs['pngfile'][ex], qs['label'][ex]  \n",
    "        \n",
    "#         print ('What note is this? \\n')\n",
    "\n",
    "#         display(Image(filename='./q_folders/stave/' + file))\n",
    "\n",
    "#         answer = input('')\n",
    "    \n",
    "#         #noramlise text\n",
    "#         answer = answer.upper()\n",
    "#         answer = answer.strip()\n",
    "\n",
    "#         if answer == label:\n",
    "#             print (\"Well done!\")\n",
    "#             score += 1\n",
    "#             total += 1\n",
    "#             combo += 1\n",
    "\n",
    "#             continue\n",
    "\n",
    "#         if answer == 'STOP':\n",
    "#             if total == 0:\n",
    "#                 return ('done')\n",
    "#             else:\n",
    "#                 print ('You score', round(((score/total)*100), 2), '%')\n",
    "#                 return score\n",
    "#         else:\n",
    "#             print(\"incorrect, try again\")\n",
    "#             total += 1\n",
    "#             combo = 0"
   ]
  },
  {
   "cell_type": "code",
   "execution_count": 8,
   "metadata": {},
   "outputs": [],
   "source": [
    "#get bank of questions\n",
    "data = './q_folders/stave/labels_treble.csv'\n",
    "\n",
    "#ask q's\n",
    "# identificationOpen(data)"
   ]
  },
  {
   "cell_type": "markdown",
   "metadata": {},
   "source": [
    " There are a few limitations with this simple game which prevent it from being an ITS:\n",
    " \n",
    " 1. It will sometimes pick the same question twice in a row (there is no need to do this if the student answered correctly).\n",
    " 2.  It picks at random and therefore jumps between questions which could be confusing for a beginner.\n",
    " 3. It doesn't know which exercises the student is struggling with in particular and has no strategy for helping them to learn. \n"
   ]
  },
  {
   "cell_type": "markdown",
   "metadata": {},
   "source": [
    "### Part 2: Lower level strategies for an ITS"
   ]
  },
  {
   "cell_type": "markdown",
   "metadata": {},
   "source": [
    "According to John Self, an ITS is\n",
    "\n",
    "*‘… [a] computer-based learning system which has some degree of autonomous decision-making with respect to some aspect of its interaction with its users’* (1995) \n",
    "\n",
    " We will now try to get the system to make *intelligent* and autonomous decisions about which questions to present that aim to overcome the aforementioned limitations that should be more effective for the user. \n",
    " \n",
    "  The system will implement the following low level strategies:\n",
    "  \n",
    " 1. Ask the same question again if the student gives a wrong answer so that the user can learn where they went wrong\n",
    " 2. Pick questions based on probabilities - for example, if a student has answered a question correctly it is half as likely they will be asked that same exercise again. Conversely, if they answer a question incorrectly it is twice as likely they will be asked that question again.\n",
    " 3. If the success rate is below 80% only move one question up/down at a time to prevent large jumps confusing the student. \n",
    "\n",
    "These autonomous decisions and the idea of 'low level strategies' have been inspired directly from the paper 'A System for Concerned Teaching of Musical Aural Skills' by Wiggins (2000, p4). \n",
    "\n",
    "_______"
   ]
  },
  {
   "cell_type": "markdown",
   "metadata": {},
   "source": [
    "## scoreCard function\n",
    "\n",
    "Below is a function which will keep a score of the questions answered correctly/incorrectly. It will also give question probabilities for the method to use. It does not actually return anything unless the session has ended in which case it returns the table of answers and probabilities that it has been building up. This data can be saved to help build a profile of the user that can be accessed later if desired."
   ]
  },
  {
   "cell_type": "code",
   "execution_count": 9,
   "metadata": {},
   "outputs": [],
   "source": [
    "def scoreCard(qs, init=False, finished=None, question=None, correct=None, update_probs=True):\n",
    "    \n",
    "    if init == True:\n",
    "\n",
    "        #make new columns, initialise with 1 to avoid division by zero error\n",
    "        qs['#_attempts'] = 1\n",
    "        qs['#_correct'] = 1\n",
    "\n",
    "        #add probabilities to dataframe\n",
    "        qs['probability'] = qs['#_attempts'] / qs['#_correct']\n",
    "        qs['probability'] = qs['probability'] / qs['probability'].sum()\n",
    "        \n",
    "    if correct == True:\n",
    "\n",
    "        #correct\n",
    "        qs.loc[qs['label'] == question, '#_attempts'] += 1\n",
    "        qs.loc[qs['label'] == question, '#_correct'] += 1\n",
    "        \n",
    "    if update_probs and correct == True:\n",
    "\n",
    "        #subtract probability mass from question\n",
    "        qs.loc[qs['label'] == question, 'probability'] = (qs.loc[qs['label'] == question, 'probability'] / 2)\n",
    "        \n",
    "    if correct == False:\n",
    "\n",
    "        #incorrect\n",
    "        qs.loc[qs['label'] == question, '#_attempts'] += 1\n",
    "        \n",
    "    if update_probs and correct == False:\n",
    "\n",
    "        #add probability mass to question  \n",
    "        qs.loc[qs['label'] == question, 'probability'] = (qs.loc[qs['label'] == question, 'probability'] * 2)\n",
    "        \n",
    "    #normalise probabilities\n",
    "    qs['probability'] = qs['probability'] / qs['probability'].sum()\n",
    "    probabilities = qs['probability'].to_numpy() #variable to be accessed by method\n",
    "\n",
    "    if finished == True:\n",
    "        \n",
    "        #minus the 1 that we added earlier to avoid division by zero \n",
    "        qs['#_attempts'] -= 1\n",
    "        qs['#_correct'] -= 1\n",
    "    \n",
    "        return qs"
   ]
  },
  {
   "cell_type": "markdown",
   "metadata": {},
   "source": [
    " With the above function the system has the data to make intelligent decisions based on probabilities. However, we've not yet got a function to select a question based on the probabilities. \n",
    "\n",
    "## generateQ function \n",
    "\n",
    "generate Q can be used to \n",
    "\n",
    "1. slice a database of q's (for instance just the treble clef notes as opposed to bass and treble clef) \n",
    "2. exclude certain questions\n",
    "3. specify an interval between q's (to avoid jumps that cause difficulty in the case of ordinal questions) \n",
    "4. generate a q based on a previous q (for example sticking to a certain subset)\n",
    "5. draw a question based on the probabilities from the score card\n",
    "\n",
    "\n",
    "<font color='red'> Room for improvement: generateQ should also take the total, correct, combo data etc because these do decide questions and make a large chunk of the code. "
   ]
  },
  {
   "cell_type": "code",
   "execution_count": 10,
   "metadata": {},
   "outputs": [],
   "source": [
    "def generateQ(q_index, probabilities, previous_q=None, init=False, interval=None):\n",
    "\n",
    "## do not need the first init arg as probs will be random anyway... could be useful later for\n",
    "## perhaps giving students an initial hint \n",
    "\n",
    "#     if init is True:\n",
    "#         #pick random exercise\n",
    "#         return np.random.choice(q_index, p=probabilities)\n",
    "\n",
    "    \n",
    "    if interval is True:\n",
    "        #make this more flexible so you can specify the range \n",
    "        return np.random.choice(np.arange(-1, 2), p=[1/2, 0, 1/2])\n",
    "    \n",
    "    else:\n",
    "        return np.random.choice(q_index, p=probabilities)\n",
    "    \n",
    "#     return ex"
   ]
  },
  {
   "cell_type": "markdown",
   "metadata": {},
   "source": [
    "## answerCleanup function\n",
    "\n",
    "answerCleanup will remove leading whitespace and convert all letters to capitals to reduce the chance of a user entering an invalid answer. It can also take regex. It will output 'invalid' if the answer is not valid. It can be modified for different exercises/curricula"
   ]
  },
  {
   "cell_type": "code",
   "execution_count": 11,
   "metadata": {},
   "outputs": [],
   "source": [
    "def answerCleanup(answer, regex=None):\n",
    "\n",
    "    answer = answer.strip()\n",
    "    answer = answer.upper()\n",
    "    \n",
    "    if regex: \n",
    "\n",
    "        p = re.compile(regex)\n",
    "        m = p.match(answer)\n",
    "\n",
    "        if m:\n",
    "            return answer\n",
    "        else:\n",
    "            return 'invalid'\n",
    "    \n",
    "    else:\n",
    "        return answer"
   ]
  },
  {
   "cell_type": "code",
   "execution_count": 12,
   "metadata": {},
   "outputs": [
    {
     "data": {
      "text/plain": [
       "'invalid'"
      ]
     },
     "execution_count": 12,
     "metadata": {},
     "output_type": "execute_result"
    }
   ],
   "source": [
    "regex = r\"[a-gA-G 0-9\\#\\b]\"\n",
    "answer = 'h'\n",
    "answerCleanup(answer, regex)\n"
   ]
  },
  {
   "cell_type": "markdown",
   "metadata": {},
   "source": [
    "## Higher level teaching methods\n",
    "\n",
    " In line with the ideas presented by Wiggins in his 2000 paper, we will now implement a function to teach our first higher level teaching method: identificationOpen\n",
    " \n",
    " ## identificationOpen function\n",
    " \n",
    "  The function will take the questions data as input. It will keep scores using the scoreCard function. It will present questions, take answers and provide feedback. If the score falls below a certain threshold (this could be a parameter) it returns the score which will then be used by the tutor module to choose another higher level teaching method. "
   ]
  },
  {
   "cell_type": "markdown",
   "metadata": {},
   "source": [
    "<span style=\"color:red\"> Potential parameters for the identificationOpen:? </span>\n",
    "- databank of q's\n",
    "- databank of prompts?\n",
    "- regex for answer cleanup\n",
    "\n",
    "But... for now maybe just make a new function, copy and paste. Consolidate later. \n",
    "    \n",
    "Update 23/09/21: new variable 'finished'. When True, the method returns the score. Should this only be used by the tutor module? Should it return anything else? How will it save the scores etc"
   ]
  },
  {
   "cell_type": "code",
   "execution_count": 13,
   "metadata": {},
   "outputs": [],
   "source": [
    "def identificationOpen(data): \n",
    "    \n",
    "    #convert csv of qs to dataframe\n",
    "    qs = pd.read_csv(data + 'labels.csv')\n",
    "    \n",
    "#     return qs \n",
    "\n",
    "#     if slice:\n",
    "#         qs = qs.iloc[4:6]\n",
    "    \n",
    "    #initialise score card based on csv of questions, get init probabilities (random)\n",
    "    scoreCard(qs, init=True)\n",
    "    probabilities = qs['probability']\n",
    "    \n",
    "    #the index will be used by generateQ to choose questions \n",
    "    q_index = qs.index.values\n",
    "    \n",
    "    #initialise local variables to track scores and give instant feedback\n",
    "    score = 0\n",
    "    total = 0\n",
    "    combo = 0 \n",
    "\n",
    "    #feedback is used to help guide the student\n",
    "    feedback = \"Okay, here we go\"\n",
    "    \n",
    "    finished = False\n",
    "    \n",
    "    previous_correct = True\n",
    "    \n",
    "    #first loop: pick a question\n",
    "    while True:\n",
    "        \n",
    "        clear_output(wait=True)\n",
    "\n",
    "        #check for init\n",
    "        # maybe change this so it teaches??\n",
    "        if total == 0: #or previous_correct = False?\n",
    "            ex = generateQ(q_index, probabilities, init=True)\n",
    "        \n",
    "        #ask again if they got last q wrong\n",
    "        elif combo == 0:\n",
    "            ex = ex \n",
    "            \n",
    "        elif score/total < 0.5:\n",
    "            finished = True\n",
    "        \n",
    "        elif score/total < 0.8:\n",
    "            #restrict interval for ordinal q's\n",
    "            ex = ex + generateQ(q_index, probabilities, init=False, interval=True)\n",
    "            \n",
    "        else: \n",
    "            #draw from probabilities\n",
    "            ex = generateQ(q_index, probabilities, init=False, interval=False)\n",
    "        \n",
    "        #still presents a key error... fix this\n",
    "        try:    \n",
    "            file, label = qs['pngfile'][ex], qs['label'][ex]  \n",
    "        except KeyError:\n",
    "            print ('There was a key error')\n",
    "            print (ex)\n",
    "            break\n",
    "        \n",
    "#             continue\n",
    "        #second loop: present the question, get answer, update scores and probabilities\n",
    "        while True:\n",
    "            \n",
    "            if finished == True: \n",
    "                return score/total\n",
    "    \n",
    "            print (feedback, '\\n \\n Answer with letters A - G.\\n Type stop to end the game \\n') #this could be a prompt?\n",
    "            # and the prompt could be different things depending on how the game is going and the curricula\n",
    "\n",
    "            print (score, '/', total)\n",
    "            print ('combo:', combo)\n",
    "                \n",
    "            #ask question, receive answer\n",
    "            print ('What note is this? \\n')\n",
    "            display(Image(filename = data + file))\n",
    "            answer = qs['label'][random.randint(0,len(qs)-1)]#[ex]\n",
    "            \n",
    "            answer = input('') #hash out to compute answer automatically \n",
    "            answer = answerCleanup(answer, regex=None) #hash out to compute answer automatically\n",
    "            \n",
    "            if answer == 'STOP': \n",
    "                if total == 0:\n",
    "                    return ('No questions answered')\n",
    "                else:\n",
    "                    print ('You score', round(((score/total)*100), 2), '%')\n",
    "    #                 return score\n",
    "                    return scoreCard(qs, finished=True)\n",
    "    \n",
    "            answer = answerCleanup(answer, regex=r\"[a-gA-G 0-9\\#\\b]\") #unhash to test answer\n",
    "\n",
    "            if answer == label:\n",
    "                feedback = \"Well done!\"\n",
    "                score += 1\n",
    "                total += 1\n",
    "                combo += 1\n",
    "                previous_correct = True\n",
    "\n",
    "                if previous_correct == True:\n",
    "                    scoreCard(qs, question=label, correct=True, update_probs=True)\n",
    "                    break\n",
    "                \n",
    "                #do not update probabilities if last question was incorrect\n",
    "                if previous_correct == False:\n",
    "                    scoreCard(qs, question=label, correct=True, update_probs=False)\n",
    "                    break\n",
    "    \n",
    "            if answer == 'invalid':\n",
    "                clear_output(wait=True)\n",
    "                feedback = 'WARNING: Invalid character in answer. Only letters A-G allowed. Try again.'\n",
    "                continue\n",
    "\n",
    "            else:\n",
    "                feedback = \"Incorrect, try again.\"\n",
    "                #prompt???\n",
    "                total += 1\n",
    "                combo = 0\n",
    "                previous_correct = False\n",
    "                scoreCard(qs, question=label, correct=False, update_probs=True)\n",
    "                \n",
    "                break"
   ]
  },
  {
   "cell_type": "markdown",
   "metadata": {},
   "source": [
    "<font color ='red'> known bug: index error<br>\n",
    "also: fix when it returns the score?"
   ]
  },
  {
   "cell_type": "code",
   "execution_count": 14,
   "metadata": {},
   "outputs": [],
   "source": [
    "data = './q_folders/stave/' #treble\n",
    "\n",
    "# data = './q_folders/altoclef/' #alto\n",
    "\n",
    "# data = './q_folders/transpose/bb/'"
   ]
  },
  {
   "cell_type": "code",
   "execution_count": 15,
   "metadata": {},
   "outputs": [],
   "source": [
    "# identificationOpen(data)"
   ]
  },
  {
   "cell_type": "markdown",
   "metadata": {},
   "source": [
    " ## identificationClosed function\n",
    " \n",
    " This function is similar to identificationOpen with the exception that it prompts the user with one correct and one incorrect answer which could help the student find the right answer. "
   ]
  },
  {
   "cell_type": "code",
   "execution_count": 16,
   "metadata": {},
   "outputs": [],
   "source": [
    "def identificationClosed(data): \n",
    "    \n",
    "    #convert csv of qs to dataframe\n",
    "    qs = pd.read_csv(data + 'labels.csv')\n",
    "    \n",
    "    #initialise score card based on csv of questions, get init probabilities (random)\n",
    "    scoreCard(qs, init=True)\n",
    "    probabilities = qs['probability']\n",
    "    \n",
    "    #the index will be used by generateQ to choose questions \n",
    "    q_index = qs.index.values\n",
    "    \n",
    "    #initialise local variables to track scores and give instant feedback\n",
    "    score = 0\n",
    "    total = 0\n",
    "    combo = 0 \n",
    "\n",
    "    #feedback is used to help guide the student\n",
    "    feedback = \"Okay, here we go\"\n",
    "    \n",
    "    previous_correct = True\n",
    "    \n",
    "    #first loop: pick a question\n",
    "    while True:\n",
    "        \n",
    "        clear_output(wait=True)\n",
    "\n",
    "        #check for init\n",
    "        # maybe change this so it teaches??\n",
    "        if total == 0: #or previous_correct = False?\n",
    "            ex = generateQ(q_index, probabilities, init=True)\n",
    "        \n",
    "        #ask again if they got last q wrong\n",
    "        elif combo == 0:\n",
    "            ex = ex \n",
    "            \n",
    "        elif score/total < 0.8:\n",
    "            #restrict interval for ordinal q's\n",
    "            ex = ex + generateQ(q_index, probabilities, init=False, interval=True)\n",
    "        else: \n",
    "            #draw from probabilities\n",
    "            ex = generateQ(q_index, probabilities, init=False, interval=False)\n",
    "        \n",
    "        #still presents a key error... fix this\n",
    "        try:    \n",
    "            file, label = qs['pngfile'][ex], qs['label'][ex]  \n",
    "            incorrect_label = qs['label'][random.randint(0,len(qs)-1)]\n",
    "        except KeyError:\n",
    "            print ('There was a key error')\n",
    "            print (ex)\n",
    "            break\n",
    "        \n",
    "#             continue\n",
    "        \n",
    "        \n",
    "        #second loop: present the question, get answer, update scores and probabilities\n",
    "        while True:\n",
    "            \n",
    "            print (feedback, '\\n \\n Answer with letters A - G.\\n Type stop to end the game \\n') #this could be a prompt?\n",
    "            # and the prompt could be different things depending on how the game is going and the curricula\n",
    "\n",
    "            print (score, '/', total)\n",
    "            print ('combo:', combo)\n",
    "                \n",
    "            #ask question, receive answer\n",
    "            print ('Is this note {} or {}'.format(label, incorrect_label)) \n",
    "            display(Image(filename = data + file))\n",
    "            answer = qs['label'][random.randint(0,len(qs)-1)]#[ex]\n",
    "            \n",
    "            answer = input('') #hash out to compute answer automatically \n",
    "            answer = answerCleanup(answer, regex=None) #hash out to compute answer automatically\n",
    "            \n",
    "            if answer == 'STOP': \n",
    "                if total == 0:\n",
    "                    return ('No questions answered')\n",
    "                else:\n",
    "                    print ('You score', round(((score/total)*100), 2), '%')\n",
    "    #                 return score\n",
    "                    return scoreCard(qs, finished=True)\n",
    "    \n",
    "            answer = answerCleanup(answer, regex=r\"[a-gA-G 0-9\\#\\b]\") #unhash to test answer\n",
    "\n",
    "            if answer == label:\n",
    "                feedback = \"Well done!\"\n",
    "                score += 1\n",
    "                total += 1\n",
    "                combo += 1\n",
    "                previous_correct = True\n",
    "\n",
    "                if previous_correct == True:\n",
    "                    scoreCard(qs, question=file, correct=True, update_probs=True)\n",
    "                    break\n",
    "                \n",
    "                #do not update probabilities if last question was incorrect\n",
    "                if previous_correct == False:\n",
    "                    scoreCard(qs, question=file, correct=True, update_probs=False)\n",
    "                    break\n",
    "    \n",
    "            if answer == 'invalid':\n",
    "                clear_output(wait=True)\n",
    "                feedback = 'WARNING: Invalid character in answer. Only letters A-G allowed. Try again.'\n",
    "                continue\n",
    "\n",
    "            else:\n",
    "                feedback = \"Incorrect, try again.\"\n",
    "                #prompt???\n",
    "                total += 1\n",
    "                combo = 0\n",
    "                previous_correct = False\n",
    "                scoreCard(qs, question=file, correct=False, update_probs=True)\n",
    "                \n",
    "                break"
   ]
  },
  {
   "cell_type": "markdown",
   "metadata": {},
   "source": [
    "<font color='red'> Room for improvement on identification closed: \n",
    "- make sure it cant suggest the same label \n",
    "- make sure it mixes up incorrect and incorrect (so its not always the first choice)\n",
    "- can it make decisions intelligently (for example always picking line notes)\n",
    "- can it reject an answer that is not suggested by the function?"
   ]
  },
  {
   "cell_type": "markdown",
   "metadata": {},
   "source": [
    "## intervalTraining"
   ]
  },
  {
   "cell_type": "code",
   "execution_count": 17,
   "metadata": {
    "jupyter": {
     "source_hidden": true
    }
   },
   "outputs": [],
   "source": [
    "# def identificationOpen(data): \n",
    "    \n",
    "#     #convert csv to dataframe\n",
    "#     qs = pd.read_csv(data)\n",
    "    \n",
    "#     #initialise score card \n",
    "#     scoreCard(qs, init=True)\n",
    "    \n",
    "#     score = 0\n",
    "#     total = 0\n",
    "#     combo = 0 \n",
    "\n",
    "#     while True:\n",
    "        \n",
    "#         clear_output(wait=True)\n",
    "\n",
    "#         print ('Answer with letters A - G, type stop to end the game')\n",
    "#         print (score, '/', total)\n",
    "#         print ('combo:', combo)\n",
    "                \n",
    "#         #check for init\n",
    "#         if total == 0:\n",
    "#             ex = random.randint(0,len(qs)-1)\n",
    "        \n",
    "#         #ask again if they got last q wrong\n",
    "#         elif combo == 0:\n",
    "#             ex = ex \n",
    "           \n",
    "            \n",
    "#         elif score/total < 0.8:\n",
    "#             #interval up/down 1\n",
    "#             ex = ex + np.random.choice(np.arange(-1, 2), p=[1/2, 0, 1/2])\n",
    "#         else: \n",
    "#             #draw from probabilities\n",
    "#             ex = np.random.choice(qs.index.to_numpy(), p=qs['probability'])\n",
    "        \n",
    "#         try:    \n",
    "#             file, label = qs['pngfile'][ex], qs['label'][ex]  \n",
    "#         except KeyError:\n",
    "#             print ('There was a key error')\n",
    "#             continue\n",
    "\n",
    "#         print ('What note is this? \\n')\n",
    "\n",
    "#         display(Image(filename='./q_folders/stave/' + file))\n",
    "\n",
    "#         answer = input('')\n",
    "\n",
    "# #         answer = qs['label'][ex]\n",
    "    \n",
    "#         #noramlise text\n",
    "#         answer = answer.upper()\n",
    "#         answer = answer.strip()\n",
    "\n",
    "#         if answer == label:\n",
    "#             print (\"Well done!\")\n",
    "#             score += 1\n",
    "#             total += 1\n",
    "#             combo += 1\n",
    "\n",
    "#             scoreCard(qs, question=file, correct=True)\n",
    "#             continue\n",
    "\n",
    "#         if answer == 'STOP':\n",
    "#             if total == 0:\n",
    "#                 return ('done')\n",
    "#             else:\n",
    "#                 print ('You score', round(((score/total)*100), 2), '%')\n",
    "# #                 return score\n",
    "#                 return scoreCard(qs, finished=True)\n",
    "\n",
    "#         else:\n",
    "#             print(\"incorrect, try again\")\n",
    "#             total += 1\n",
    "#             combo = 0\n",
    "            \n",
    "#             scoreCard(qs, question=file, correct=False)\n",
    "\n",
    "# #             return qs"
   ]
  },
  {
   "cell_type": "code",
   "execution_count": 18,
   "metadata": {},
   "outputs": [],
   "source": [
    "def intervalTraining(blind=False, down=False, difficulty=None):\n",
    "    \n",
    "    #convert csv of qs to dataframe\n",
    "    data = pd.read_csv('./q_folders/interval/labels.csv')\n",
    "    \n",
    "    #slice data to q's according to difficulty\n",
    "    if difficulty == 'easy':\n",
    "        qs = data.loc[data['difficulty'] == 1].reset_index(drop=True)\n",
    "    else:\n",
    "        qs = data\n",
    "        \n",
    "    #initialise score card based on csv of questions, get init probabilities (random)\n",
    "    scoreCard(qs, init=True)\n",
    "    probabilities = qs['probability']\n",
    "    \n",
    "    #the index will be used by generateQ to choose questions \n",
    "    q_index = qs.index.values\n",
    "    \n",
    "    #initialise local variables to track scores\n",
    "    score = 0\n",
    "    total = 0\n",
    "    combo = 0 \n",
    "    \n",
    "    #feedback is used to help guide the student\n",
    "    feedback = 'Okay, here we go'\n",
    "    \n",
    "    finished = False\n",
    "    \n",
    "    previous_correct = True\n",
    "    \n",
    "    while True:\n",
    "        \n",
    "        clear_output(wait=True)\n",
    "        \n",
    "        #check for init\n",
    "        if total == 0:\n",
    "            ex = generateQ(q_index, probabilities, init=True)\n",
    "        \n",
    "        #ask again if last q wrong\n",
    "        elif combo == 0:\n",
    "            ex = ex\n",
    "        \n",
    "        elif score/total < 0.5:\n",
    "            finished = True\n",
    "            \n",
    "        else:\n",
    "            #draw from probabilities\n",
    "            ex = generateQ(q_index, probabilities, init=False, interval=False)\n",
    "            \n",
    "        label = qs['label'][ex]\n",
    "        \n",
    "        while True:\n",
    "            \n",
    "            if finished == True:\n",
    "                return score/total\n",
    "            \n",
    "            print(feedback, '\\n \\n Which interval did you hear? Type any of the following (case sensitive): \\n',\n",
    "                  *qs.label.to_list())\n",
    "            \n",
    "            print (score, '/', total)\n",
    "            print ('combo:', combo)\n",
    "\n",
    "    #         display(Image(filename='./q_folders/stave/' + file))\n",
    "    \n",
    "            #play / display interval\n",
    "            pitches = ['F2','G2','A2', 'B2',\n",
    "            'C3', 'D3', 'E3', 'F3', 'G3', 'A3', 'B3',\n",
    "            'C4', 'D4', 'E5', 'F5', 'G5']\n",
    "            \n",
    "            if previous_correct == False:\n",
    "                pass\n",
    "            else:\n",
    "                p1 = m21.pitch.Pitch(random.choice(pitches)) #pitch1 \n",
    "                n1 = m21.note.Note(p1) #create note1 from pitch1\n",
    "                n1.duration.quarterLength = 2\n",
    "                if down == True:\n",
    "                    p2 = random.choice([p1.transpose('-' + label), p1.transpose(label)])\n",
    "        #         p2 = p1.transpose('-' + q) #transpose down\n",
    "                else:\n",
    "                    p2 = p1.transpose(label) #transpose up\n",
    "\n",
    "                #p2.nameWithOctave #if you want to check\n",
    "                n2 = m21.note.Note(p2) #create note2 from transposed pitch1\n",
    "                n2.duration.quarterLength = 2\n",
    "\n",
    "                s = m21.stream.Stream() #create stream\n",
    "                s.append(n1) #add notes to stream\n",
    "                s.append(n2)\n",
    "                if blind == False:\n",
    "                    s.show() #show music\n",
    "                else:\n",
    "                    pass\n",
    "\n",
    "                sp = m21.midi.realtime.StreamPlayer(s) #play\n",
    "            sp.play()\n",
    "\n",
    "            answer = input('')\n",
    "            \n",
    "            #noramlise text\n",
    "            answer = answer.strip()\n",
    "            \n",
    "            if answer == 'STOP' or answer == 'stop': \n",
    "                if total == 0:\n",
    "                    return ('No questions answered')\n",
    "                else:\n",
    "                    print ('You score', round(((score/total)*100), 2), '%')\n",
    "    #                 return score\n",
    "                    return scoreCard(qs, finished=True)\n",
    "\n",
    "            if answer == label:\n",
    "                print (\"Well done!\")\n",
    "                score += 1\n",
    "                total += 1\n",
    "                combo += 1\n",
    "                previous_correct = True\n",
    "                time.sleep(1)\n",
    "                \n",
    "                if previous_correct == True:\n",
    "                    scoreCard(qs, question=label, correct=True, update_probs=True)\n",
    "                    break\n",
    "                \n",
    "                #do not update probabilities if last question was incorrect\n",
    "                if previous_correct == False:\n",
    "                    scoreCard(qs, question=label, correct=True, update_probs=False)\n",
    "                    break\n",
    "                    \n",
    "            if answer == 'invalid':\n",
    "                clear_output(wait=True)\n",
    "                feedback = 'WARNING: Invalid character in answer. Only letters A-G allowed. Try again.'\n",
    "                continue\n",
    "\n",
    "            else:\n",
    "                feedback = \"Incorrect, try again.\"\n",
    "                #prompt???\n",
    "                total += 1\n",
    "                combo = 0\n",
    "                previous_correct = False\n",
    "                scoreCard(qs, question=label, correct=False, update_probs=True)\n",
    "                time.sleep(2)\n",
    "    \n",
    "                break\n"
   ]
  },
  {
   "cell_type": "markdown",
   "metadata": {},
   "source": [
    "## tutorModule()\n",
    "\n",
    "The tutorModule will guide the user through the different teaching strategies and act as a rules based chatbot. It will implement some standard NLP approaches such as the preprocessing of text. "
   ]
  },
  {
   "cell_type": "code",
   "execution_count": 19,
   "metadata": {},
   "outputs": [],
   "source": [
    "# data = './q_folders/stave/' #treble\n",
    "\n",
    "# data = './q_folders/altoclef/' #alto\n",
    "\n",
    "# data = './q_folders/transpose/bb/'"
   ]
  },
  {
   "cell_type": "code",
   "execution_count": 20,
   "metadata": {},
   "outputs": [],
   "source": [
    "porter = PorterStemmer()\n",
    "Lem = WordNetLemmatizer()\n",
    "\n",
    "def preProcess(word):\n",
    "    word = Lem.lemmatize(word)\n",
    "    word = porter.stem(word)\n",
    "    return word\n",
    "\n",
    "def preProcessList(lst):\n",
    "    words = []\n",
    "    for word in lst:\n",
    "        word = preProcess(word)\n",
    "        words.append(word)\n",
    "        \n",
    "    return words"
   ]
  },
  {
   "cell_type": "code",
   "execution_count": 21,
   "metadata": {},
   "outputs": [],
   "source": [
    "#key words for different subjects (bag of words)\n",
    "notation = ['notes', 'clef', 'reading', 'notation']\n",
    "interval = ['interval', 'distance', 'major', 'minor']\n",
    "transpose = ['transpose', 'trumpet', 'instruments']\n",
    "\n",
    "#preProcess lists\n",
    "notation = preProcessList(notation)\n",
    "interval = preProcessList(interval)\n",
    "transpose = preProcessList(transpose)"
   ]
  },
  {
   "cell_type": "code",
   "execution_count": 22,
   "metadata": {},
   "outputs": [],
   "source": [
    "def subjectSelect(greeting):\n",
    "\n",
    "    tokens = greeting.split()\n",
    "    for token in tokens:\n",
    "        token = preProcess(token)\n",
    "        if token in notation:\n",
    "            print ('Okay, would you like to train on the alto or treble/bass clef?')\n",
    "            answer = input()\n",
    "            if answer == 'treble/bass':\n",
    "                ('Okay, let\\s do notes on the treble clef')\n",
    "                identificationOpen('./q_folders/stave/')\n",
    "            if answer == 'alto':\n",
    "                ('Okay, let\\s do notes on the alto clef.')\n",
    "                identificationOpen('./q_folders/altoclef/')\n",
    "\n",
    "        if token in interval:\n",
    "            print ('Okay, let\\s do interval training')\n",
    "            intervalTraining(blind=True, difficulty='medium', down=False)\n",
    "                 \n",
    "        if token in transpose:\n",
    "            print ('Okay, let\\s do interval training')\n",
    "            identificationOpen('./q_folders/transpose/bb/')\n",
    "        \n",
    "    print ('I do not understand - which of these subjects would you like to try?')\n",
    "    print ('Stave notation \\nInterval training \\nTransposition')\n"
   ]
  },
  {
   "cell_type": "code",
   "execution_count": 29,
   "metadata": {},
   "outputs": [
    {
     "name": "stdout",
     "output_type": "stream",
     "text": [
      "Well done! \n",
      " \n",
      " Answer with letters A - G.\n",
      " Type stop to end the game \n",
      "\n",
      "10 / 11\n",
      "combo: 6\n",
      "What note is this? \n",
      "\n"
     ]
    },
    {
     "data": {
      "image/png": "[encoded data removed]",
      "text/plain": [
       "<IPython.core.display.Image object>"
      ]
     },
     "metadata": {},
     "output_type": "display_data"
    },
    {
     "name": "stdin",
     "output_type": "stream",
     "text": [
      " stop\n"
     ]
    },
    {
     "name": "stdout",
     "output_type": "stream",
     "text": [
      "You score 90.91 %\n",
      "I do not understand - which of these subjects would you like to try?\n",
      "Stave notation \n",
      "Interval training \n",
      "Transposition\n",
      "None\n",
      "What do you want to learn today?\n"
     ]
    },
    {
     "name": "stdin",
     "output_type": "stream",
     "text": [
      " stop\n"
     ]
    }
   ],
   "source": [
    "while True:\n",
    "    print ('What do you want to learn today?')\n",
    "    answer = input()\n",
    "    if answer == 'stop':\n",
    "        break\n",
    "    print (subjectSelect(answer))"
   ]
  },
  {
   "cell_type": "code",
   "execution_count": 28,
   "metadata": {},
   "outputs": [
    {
     "name": "stdout",
     "output_type": "stream",
     "text": [
      "Okay, here we go \n",
      " \n",
      " Which interval did you hear? Type any of the following (case sensitive): \n",
      " M3 P5 P8\n",
      "1 / 1\n",
      "combo: 1\n"
     ]
    },
    {
     "data": {
      "image/png": "[encoded data removed]",
      "text/plain": [
       "<IPython.core.display.Image object>"
      ]
     },
     "metadata": {
      "image/png": {
       "height": 36,
       "width": 223
      }
     },
     "output_type": "display_data"
    },
    {
     "name": "stdin",
     "output_type": "stream",
     "text": [
      " stop\n"
     ]
    },
    {
     "name": "stdout",
     "output_type": "stream",
     "text": [
      "You score 100.0 %\n"
     ]
    },
    {
     "data": {
      "text/html": [
       "<div>\n",
       "<style scoped>\n",
       "    .dataframe tbody tr th:only-of-type {\n",
       "        vertical-align: middle;\n",
       "    }\n",
       "\n",
       "    .dataframe tbody tr th {\n",
       "        vertical-align: top;\n",
       "    }\n",
       "\n",
       "    .dataframe thead th {\n",
       "        text-align: right;\n",
       "    }\n",
       "</style>\n",
       "<table border=\"1\" class=\"dataframe\">\n",
       "  <thead>\n",
       "    <tr style=\"text-align: right;\">\n",
       "      <th></th>\n",
       "      <th>label</th>\n",
       "      <th>difficulty</th>\n",
       "      <th>#_attempts</th>\n",
       "      <th>#_correct</th>\n",
       "      <th>probability</th>\n",
       "    </tr>\n",
       "  </thead>\n",
       "  <tbody>\n",
       "    <tr>\n",
       "      <th>0</th>\n",
       "      <td>M3</td>\n",
       "      <td>1</td>\n",
       "      <td>0</td>\n",
       "      <td>0</td>\n",
       "      <td>0.4</td>\n",
       "    </tr>\n",
       "    <tr>\n",
       "      <th>1</th>\n",
       "      <td>P5</td>\n",
       "      <td>1</td>\n",
       "      <td>0</td>\n",
       "      <td>0</td>\n",
       "      <td>0.4</td>\n",
       "    </tr>\n",
       "    <tr>\n",
       "      <th>2</th>\n",
       "      <td>P8</td>\n",
       "      <td>1</td>\n",
       "      <td>1</td>\n",
       "      <td>1</td>\n",
       "      <td>0.2</td>\n",
       "    </tr>\n",
       "  </tbody>\n",
       "</table>\n",
       "</div>"
      ],
      "text/plain": [
       "  label  difficulty  #_attempts  #_correct  probability\n",
       "0    M3           1           0          0          0.4\n",
       "1    P5           1           0          0          0.4\n",
       "2    P8           1           1          1          0.2"
      ]
     },
     "execution_count": 28,
     "metadata": {},
     "output_type": "execute_result"
    }
   ],
   "source": [
    "# intervalTraining(blind=False, difficulty='easy', down=True)"
   ]
  },
  {
   "cell_type": "markdown",
   "metadata": {},
   "source": [
    "_________"
   ]
  },
  {
   "cell_type": "code",
   "execution_count": 30,
   "metadata": {},
   "outputs": [
    {
     "name": "stdout",
     "output_type": "stream",
     "text": [
      "Note: you may need to restart the kernel to use updated packages.\n"
     ]
    }
   ],
   "source": [
    "pip freeze > requirements.txt"
   ]
  },
  {
   "cell_type": "code",
   "execution_count": 27,
   "metadata": {},
   "outputs": [],
   "source": [
    "def tutorModule(student=None):\n",
    "    \n",
    "    if student == None:\n",
    "        \n",
    "        print ('Hello, you must be new here. What is your name?')\n",
    "        name = input()\n",
    "        print ('Hello {} - what would you like to learn today?'.format(name))\n",
    "        print (modules)\n",
    "        subject = input()\n",
    "        \n",
    "        if subject == 'Notes on treble clef':\n",
    "            data = './q_folders/stave/'\n",
    "        else:\n",
    "            data = './q_folders/altoclef/'\n",
    "            \n",
    "        score = identificationOpen(data)\n",
    "        \n",
    "        if score < 0.5:\n",
    "            \n",
    "            identificationClosed(data)"
   ]
  },
  {
   "cell_type": "code",
   "execution_count": 34,
   "metadata": {},
   "outputs": [
    {
     "name": "stdout",
     "output_type": "stream",
     "text": [
      "Hello, you must be new here. What is your name?\n"
     ]
    },
    {
     "name": "stdin",
     "output_type": "stream",
     "text": [
      " stop\n"
     ]
    },
    {
     "name": "stdout",
     "output_type": "stream",
     "text": [
      "Hello stop - what would you like to learn today?\n"
     ]
    },
    {
     "ename": "NameError",
     "evalue": "name 'modules' is not defined",
     "output_type": "error",
     "traceback": [
      "\u001b[0;31m---------------------------------------------------------------------------\u001b[0m",
      "\u001b[0;31mNameError\u001b[0m                                 Traceback (most recent call last)",
      "\u001b[0;32m<ipython-input-34-e45ba4df695c>\u001b[0m in \u001b[0;36m<module>\u001b[0;34m\u001b[0m\n\u001b[0;32m----> 1\u001b[0;31m \u001b[0mtutorModule\u001b[0m\u001b[0;34m(\u001b[0m\u001b[0;34m)\u001b[0m\u001b[0;34m\u001b[0m\u001b[0;34m\u001b[0m\u001b[0m\n\u001b[0m",
      "\u001b[0;32m<ipython-input-32-65346815946e>\u001b[0m in \u001b[0;36mtutorModule\u001b[0;34m(student)\u001b[0m\n\u001b[1;32m      6\u001b[0m         \u001b[0mname\u001b[0m \u001b[0;34m=\u001b[0m \u001b[0minput\u001b[0m\u001b[0;34m(\u001b[0m\u001b[0;34m)\u001b[0m\u001b[0;34m\u001b[0m\u001b[0;34m\u001b[0m\u001b[0m\n\u001b[1;32m      7\u001b[0m         \u001b[0mprint\u001b[0m \u001b[0;34m(\u001b[0m\u001b[0;34m'Hello {} - what would you like to learn today?'\u001b[0m\u001b[0;34m.\u001b[0m\u001b[0mformat\u001b[0m\u001b[0;34m(\u001b[0m\u001b[0mname\u001b[0m\u001b[0;34m)\u001b[0m\u001b[0;34m)\u001b[0m\u001b[0;34m\u001b[0m\u001b[0;34m\u001b[0m\u001b[0m\n\u001b[0;32m----> 8\u001b[0;31m         \u001b[0mprint\u001b[0m \u001b[0;34m(\u001b[0m\u001b[0mmodules\u001b[0m\u001b[0;34m)\u001b[0m\u001b[0;34m\u001b[0m\u001b[0;34m\u001b[0m\u001b[0m\n\u001b[0m\u001b[1;32m      9\u001b[0m         \u001b[0msubject\u001b[0m \u001b[0;34m=\u001b[0m \u001b[0minput\u001b[0m\u001b[0;34m(\u001b[0m\u001b[0;34m)\u001b[0m\u001b[0;34m\u001b[0m\u001b[0;34m\u001b[0m\u001b[0m\n\u001b[1;32m     10\u001b[0m \u001b[0;34m\u001b[0m\u001b[0m\n",
      "\u001b[0;31mNameError\u001b[0m: name 'modules' is not defined"
     ]
    }
   ],
   "source": [
    "tutorModule()"
   ]
  },
  {
   "cell_type": "markdown",
   "metadata": {},
   "source": [
    "## notes on tutor module\n",
    "\n",
    "- work a stop mechanism into all methods that returns the final score (can even be a paramater, max number of q's to ask? so that it does not go on infinitely?)\n",
    "- get the bot to take the final percentage in (say below 50%) and choose a new method based on that?\n",
    "- could do it via variable 'finish', so if finish == True: return scoreCard and score/total? and that will decide next thing to do.\n",
    "- things such as max no of questions or a score boundary could decide if finished is true or not  "
   ]
  },
  {
   "cell_type": "code",
   "execution_count": 35,
   "metadata": {},
   "outputs": [],
   "source": [
    "# identificationClosed(data)"
   ]
  },
  {
   "cell_type": "code",
   "execution_count": 36,
   "metadata": {
    "jupyter": {
     "source_hidden": true
    }
   },
   "outputs": [],
   "source": [
    "def identificationOpen(data): \n",
    "    \n",
    "    #convert csv to dataframe\n",
    "    qs = pd.read_csv(data)\n",
    "    \n",
    "    #initialise score card \n",
    "    scoreCard(qs, init=True)\n",
    "    \n",
    "    score = 0\n",
    "    total = 0\n",
    "    combo = 0 \n",
    "\n",
    "    while True:\n",
    "        \n",
    "        clear_output(wait=True)\n",
    "\n",
    "        print ('Answer with letters A - G, type stop to end the game')\n",
    "        print (score, '/', total)\n",
    "        print ('combo:', combo)\n",
    "                \n",
    "        #check for init\n",
    "        if total == 0:\n",
    "            ex = random.randint(0,len(qs)-1)\n",
    "        \n",
    "        #ask again if they got last q wrong\n",
    "        elif combo == 0:\n",
    "            ex = ex \n",
    "           \n",
    "            \n",
    "        elif score/total < 0.8:\n",
    "            #interval up/down 1\n",
    "            ex = ex + np.random.choice(np.arange(-1, 2), p=[1/2, 0, 1/2])\n",
    "        else: \n",
    "            #draw from probabilities\n",
    "            ex = np.random.choice(qs.index.to_numpy(), p=qs['probability'])\n",
    "        \n",
    "        try:    \n",
    "            file, label = qs['pngfile'][ex], qs['label'][ex]  \n",
    "        except KeyError:\n",
    "            print ('There was a key error')\n",
    "            continue\n",
    "\n",
    "        print ('What note is this? \\n')\n",
    "\n",
    "        display(Image(filename='./q_folders/stave/' + file))\n",
    "\n",
    "        answer = input('')\n",
    "\n",
    "#         answer = qs['label'][ex]\n",
    "    \n",
    "        #noramlise text\n",
    "        answer = answer.upper()\n",
    "        answer = answer.strip()\n",
    "\n",
    "        if answer == label:\n",
    "            print (\"Well done!\")\n",
    "            score += 1\n",
    "            total += 1\n",
    "            combo += 1\n",
    "\n",
    "            scoreCard(qs, question=file, correct=True)\n",
    "            continue\n",
    "\n",
    "        if answer == 'STOP':\n",
    "            if total == 0:\n",
    "                return ('done')\n",
    "            else:\n",
    "                print ('You score', round(((score/total)*100), 2), '%')\n",
    "#                 return score\n",
    "                return scoreCard(qs, finished=True)\n",
    "\n",
    "        else:\n",
    "            print(\"incorrect, try again\")\n",
    "            total += 1\n",
    "            combo = 0\n",
    "            \n",
    "            scoreCard(qs, question=file, correct=False)\n",
    "\n",
    "#             return qs"
   ]
  },
  {
   "cell_type": "code",
   "execution_count": 38,
   "metadata": {},
   "outputs": [],
   "source": [
    "# intervalTraining(blind=True, difficulty='medium', down=False)"
   ]
  },
  {
   "cell_type": "markdown",
   "metadata": {},
   "source": [
    "<font color = 'red'> IMPORTANT teaching aspect: can it teach them what they are often mistaking some intervals for? This could be applicable to anything and perhaps work via the scoreCard function"
   ]
  },
  {
   "cell_type": "code",
   "execution_count": 39,
   "metadata": {},
   "outputs": [
    {
     "data": {
      "text/html": [
       "<div>\n",
       "<style scoped>\n",
       "    .dataframe tbody tr th:only-of-type {\n",
       "        vertical-align: middle;\n",
       "    }\n",
       "\n",
       "    .dataframe tbody tr th {\n",
       "        vertical-align: top;\n",
       "    }\n",
       "\n",
       "    .dataframe thead th {\n",
       "        text-align: right;\n",
       "    }\n",
       "</style>\n",
       "<table border=\"1\" class=\"dataframe\">\n",
       "  <thead>\n",
       "    <tr style=\"text-align: right;\">\n",
       "      <th></th>\n",
       "      <th>label</th>\n",
       "      <th>difficulty</th>\n",
       "    </tr>\n",
       "  </thead>\n",
       "  <tbody>\n",
       "    <tr>\n",
       "      <th>1</th>\n",
       "      <td>M3</td>\n",
       "      <td>1</td>\n",
       "    </tr>\n",
       "    <tr>\n",
       "      <th>2</th>\n",
       "      <td>P5</td>\n",
       "      <td>1</td>\n",
       "    </tr>\n",
       "    <tr>\n",
       "      <th>3</th>\n",
       "      <td>P8</td>\n",
       "      <td>1</td>\n",
       "    </tr>\n",
       "  </tbody>\n",
       "</table>\n",
       "</div>"
      ],
      "text/plain": [
       "  label  difficulty\n",
       "1    M3           1\n",
       "2    P5           1\n",
       "3    P8           1"
      ]
     },
     "execution_count": 39,
     "metadata": {},
     "output_type": "execute_result"
    }
   ],
   "source": [
    "qs = pd.read_csv('./q_folders/interval/labels.csv')\n",
    "qs#['interval']#.to_list()\n",
    "new = qs.loc[qs['difficulty'] == 1].reset_index(drop=True)\n",
    "new.index += 1\n",
    "new"
   ]
  },
  {
   "cell_type": "code",
   "execution_count": 40,
   "metadata": {},
   "outputs": [
    {
     "ename": "AttributeError",
     "evalue": "'DataFrame' object has no attribute 'interval'",
     "output_type": "error",
     "traceback": [
      "\u001b[0;31m---------------------------------------------------------------------------\u001b[0m",
      "\u001b[0;31mAttributeError\u001b[0m                            Traceback (most recent call last)",
      "\u001b[0;32m<ipython-input-40-bbe44a58b9be>\u001b[0m in \u001b[0;36m<module>\u001b[0;34m\u001b[0m\n\u001b[0;32m----> 1\u001b[0;31m \u001b[0mprint\u001b[0m\u001b[0;34m(\u001b[0m\u001b[0;34m'Which interval did you hear? Type any of the following: \\n'\u001b[0m\u001b[0;34m,\u001b[0m \u001b[0;34m*\u001b[0m\u001b[0mnew\u001b[0m\u001b[0;34m.\u001b[0m\u001b[0minterval\u001b[0m\u001b[0;34m.\u001b[0m\u001b[0mto_list\u001b[0m\u001b[0;34m(\u001b[0m\u001b[0;34m)\u001b[0m\u001b[0;34m)\u001b[0m\u001b[0;34m\u001b[0m\u001b[0;34m\u001b[0m\u001b[0m\n\u001b[0m",
      "\u001b[0;32m~/opt/anaconda3/lib/python3.8/site-packages/pandas/core/generic.py\u001b[0m in \u001b[0;36m__getattr__\u001b[0;34m(self, name)\u001b[0m\n\u001b[1;32m   5272\u001b[0m             \u001b[0;32mif\u001b[0m \u001b[0mself\u001b[0m\u001b[0;34m.\u001b[0m\u001b[0m_info_axis\u001b[0m\u001b[0;34m.\u001b[0m\u001b[0m_can_hold_identifiers_and_holds_name\u001b[0m\u001b[0;34m(\u001b[0m\u001b[0mname\u001b[0m\u001b[0;34m)\u001b[0m\u001b[0;34m:\u001b[0m\u001b[0;34m\u001b[0m\u001b[0;34m\u001b[0m\u001b[0m\n\u001b[1;32m   5273\u001b[0m                 \u001b[0;32mreturn\u001b[0m \u001b[0mself\u001b[0m\u001b[0;34m[\u001b[0m\u001b[0mname\u001b[0m\u001b[0;34m]\u001b[0m\u001b[0;34m\u001b[0m\u001b[0;34m\u001b[0m\u001b[0m\n\u001b[0;32m-> 5274\u001b[0;31m             \u001b[0;32mreturn\u001b[0m \u001b[0mobject\u001b[0m\u001b[0;34m.\u001b[0m\u001b[0m__getattribute__\u001b[0m\u001b[0;34m(\u001b[0m\u001b[0mself\u001b[0m\u001b[0;34m,\u001b[0m \u001b[0mname\u001b[0m\u001b[0;34m)\u001b[0m\u001b[0;34m\u001b[0m\u001b[0;34m\u001b[0m\u001b[0m\n\u001b[0m\u001b[1;32m   5275\u001b[0m \u001b[0;34m\u001b[0m\u001b[0m\n\u001b[1;32m   5276\u001b[0m     \u001b[0;32mdef\u001b[0m \u001b[0m__setattr__\u001b[0m\u001b[0;34m(\u001b[0m\u001b[0mself\u001b[0m\u001b[0;34m,\u001b[0m \u001b[0mname\u001b[0m\u001b[0;34m:\u001b[0m \u001b[0mstr\u001b[0m\u001b[0;34m,\u001b[0m \u001b[0mvalue\u001b[0m\u001b[0;34m)\u001b[0m \u001b[0;34m->\u001b[0m \u001b[0;32mNone\u001b[0m\u001b[0;34m:\u001b[0m\u001b[0;34m\u001b[0m\u001b[0;34m\u001b[0m\u001b[0m\n",
      "\u001b[0;31mAttributeError\u001b[0m: 'DataFrame' object has no attribute 'interval'"
     ]
    }
   ],
   "source": [
    "print('Which interval did you hear? Type any of the following: \\n', *new.interval.to_list())"
   ]
  },
  {
   "cell_type": "code",
   "execution_count": 41,
   "metadata": {},
   "outputs": [
    {
     "ename": "AttributeError",
     "evalue": "'DataFrame' object has no attribute 'interval'",
     "output_type": "error",
     "traceback": [
      "\u001b[0;31m---------------------------------------------------------------------------\u001b[0m",
      "\u001b[0;31mAttributeError\u001b[0m                            Traceback (most recent call last)",
      "\u001b[0;32m<ipython-input-41-f8cad112507e>\u001b[0m in \u001b[0;36m<module>\u001b[0;34m\u001b[0m\n\u001b[1;32m      1\u001b[0m \u001b[0;32mfor\u001b[0m \u001b[0mi\u001b[0m \u001b[0;32min\u001b[0m \u001b[0mrange\u001b[0m\u001b[0;34m(\u001b[0m\u001b[0mlen\u001b[0m\u001b[0;34m(\u001b[0m\u001b[0mnew\u001b[0m\u001b[0;34m)\u001b[0m\u001b[0;34m)\u001b[0m\u001b[0;34m:\u001b[0m\u001b[0;34m\u001b[0m\u001b[0;34m\u001b[0m\u001b[0m\n\u001b[0;32m----> 2\u001b[0;31m     \u001b[0mprint\u001b[0m \u001b[0;34m(\u001b[0m\u001b[0mnew\u001b[0m\u001b[0;34m.\u001b[0m\u001b[0mindex\u001b[0m\u001b[0;34m[\u001b[0m\u001b[0mi\u001b[0m\u001b[0;34m]\u001b[0m\u001b[0;34m,\u001b[0m \u001b[0mnew\u001b[0m\u001b[0;34m.\u001b[0m\u001b[0minterval\u001b[0m\u001b[0;34m[\u001b[0m\u001b[0mi\u001b[0m\u001b[0;34m]\u001b[0m\u001b[0;34m)\u001b[0m\u001b[0;34m\u001b[0m\u001b[0;34m\u001b[0m\u001b[0m\n\u001b[0m",
      "\u001b[0;32m~/opt/anaconda3/lib/python3.8/site-packages/pandas/core/generic.py\u001b[0m in \u001b[0;36m__getattr__\u001b[0;34m(self, name)\u001b[0m\n\u001b[1;32m   5272\u001b[0m             \u001b[0;32mif\u001b[0m \u001b[0mself\u001b[0m\u001b[0;34m.\u001b[0m\u001b[0m_info_axis\u001b[0m\u001b[0;34m.\u001b[0m\u001b[0m_can_hold_identifiers_and_holds_name\u001b[0m\u001b[0;34m(\u001b[0m\u001b[0mname\u001b[0m\u001b[0;34m)\u001b[0m\u001b[0;34m:\u001b[0m\u001b[0;34m\u001b[0m\u001b[0;34m\u001b[0m\u001b[0m\n\u001b[1;32m   5273\u001b[0m                 \u001b[0;32mreturn\u001b[0m \u001b[0mself\u001b[0m\u001b[0;34m[\u001b[0m\u001b[0mname\u001b[0m\u001b[0;34m]\u001b[0m\u001b[0;34m\u001b[0m\u001b[0;34m\u001b[0m\u001b[0m\n\u001b[0;32m-> 5274\u001b[0;31m             \u001b[0;32mreturn\u001b[0m \u001b[0mobject\u001b[0m\u001b[0;34m.\u001b[0m\u001b[0m__getattribute__\u001b[0m\u001b[0;34m(\u001b[0m\u001b[0mself\u001b[0m\u001b[0;34m,\u001b[0m \u001b[0mname\u001b[0m\u001b[0;34m)\u001b[0m\u001b[0;34m\u001b[0m\u001b[0;34m\u001b[0m\u001b[0m\n\u001b[0m\u001b[1;32m   5275\u001b[0m \u001b[0;34m\u001b[0m\u001b[0m\n\u001b[1;32m   5276\u001b[0m     \u001b[0;32mdef\u001b[0m \u001b[0m__setattr__\u001b[0m\u001b[0;34m(\u001b[0m\u001b[0mself\u001b[0m\u001b[0;34m,\u001b[0m \u001b[0mname\u001b[0m\u001b[0;34m:\u001b[0m \u001b[0mstr\u001b[0m\u001b[0;34m,\u001b[0m \u001b[0mvalue\u001b[0m\u001b[0;34m)\u001b[0m \u001b[0;34m->\u001b[0m \u001b[0;32mNone\u001b[0m\u001b[0;34m:\u001b[0m\u001b[0;34m\u001b[0m\u001b[0;34m\u001b[0m\u001b[0m\n",
      "\u001b[0;31mAttributeError\u001b[0m: 'DataFrame' object has no attribute 'interval'"
     ]
    }
   ],
   "source": [
    "for i in range(len(new)):\n",
    "    print (new.index[i], new.interval[i])"
   ]
  },
  {
   "cell_type": "code",
   "execution_count": 42,
   "metadata": {},
   "outputs": [
    {
     "ename": "AttributeError",
     "evalue": "'DataFrame' object has no attribute 'interval'",
     "output_type": "error",
     "traceback": [
      "\u001b[0;31m---------------------------------------------------------------------------\u001b[0m",
      "\u001b[0;31mAttributeError\u001b[0m                            Traceback (most recent call last)",
      "\u001b[0;32m<ipython-input-42-d160775fb2a1>\u001b[0m in \u001b[0;36m<module>\u001b[0;34m\u001b[0m\n\u001b[0;32m----> 1\u001b[0;31m \u001b[0mnew\u001b[0m\u001b[0;34m.\u001b[0m\u001b[0minterval\u001b[0m\u001b[0;34m\u001b[0m\u001b[0;34m\u001b[0m\u001b[0m\n\u001b[0m",
      "\u001b[0;32m~/opt/anaconda3/lib/python3.8/site-packages/pandas/core/generic.py\u001b[0m in \u001b[0;36m__getattr__\u001b[0;34m(self, name)\u001b[0m\n\u001b[1;32m   5272\u001b[0m             \u001b[0;32mif\u001b[0m \u001b[0mself\u001b[0m\u001b[0;34m.\u001b[0m\u001b[0m_info_axis\u001b[0m\u001b[0;34m.\u001b[0m\u001b[0m_can_hold_identifiers_and_holds_name\u001b[0m\u001b[0;34m(\u001b[0m\u001b[0mname\u001b[0m\u001b[0;34m)\u001b[0m\u001b[0;34m:\u001b[0m\u001b[0;34m\u001b[0m\u001b[0;34m\u001b[0m\u001b[0m\n\u001b[1;32m   5273\u001b[0m                 \u001b[0;32mreturn\u001b[0m \u001b[0mself\u001b[0m\u001b[0;34m[\u001b[0m\u001b[0mname\u001b[0m\u001b[0;34m]\u001b[0m\u001b[0;34m\u001b[0m\u001b[0;34m\u001b[0m\u001b[0m\n\u001b[0;32m-> 5274\u001b[0;31m             \u001b[0;32mreturn\u001b[0m \u001b[0mobject\u001b[0m\u001b[0;34m.\u001b[0m\u001b[0m__getattribute__\u001b[0m\u001b[0;34m(\u001b[0m\u001b[0mself\u001b[0m\u001b[0;34m,\u001b[0m \u001b[0mname\u001b[0m\u001b[0;34m)\u001b[0m\u001b[0;34m\u001b[0m\u001b[0;34m\u001b[0m\u001b[0m\n\u001b[0m\u001b[1;32m   5275\u001b[0m \u001b[0;34m\u001b[0m\u001b[0m\n\u001b[1;32m   5276\u001b[0m     \u001b[0;32mdef\u001b[0m \u001b[0m__setattr__\u001b[0m\u001b[0;34m(\u001b[0m\u001b[0mself\u001b[0m\u001b[0;34m,\u001b[0m \u001b[0mname\u001b[0m\u001b[0;34m:\u001b[0m \u001b[0mstr\u001b[0m\u001b[0;34m,\u001b[0m \u001b[0mvalue\u001b[0m\u001b[0;34m)\u001b[0m \u001b[0;34m->\u001b[0m \u001b[0;32mNone\u001b[0m\u001b[0;34m:\u001b[0m\u001b[0;34m\u001b[0m\u001b[0;34m\u001b[0m\u001b[0m\n",
      "\u001b[0;31mAttributeError\u001b[0m: 'DataFrame' object has no attribute 'interval'"
     ]
    }
   ],
   "source": [
    "new.interval"
   ]
  },
  {
   "cell_type": "markdown",
   "metadata": {},
   "source": [
    "## TODO:\n",
    "\n",
    "1. Should 'prompt' or 'feedback' be a constantly chagnging variable dependent on prev answer/the answer to the current q? Maybe they should both be variables. \n",
    "\n",
    "generateQ(data=(index or dataframe), init=None, range=None, probabilities=1d array)\n"
   ]
  },
  {
   "cell_type": "markdown",
   "metadata": {},
   "source": [
    "Interface: Make sure it gives some instant feedback \n",
    "\n",
    "Can it be smart choosing which intervals to go between?\n",
    "\n",
    "If a student is consistently struggling ask questions the system knows they got right to build confidence/change method or strategy. Conversely, if a student is doing really well start to challenge them more. \n",
    "\n",
    "Next step: start **teaching** as opposed to testing. Flash cards, mnemonic, prompts etc. \n",
    "\n"
   ]
  },
  {
   "cell_type": "code",
   "execution_count": 43,
   "metadata": {
    "jupyter": {
     "source_hidden": true
    }
   },
   "outputs": [],
   "source": [
    "def identificationOpen(data): \n",
    "    qs = pd.read_csv(data)\n",
    "    \n",
    "    qs['#_attempts'] = 1\n",
    "    qs['#_correct'] = 1\n",
    "    qs ['probability'] = qs['#_attempts'] / qs['#_correct']\n",
    "    qs['probability'] = qs['probability'] / qs['probability'].sum()\n",
    "    \n",
    "    score = 0\n",
    "    total = 0\n",
    "    combo = 0 \n",
    "\n",
    "    while True:\n",
    "        \n",
    "        clear_output(wait=True)\n",
    "\n",
    "        print ('Answer with letters A - G, type stop to end the game')\n",
    "        print (score, '/', total)\n",
    "        print ('combo:', combo)\n",
    "                \n",
    "        #check for init\n",
    "        if total == 0:\n",
    "            ex = random.randint(0,len(qs)-1)\n",
    "        \n",
    "        #ask again if they got last q wrong\n",
    "        elif combo == 0:\n",
    "            ex = ex \n",
    "            \n",
    "        #interval of no more than 1\n",
    "        elif score/total < 0.8:\n",
    "            ex = ex + np.random.choice(np.arange(-1, 2), p=[1/2, 0, 1/2])\n",
    "        else: \n",
    "            ex = np.random.choice(qs.index.to_numpy(), p=probabilities)\n",
    "        \n",
    "        try:    \n",
    "            file, label = qs['pngfile'][ex], qs['label'][ex]  \n",
    "        except KeyError:\n",
    "            print ('There was a key error')\n",
    "            continue\n",
    "\n",
    "        print ('What note is this? \\n')\n",
    "\n",
    "        display(Image(filename='./q_folders/stave/' + file))\n",
    "\n",
    "        answer = input('')\n",
    "\n",
    "#         answer = qs['label'][ex]\n",
    "    \n",
    "        #noramlise text\n",
    "        answer = answer.upper()\n",
    "        answer = answer.strip()\n",
    "\n",
    "        if answer == label:\n",
    "            print (\"Well done!\")\n",
    "            score += 1\n",
    "            total += 1\n",
    "            combo += 1\n",
    "\n",
    "            #correct\n",
    "            qs.loc[qs['pngfile'] == file, '#_attempts'] += 1\n",
    "            qs.loc[qs['pngfile'] == file, '#_correct'] += 1\n",
    "\n",
    "            #updates probabilities \n",
    "#             qs['probability'] = qs['#_attempts'] / qs['#_correct']\n",
    "            qs.loc[qs['pngfile'] == file, 'probability'] = (qs.loc[qs['pngfile'] == file, 'probability'] / 2)\n",
    "            qs['probability'] = qs['probability'] / qs['probability'].sum()\n",
    "            probabilities = qs['probability'].to_numpy()\n",
    "\n",
    "            continue\n",
    "\n",
    "        if answer == 'STOP':\n",
    "            if total == 0:\n",
    "                return ('done')\n",
    "            else:\n",
    "                print ('You score', round(((score/total)*100), 2), '%')\n",
    "#                 return score\n",
    "                return qs\n",
    "        else:\n",
    "            print(\"incorrect, try again\")\n",
    "            total += 1\n",
    "            combo = 0\n",
    "            \n",
    "            #incorrect\n",
    "            qs.loc[qs['pngfile'] == file, '#_attempts'] += 1\n",
    "            # qs.loc[qs['pngfile'] == file, '#_correct'] += 1\n",
    "\n",
    "            #updates probabilities \n",
    "            # qs ['probability'] = qs['#_attempts'] / qs['#_correct']\n",
    "            qs.loc[qs['pngfile'] == file, 'probability'] = (qs.loc[qs['pngfile'] == file, 'probability'] * 2)\n",
    "            qs['probability'] = qs['probability'] / qs['probability'].sum()\n",
    "            probabilities = qs['probability'].to_numpy()\n",
    "\n",
    "            \n",
    "#             return qs\n"
   ]
  },
  {
   "cell_type": "markdown",
   "metadata": {},
   "source": [
    "Below is also a detailed log of which questions were answered correctly and incorrectly which is constructed from the question table.  This data could be saved and used the next time the method is used for teaching and to contribute to the overall profile of the student. "
   ]
  },
  {
   "cell_type": "markdown",
   "metadata": {},
   "source": [
    "__________"
   ]
  },
  {
   "cell_type": "code",
   "execution_count": null,
   "metadata": {},
   "outputs": [],
   "source": [
    "def identificationClosed(data): \n",
    "    qs = pd.read_csv(data)\n",
    "\n",
    "    score = 0\n",
    "    total = 0\n",
    "    combo = 0 \n",
    "\n",
    "    while True:\n",
    "\n",
    "        clear_output(wait=True)\n",
    "\n",
    "        print (score, '/', total)\n",
    "                \n",
    "        #check for init\n",
    "        if total == 0:\n",
    "            ex = random.randint(0,len(qs)-1)\n",
    "        \n",
    "        #ask again if they got last q wrong\n",
    "        elif combo == 0:\n",
    "            ex = ex \n",
    "            \n",
    "        #interval of no more than 1\n",
    "        elif score/total < 0.8:\n",
    "            ex = ex + np.random.choice(np.arange(-1, 2), p=[1/2, 0, 1/2])\n",
    "        else: \n",
    "            ex = ex + np.random.choice(np.arange(-3, 4), p=[1/4, 1/4, 0, 0, 0, 1/4, 1/4])\n",
    "        \n",
    "        try:    \n",
    "            file, label = qs['pngfile'][ex], qs['label'][ex]  \n",
    "        except KeyError:\n",
    "            print ('There was a key error')\n",
    "            continue\n",
    "        \n",
    "        try:\n",
    "            print ('Is this note ' + label + ' or ' + qs['label'][ex + np.random.choice([1,3,5])])\n",
    "            \n",
    "        except KeyError:\n",
    "            print ('Is this note ' + label + ' or ' + qs['label'][ex - np.random.choice([1,3,5])])\n",
    "\n",
    "        display(Image(filename='./q_folders/stave/' + file))\n",
    "\n",
    "        answer = input('')\n",
    "\n",
    "#         answer = qs['label'][ex]\n",
    "    \n",
    "        #noramlise text\n",
    "        answer = answer.upper()\n",
    "        answer = answer.strip()\n",
    "\n",
    "        if answer == label:\n",
    "            print (\"Well done!\")\n",
    "            score += 1\n",
    "            total += 1\n",
    "            combo += 1\n",
    "            continue\n",
    "\n",
    "        if answer == 'STOP':\n",
    "            if total == 0:\n",
    "                return ('done')\n",
    "            else:\n",
    "                print ('You score', round(((score/total)*100), 2), '%')\n",
    "                return score\n",
    "        else:\n",
    "            print(\"incorrect, try again\")\n",
    "            total += 1\n",
    "            combo = 0\n",
    "            \n"
   ]
  },
  {
   "cell_type": "code",
   "execution_count": null,
   "metadata": {},
   "outputs": [],
   "source": [
    "data = './q_folders/stave/labels.csv'\n",
    "# method = identificationOpen\n",
    "identificationClosed(data)"
   ]
  },
  {
   "cell_type": "code",
   "execution_count": null,
   "metadata": {},
   "outputs": [],
   "source": [
    "qs = pd.read_csv(data)\n",
    "qs\n",
    "# len(qs)"
   ]
  },
  {
   "cell_type": "code",
   "execution_count": null,
   "metadata": {},
   "outputs": [],
   "source": [
    "import re\n",
    " \n",
    "# Function to check if a string\n",
    "# contains only special characters\n",
    "def onlySpecialCharacters(Str):\n",
    " \n",
    "    # Regex to check if a string contains\n",
    "    # only special characters\n",
    "    regex = r\"a-gA-g 0-9\\#\\b\"\n",
    " \n",
    "    # Compile the ReGex\n",
    "    p=re.compile(regex)\n",
    " \n",
    "    # If the string is empty\n",
    "    # then print No\n",
    "    if(len(Str) == 0):\n",
    "        print(\"No\")\n",
    "        return\n",
    " \n",
    "    # Print Yes If the string matches\n",
    "    # with the Regex\n",
    "    if(re.search(p, Str)):\n",
    "        print(\"Yes\")\n",
    "    else:\n",
    "        print(\"No\")\n",
    " \n",
    "\n",
    " \n",
    "# Given string str\n",
    "Str = \n",
    " \n",
    "# Function Call\n",
    "onlySpecialCharacters(Str)\n",
    " "
   ]
  },
  {
   "cell_type": "code",
   "execution_count": null,
   "metadata": {},
   "outputs": [],
   "source": []
  },
  {
   "cell_type": "code",
   "execution_count": null,
   "metadata": {},
   "outputs": [],
   "source": [
    "def answerCleanup(answer, regex, warning):\n",
    "    answer = answer.strip()\n",
    "    answer = answer.upper()\n",
    "\n",
    "    regex = r\"[a-gA-G 0-9\\#\\b]\"\n",
    "    p = re.compile(regex)\n",
    "    m = p.match(answer)\n",
    "    \n",
    "    if m:\n",
    "        return answer\n",
    "    else:\n",
    "        return warning"
   ]
  },
  {
   "cell_type": "code",
   "execution_count": null,
   "metadata": {},
   "outputs": [],
   "source": [
    "warning = 'Invalid character in answer. Only letters A-G allowed. Use # for sharp, lowercase b for flat.'\n",
    "answerCleanup('H', regex=\"[a-gA-G 0-9\\#\\b]\", warning=warning)"
   ]
  },
  {
   "cell_type": "code",
   "execution_count": null,
   "metadata": {},
   "outputs": [],
   "source": [
    "s = 'hello world'\n",
    "s.strip()"
   ]
  },
  {
   "cell_type": "markdown",
   "metadata": {},
   "source": [
    "Can you edit it so that it can keep a detailed track of progress (like a dataframe) and save?"
   ]
  }
 ],
 "metadata": {
  "kernelspec": {
   "display_name": "myenv",
   "language": "python",
   "name": "myenv"
  },
  "language_info": {
   "codemirror_mode": {
    "name": "ipython",
    "version": 3
   },
   "file_extension": ".py",
   "mimetype": "text/x-python",
   "name": "python",
   "nbconvert_exporter": "python",
   "pygments_lexer": "ipython3",
   "version": "3.8.3"
  }
 },
 "nbformat": 4,
 "nbformat_minor": 4
}
