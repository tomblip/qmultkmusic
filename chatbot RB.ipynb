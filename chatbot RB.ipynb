{
 "cells": [
  {
   "cell_type": "code",
   "execution_count": 2,
   "metadata": {},
   "outputs": [],
   "source": [
    "import nltk\n",
    "from nltk.stem.wordnet import WordNetLemmatizer\n",
    "# from nltk.stem import LancasterStemmer\n",
    "from nltk.stem import PorterStemmer"
   ]
  },
  {
   "cell_type": "code",
   "execution_count": 3,
   "metadata": {},
   "outputs": [],
   "source": [
    "Lem = WordNetLemmatizer()\n",
    "# lancaster = LancasterStemmer()\n",
    "porter = PorterStemmer()\n",
    "\n",
    "def preProcess(word):\n",
    "    word = Lem.lemmatize(word)\n",
    "    word = porter.stem(word)\n",
    "    return word"
   ]
  },
  {
   "cell_type": "code",
   "execution_count": 4,
   "metadata": {},
   "outputs": [],
   "source": [
    "def preProcessList(lst):\n",
    "    words = []\n",
    "    for word in lst:\n",
    "        word = preProcess(word)\n",
    "        words.append(word)\n",
    "        \n",
    "    return words"
   ]
  },
  {
   "cell_type": "code",
   "execution_count": 5,
   "metadata": {},
   "outputs": [],
   "source": [
    "stave_notation = ['notes', 'clef', 'reading', 'notation']\n",
    "interval = ['interval', 'distance', 'major', 'minor']\n",
    "\n",
    "subjects = [stave_notation, interval]"
   ]
  },
  {
   "cell_type": "code",
   "execution_count": 6,
   "metadata": {},
   "outputs": [],
   "source": [
    "stave_notation = preProcessList(stave_notation)\n",
    "interval = preProcessList(interval)"
   ]
  },
  {
   "cell_type": "code",
   "execution_count": 7,
   "metadata": {},
   "outputs": [
    {
     "data": {
      "text/plain": [
       "['note', 'clef', 'read', 'notat']"
      ]
     },
     "execution_count": 7,
     "metadata": {},
     "output_type": "execute_result"
    }
   ],
   "source": [
    "stave_notation"
   ]
  },
  {
   "cell_type": "code",
   "execution_count": 8,
   "metadata": {},
   "outputs": [
    {
     "data": {
      "text/plain": [
       "['interv', 'distanc', 'major', 'minor']"
      ]
     },
     "execution_count": 8,
     "metadata": {},
     "output_type": "execute_result"
    }
   ],
   "source": [
    "interval"
   ]
  },
  {
   "cell_type": "code",
   "execution_count": 9,
   "metadata": {},
   "outputs": [],
   "source": [
    "treble_clef = 'Okay, let\\'s do notes on the treble clef' \n",
    "interval_training = 'Okay, let\\'s do interval training'"
   ]
  },
  {
   "cell_type": "code",
   "execution_count": 10,
   "metadata": {},
   "outputs": [],
   "source": [
    "def respond(greeting):\n",
    "    tokens = greeting.split()\n",
    "    for token in tokens:\n",
    "        token = preProcess(token)\n",
    "        if token in stave_notation:\n",
    "            return treble_clef\n",
    "\n",
    "        if token in interval:\n",
    "            return interval_training\n",
    "        \n",
    "    print ('I do not understand - which of these subjects would you like to try?')\n",
    "    print ('Stave notation \\nInterval training')\n"
   ]
  },
  {
   "cell_type": "code",
   "execution_count": 11,
   "metadata": {},
   "outputs": [
    {
     "data": {
      "text/plain": [
       "\"Okay, let's do notes on the treble clef\""
      ]
     },
     "execution_count": 11,
     "metadata": {},
     "output_type": "execute_result"
    }
   ],
   "source": [
    "#can it respond to this?\n",
    "respond('i want to learn how to read notes')"
   ]
  },
  {
   "cell_type": "code",
   "execution_count": 12,
   "metadata": {},
   "outputs": [
    {
     "data": {
      "text/plain": [
       "\"Okay, let's do interval training\""
      ]
     },
     "execution_count": 12,
     "metadata": {},
     "output_type": "execute_result"
    }
   ],
   "source": [
    "#can it respond to this?\n",
    "respond('i want to learn how to hear intervals')"
   ]
  },
  {
   "cell_type": "code",
   "execution_count": 26,
   "metadata": {},
   "outputs": [
    {
     "name": "stdout",
     "output_type": "stream",
     "text": [
      "I do not understand - which of these subjects would you like to try?\n",
      "Stave notation \n",
      "Interval training\n"
     ]
    }
   ],
   "source": [
    "respond('lets do rhythm')"
   ]
  },
  {
   "cell_type": "markdown",
   "metadata": {},
   "source": [
    "_______"
   ]
  }
 ],
 "metadata": {
  "kernelspec": {
   "display_name": "myenv",
   "language": "python",
   "name": "myenv"
  },
  "language_info": {
   "codemirror_mode": {
    "name": "ipython",
    "version": 3
   },
   "file_extension": ".py",
   "mimetype": "text/x-python",
   "name": "python",
   "nbconvert_exporter": "python",
   "pygments_lexer": "ipython3",
   "version": "3.8.3"
  }
 },
 "nbformat": 4,
 "nbformat_minor": 4
}
